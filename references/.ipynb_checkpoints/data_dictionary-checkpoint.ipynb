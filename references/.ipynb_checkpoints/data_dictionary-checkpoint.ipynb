{
 "cells": [
  {
   "cell_type": "markdown",
   "metadata": {},
   "source": [
    "<p><a id=\"features_list\"></a></p>\n",
    "<h2>Features</h2>\n",
    "<hr />\n",
    "<p>The dataset consists of information on the buildings' structure and their legal ownership. Each row in the dataset represents a specific building in the region that was hit by the Nepal earthquake.</p>\n",
    "<p>There are 39 columns in the cleaned dataset, where the <code>building_id</code> column is a unique and random identifier. The remaining 38 features are described in the section below.</p>\n",
    "<p><a id=\"description\"></a></p>\n",
    "<h2>Description</h2>\n",
    "<ul>\n",
    "<li><code>district_id</code> (type: int): district in which building exists.</li>\n",
    "<li><code>vdcmun_id</code> (type: int): municipality in which building exists.</li>\n",
    "<li><code>ward_id</code> (type: int): ward in which building exists.</li>\n",
    "<li><code>count_floors_pre_eq</code> (type: int): number of floors in the building before the earthquake.</li>\n",
    "<li><code>age_building</code> (type: int): age of the building in years.</li>\n",
    "<li><code>plinth_area_sq_ft</code> (type: int):area of the building</li>\n",
    "<li><code>height_ft_pre_eq</code> (type: int): height of building measured in feet before the earthquake.</li>\n",
    "<li><code>land_surface_condition</code> (type: categorical): surface condition of the land where the building was built.</li>\n",
    "<li><code>foundation_type</code> (type: categorical): type of foundation used while building.</li>\n",
    "<li><code>roof_type</code> (type: categorical): type of roof used while building. </li>\n",
    "<li><code>ground_floor_type</code> (type: categorical): type of the ground floor. </li>\n",
    "<li><code>other_floor_type</code> (type: categorical): type of constructions used in higher than the ground floors (except of roof).</li>\n",
    "<li><code>position</code> (type: categorical): position of the building. </li>\n",
    "<li><code>plan_configuration</code> (type: categorical): building plan configuration. </li>\n",
    "<li><code>has_superstructure_adobe_mud</code> (type: binary): flag variable that indicates if the superstructure was made of Adobe/Mud.</li>\n",
    "<li><code>has_superstructure_mud_mortar_stone</code> (type: binary): flag variable that indicates if the superstructure was made of Mud Mortar - Stone.</li>\n",
    "<li><code>has_superstructure_stone_flag</code> (type: binary): flag variable that indicates if the superstructure was made of Stone.</li>\n",
    "<li><code>has_superstructure_cement_mortar_stone</code> (type: binary): flag variable that indicates if the superstructure was made of Cement Mortar - Stone.</li>\n",
    "<li><code>has_superstructure_mud_mortar_brick</code> (type: binary): flag variable that indicates if the superstructure was made of Mud Mortar - Brick.</li>\n",
    "<li><code>has_superstructure_cement_mortar_brick</code> (type: binary): flag variable that indicates if the superstructure was made of Cement Mortar - Brick.</li>\n",
    "<li><code>has_superstructure_timber</code> (type: binary): flag variable that indicates if the superstructure was made of Timber.</li>\n",
    "<li><code>has_superstructure_bamboo</code> (type: binary): flag variable that indicates if the superstructure was made of Bamboo.</li>\n",
    "<li><code>has_superstructure_rc_non_engineered</code> (type: binary): flag variable that indicates if the superstructure was made of non-engineered reinforced concrete.</li>\n",
    "<li><code>has_superstructure_rc_engineered</code> (type: binary): flag variable that indicates if the superstructure was made of engineered reinforced concrete.</li>\n",
    "<li><code>has_superstructure_other</code> (type: binary): flag variable that indicates if the superstructure was made of any other material.</li>\n",
    "<li><code>legal_ownership_status</code> (type: categorical): legal ownership status of the land where building was built. Possible values: public, private, institutional, other.</li>\n",
    "<li><code>count_families</code>  (type: int): number of families that live in the building.</li>\n",
    "<li><code>has_secondary_use</code> (type: binary): flag variable that indicates if the building was used for any secondary purpose.</li>\n",
    "<li><code>has_secondary_use_agriculture</code> (type: binary): flag variable that indicates if the building was used for agricultural purposes.</li>\n",
    "<li><code>has_secondary_use_hotel</code> (type: binary): flag variable that indicates if the building was used as a hotel.</li>\n",
    "<li><code>has_secondary_use_rental</code> (type: binary): flag variable that indicates if the building was used for rental purposes.</li>\n",
    "<li><code>has_secondary_use_institution</code> (type: binary): flag variable that indicates if the building was used as a location of any institution.</li>\n",
    "<li><code>has_secondary_use_school</code> (type: binary): flag variable that indicates if the building was used as a school.</li>\n",
    "<li><code>has_secondary_use_industry</code> (type: binary): flag variable that indicates if the building was used for industrial purposes.</li>\n",
    "<li><code>has_secondary_use_health_post</code> (type: binary): flag variable that indicates if the building was used as a health post.</li>\n",
    "<li><code>has_secondary_use_gov_office</code> (type: binary): flag variable that indicates if the building was used as a government office.</li>\n",
    "<li><code>has_secondary_use_use_police</code> (type: binary): flag variable that indicates if the building was used as a police station.</li>\n",
    "<li><code>has_secondary_use_other</code> (type: binary): flag variable that indicates if the building was secondarily used for other purposes.</li>\n",
    "</ul>\n",
    "<p><a id=\"features_eg\"></a></p>\n",
    "<div class=\"well\">\n"
   ]
  },
  {
   "cell_type": "markdown",
   "metadata": {},
   "source": [
    "<p><a id=\"features_list\"></a></p>\n",
    "<h2>Target</h2>\n",
    "<hr />\n",
    "\n",
    "damage_grade, which represents a level of damage to the building that was hit by the earthquake. There are 3 grades of the damage:\n",
    "\n",
    "<li> <code>1</code> represents low damage</li>\n",
    "<li> <code>2</code> represents a medium amount of damage</li>\n",
    "<li> <code>3</code> represents almost complete destruction</li>"
   ]
  },
  {
   "cell_type": "markdown",
   "metadata": {},
   "source": [
    "### Citations\n",
    "Driven Data \"Richter's Predictor: Modeling Earthquake Damage\" Available at: https://www.drivendata.org/competitions/57/nepal-earthquake/page/136/\n"
   ]
  },
  {
   "cell_type": "code",
   "execution_count": null,
   "metadata": {},
   "outputs": [],
   "source": []
  }
 ],
 "metadata": {
  "kernelspec": {
   "display_name": "python3 (nepal-env)",
   "language": "python",
   "name": "nepal-env"
  },
  "language_info": {
   "codemirror_mode": {
    "name": "ipython",
    "version": 3
   },
   "file_extension": ".py",
   "mimetype": "text/x-python",
   "name": "python",
   "nbconvert_exporter": "python",
   "pygments_lexer": "ipython3",
   "version": "3.7.7"
  }
 },
 "nbformat": 4,
 "nbformat_minor": 4
}
