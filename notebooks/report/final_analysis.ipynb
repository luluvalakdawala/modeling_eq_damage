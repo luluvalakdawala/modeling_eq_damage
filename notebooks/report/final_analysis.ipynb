{
 "cells": [
  {
   "cell_type": "markdown",
   "metadata": {},
   "source": [
    "# Analysis and Model for Predicting Earthquake Damage"
   ]
  },
  {
   "cell_type": "markdown",
   "metadata": {},
   "source": [
    "## Project Overview:\n",
    "\n",
    "On April 25th, 2015 Nepal was hit with an earthquake of magnitude 7.8 [Mw](https://en.wikipedia.org/wiki/Moment_magnitude_scale). It's effects were felt throughout Nepal and the surrounding regions of India, China and Bangladesh. Another major aftershock was felt on May 12th, 2015 with a magnitude of 7.3 Mw. \n",
    "\n",
    "This project investigates the features of buildings in the region of Nepal and aims at building a model that can predict the level of damage that was caused to the buildings during the 2015 earthquake. The findings from this study can be beneficial for reconstruction projects in the area and future construction projects can be guided in their choice of materials for buildings proposed in the region and surrounding areas. \n",
    "\n",
    " \n",
    "\n",
    "### Goals:\n",
    "\n",
    "This project aims to:\n",
    "- Investigate features of buildings in the region of Nepal to understand their relationship with the various degree of damage that was caused during the earthquake\n",
    "- Predict the level of damage to buildings caused by the earthquake based on aspects of building location and construction.\n",
    "- Understand the vulnerability of different building materials that are used in the region to alert architects and others involved in reconstruction or future construction projects\n",
    "\n",
    "\n",
    "\n",
    "### Definitions:\n",
    "\n",
    "- Damage Grade:\n",
    "    - Damage Grade refers to the overall degree of damage caused to the buildings. The value ranges from 1 to 3:\n",
    "        - Damage Grade 1: Relates to hairline or thin cracks in plaster on a few walls, damage to non structural parts like chimney, projecting cornices. Only architectural repairs needed. The load carrying capacity of the building is not reduced appreciably.\n",
    "        - Damage Grade 2: Refers to large or extensive cracks in most walls, collapse of small portion of non load-bearing walls. Load carrying capacity of structure is partially reduced and significant structural repairs are required.\n",
    "        - Damage Grade 3: Relates to total or near collapse of the buildings. Large gaps occur in walls, walls collapse, partial structural failure of floor/roof requiring reconstruction.\n",
    "        \n",
    "\n",
    "- Features:\n",
    "    - Features refer to the independent variables we choose for our model to help predict the status of the buildings\n",
    "    \n",
    "    \n",
    "- Target:\n",
    "    - Damage Grade is our target variable which our model aims to predict. The target values are 1, 2, or 3\n",
    "\n",
    "\n",
    "- Model:\n",
    "    - The term model referred to through this project is in reference to the various classification models built to predict the status of the buildings.\n",
    "    \n",
    "    \n",
    "    \n",
    "- Recall score:\n",
    "    - The metric used to compare the various models built. It is defined as the percent of correct results over the number of results that should have been returned. Recall score for Damage Grade 3 is computed for each model as this class is considered to be the most crucial to identify with the predictive models. The aim is to maximize this score.\n",
    "\n",
    "    \n",
    "### Data:\n",
    "\n",
    "The data used in this project is from the 2015 Nepal Earthquake Open Data Portal and can be found [here](https://eq2015.npc.gov.np/#/download).  From this link, we can find the files/tables that were used in this project:\n",
    "- Structural Data\n",
    "- Building ownership and use\n",
    "\n",
    "The data was collected through surveys by the Central Bureau of Statistics that work under the National Planning Commission Secretariat of Nepal. The survey is one of the largest post-disaster datasets ever collected, containing valuable information on earthquake impacts, household conditions, and socio-economic-demographic statistics. \n",
    "\n",
    "\n",
    "\n",
    "### Analysis Takeaways, Future Investigations and Recommendations:\n",
    "\n",
    "- Top predictive model was identified to be a Random Forest Classification Model\n",
    "- The model was able to predict class 3 (building belonging to damage grade 3 requiring reconstruction) with a recall rate of 67%\n",
    "- Our model showed very low variance based on its performance on our train, validation and test data, which gives us confidence in its generalizability.\n",
    "- Important features identified from the top model eastablish relationship between the the building parameters and the building vulnerability in the event of an earthquake (of magnitude 7.8 Mw).\n",
    "- The top features that increase the probability of a building to be classified as class 3 were identified to be:\n",
    "    - buildings having super structure made of mud, mortar or stone\n",
    "    - foundation of mud, mortar, stone or brick\n",
    "    - buildings in the district of Sindhupalchok (district id 23)\n",
    "- The top features that increase the probability of a building being classified as belonging to class 1 (requiring no major repairs) were:\n",
    "    - Ground floor of buildings made with reinforced concrete\n",
    "    - buildings in the region of Makwanpur (district id 31) and Okhaldhunga (district id 12)\n",
    "\n",
    "\n",
    "### Fututre Investigations:\n",
    "- From the identified important features from our current model further investigation can be conducted to establish relationship between the building features and the varrying damage grades. \n",
    "- Can a black box model such as a Neural Net give us better predictions for our 3 classes?\n",
    "- Can we build an app that takes in parameters of buildings in the region of Nepal and give us predictions regarding their potential vulnerability (damage grade)\n"
   ]
  },
  {
   "cell_type": "markdown",
   "metadata": {},
   "source": [
    "# Data Cleaning and Exploratory Data Analysis:"
   ]
  },
  {
   "cell_type": "markdown",
   "metadata": {},
   "source": [
    "**Note**: Through out this project random_state was set to 2015 for reproducibility purpose.\n",
    "\n",
    "## Get data:\n",
    "\n",
    "Firstly, to get the data downloaded, run the cell in [this notebook](../exploratory/get_data_scripts.ipynb).  It will retrieve the files from the Open Data Portal website, unzip the folder, and move the csvs retrieved to the data folder in this repository. "
   ]
  },
  {
   "cell_type": "code",
   "execution_count": 1,
   "metadata": {},
   "outputs": [],
   "source": [
    "%load_ext autoreload\n",
    "%autoreload 2"
   ]
  },
  {
   "cell_type": "markdown",
   "metadata": {},
   "source": [
    "## Imports"
   ]
  },
  {
   "cell_type": "code",
   "execution_count": 158,
   "metadata": {},
   "outputs": [],
   "source": [
    "import os, sys\n",
    "import numpy as np\n",
    "import pandas as pd\n",
    "import matplotlib.pyplot as plt\n",
    "import seaborn as sns\n",
    "%matplotlib inline\n",
    "import warnings\n",
    "warnings.filterwarnings('ignore')\n",
    "\n",
    "module_path = os.path.abspath(os.path.join(os.pardir, os.pardir))\n",
    "if module_path not in sys.path:\n",
    "    sys.path.append(module_path)\n",
    "\n",
    "from src import cleaning_functions as cfs\n",
    "from src import preprocessing_functions as pfs\n",
    "from src import modeling_functions as mfs\n",
    "from sklearn.model_selection import train_test_split, GridSearchCV\n",
    "import random\n",
    "from sklearn.preprocessing import OneHotEncoder\n",
    "from imblearn.under_sampling import RandomUnderSampler\n",
    "from sklearn.tree import DecisionTreeClassifier\n",
    "from sklearn.metrics import confusion_matrix, plot_confusion_matrix, classification_report\n",
    "from sklearn.ensemble import BaggingClassifier, RandomForestClassifier \n",
    "from sklearn.ensemble import ExtraTreesClassifier, GradientBoostingClassifier\n",
    "from tensorflow.keras.models import Sequential\n",
    "from tensorflow.keras.layers import Dense, Dropout\n",
    "from tensorflow.keras import regularizers\n",
    "from sklearn.model_selection import cross_val_score, cross_validate\n",
    "from sklearn.metrics import recall_score, f1_score, make_scorer\n",
    "from sklearn.linear_model import LogisticRegression\n",
    "from prettytable import PrettyTable\n",
    "import xgboost"
   ]
  },
  {
   "cell_type": "markdown",
   "metadata": {},
   "source": [
    "First, we load our raw files to inspect the feature set and target"
   ]
  },
  {
   "cell_type": "code",
   "execution_count": 3,
   "metadata": {},
   "outputs": [],
   "source": [
    "structure_df, ownership_df, ward_df = cfs.load_raw_files()"
   ]
  },
  {
   "cell_type": "code",
   "execution_count": 4,
   "metadata": {},
   "outputs": [
    {
     "data": {
      "text/html": [
       "<div>\n",
       "<style scoped>\n",
       "    .dataframe tbody tr th:only-of-type {\n",
       "        vertical-align: middle;\n",
       "    }\n",
       "\n",
       "    .dataframe tbody tr th {\n",
       "        vertical-align: top;\n",
       "    }\n",
       "\n",
       "    .dataframe thead th {\n",
       "        text-align: right;\n",
       "    }\n",
       "</style>\n",
       "<table border=\"1\" class=\"dataframe\">\n",
       "  <thead>\n",
       "    <tr style=\"text-align: right;\">\n",
       "      <th></th>\n",
       "      <th>building_id</th>\n",
       "      <th>district_id</th>\n",
       "      <th>vdcmun_id</th>\n",
       "      <th>ward_id</th>\n",
       "      <th>count_floors_pre_eq</th>\n",
       "      <th>count_floors_post_eq</th>\n",
       "      <th>age_building</th>\n",
       "      <th>plinth_area_sq_ft</th>\n",
       "      <th>height_ft_pre_eq</th>\n",
       "      <th>height_ft_post_eq</th>\n",
       "      <th>...</th>\n",
       "      <th>has_superstructure_mud_mortar_brick</th>\n",
       "      <th>has_superstructure_cement_mortar_brick</th>\n",
       "      <th>has_superstructure_timber</th>\n",
       "      <th>has_superstructure_bamboo</th>\n",
       "      <th>has_superstructure_rc_non_engineered</th>\n",
       "      <th>has_superstructure_rc_engineered</th>\n",
       "      <th>has_superstructure_other</th>\n",
       "      <th>condition_post_eq</th>\n",
       "      <th>damage_grade</th>\n",
       "      <th>technical_solution_proposed</th>\n",
       "    </tr>\n",
       "  </thead>\n",
       "  <tbody>\n",
       "    <tr>\n",
       "      <th>0</th>\n",
       "      <td>120101000011</td>\n",
       "      <td>12</td>\n",
       "      <td>1207</td>\n",
       "      <td>120703</td>\n",
       "      <td>1</td>\n",
       "      <td>1</td>\n",
       "      <td>9</td>\n",
       "      <td>288</td>\n",
       "      <td>9</td>\n",
       "      <td>9</td>\n",
       "      <td>...</td>\n",
       "      <td>0</td>\n",
       "      <td>0</td>\n",
       "      <td>0</td>\n",
       "      <td>1</td>\n",
       "      <td>0</td>\n",
       "      <td>0</td>\n",
       "      <td>0</td>\n",
       "      <td>Damaged-Used in risk</td>\n",
       "      <td>Grade 3</td>\n",
       "      <td>Major repair</td>\n",
       "    </tr>\n",
       "    <tr>\n",
       "      <th>1</th>\n",
       "      <td>120101000021</td>\n",
       "      <td>12</td>\n",
       "      <td>1207</td>\n",
       "      <td>120703</td>\n",
       "      <td>1</td>\n",
       "      <td>1</td>\n",
       "      <td>15</td>\n",
       "      <td>364</td>\n",
       "      <td>9</td>\n",
       "      <td>9</td>\n",
       "      <td>...</td>\n",
       "      <td>0</td>\n",
       "      <td>0</td>\n",
       "      <td>0</td>\n",
       "      <td>1</td>\n",
       "      <td>0</td>\n",
       "      <td>0</td>\n",
       "      <td>0</td>\n",
       "      <td>Damaged-Repaired and used</td>\n",
       "      <td>Grade 5</td>\n",
       "      <td>Reconstruction</td>\n",
       "    </tr>\n",
       "    <tr>\n",
       "      <th>2</th>\n",
       "      <td>120101000031</td>\n",
       "      <td>12</td>\n",
       "      <td>1207</td>\n",
       "      <td>120703</td>\n",
       "      <td>1</td>\n",
       "      <td>1</td>\n",
       "      <td>20</td>\n",
       "      <td>384</td>\n",
       "      <td>9</td>\n",
       "      <td>9</td>\n",
       "      <td>...</td>\n",
       "      <td>0</td>\n",
       "      <td>0</td>\n",
       "      <td>0</td>\n",
       "      <td>0</td>\n",
       "      <td>0</td>\n",
       "      <td>0</td>\n",
       "      <td>0</td>\n",
       "      <td>Damaged-Repaired and used</td>\n",
       "      <td>Grade 2</td>\n",
       "      <td>Minor repair</td>\n",
       "    </tr>\n",
       "    <tr>\n",
       "      <th>3</th>\n",
       "      <td>120101000041</td>\n",
       "      <td>12</td>\n",
       "      <td>1207</td>\n",
       "      <td>120703</td>\n",
       "      <td>1</td>\n",
       "      <td>1</td>\n",
       "      <td>20</td>\n",
       "      <td>312</td>\n",
       "      <td>9</td>\n",
       "      <td>9</td>\n",
       "      <td>...</td>\n",
       "      <td>0</td>\n",
       "      <td>0</td>\n",
       "      <td>0</td>\n",
       "      <td>0</td>\n",
       "      <td>0</td>\n",
       "      <td>0</td>\n",
       "      <td>0</td>\n",
       "      <td>Damaged-Repaired and used</td>\n",
       "      <td>Grade 2</td>\n",
       "      <td>Minor repair</td>\n",
       "    </tr>\n",
       "    <tr>\n",
       "      <th>4</th>\n",
       "      <td>120101000051</td>\n",
       "      <td>12</td>\n",
       "      <td>1207</td>\n",
       "      <td>120703</td>\n",
       "      <td>1</td>\n",
       "      <td>1</td>\n",
       "      <td>30</td>\n",
       "      <td>308</td>\n",
       "      <td>9</td>\n",
       "      <td>9</td>\n",
       "      <td>...</td>\n",
       "      <td>0</td>\n",
       "      <td>0</td>\n",
       "      <td>0</td>\n",
       "      <td>0</td>\n",
       "      <td>0</td>\n",
       "      <td>0</td>\n",
       "      <td>0</td>\n",
       "      <td>Damaged-Repaired and used</td>\n",
       "      <td>Grade 1</td>\n",
       "      <td>Minor repair</td>\n",
       "    </tr>\n",
       "  </tbody>\n",
       "</table>\n",
       "<p>5 rows × 31 columns</p>\n",
       "</div>"
      ],
      "text/plain": [
       "    building_id  district_id  vdcmun_id  ward_id  count_floors_pre_eq  \\\n",
       "0  120101000011           12       1207   120703                    1   \n",
       "1  120101000021           12       1207   120703                    1   \n",
       "2  120101000031           12       1207   120703                    1   \n",
       "3  120101000041           12       1207   120703                    1   \n",
       "4  120101000051           12       1207   120703                    1   \n",
       "\n",
       "   count_floors_post_eq  age_building  plinth_area_sq_ft  height_ft_pre_eq  \\\n",
       "0                     1             9                288                 9   \n",
       "1                     1            15                364                 9   \n",
       "2                     1            20                384                 9   \n",
       "3                     1            20                312                 9   \n",
       "4                     1            30                308                 9   \n",
       "\n",
       "   height_ft_post_eq  ... has_superstructure_mud_mortar_brick  \\\n",
       "0                  9  ...                                   0   \n",
       "1                  9  ...                                   0   \n",
       "2                  9  ...                                   0   \n",
       "3                  9  ...                                   0   \n",
       "4                  9  ...                                   0   \n",
       "\n",
       "  has_superstructure_cement_mortar_brick has_superstructure_timber  \\\n",
       "0                                      0                         0   \n",
       "1                                      0                         0   \n",
       "2                                      0                         0   \n",
       "3                                      0                         0   \n",
       "4                                      0                         0   \n",
       "\n",
       "  has_superstructure_bamboo has_superstructure_rc_non_engineered  \\\n",
       "0                         1                                    0   \n",
       "1                         1                                    0   \n",
       "2                         0                                    0   \n",
       "3                         0                                    0   \n",
       "4                         0                                    0   \n",
       "\n",
       "  has_superstructure_rc_engineered has_superstructure_other  \\\n",
       "0                                0                        0   \n",
       "1                                0                        0   \n",
       "2                                0                        0   \n",
       "3                                0                        0   \n",
       "4                                0                        0   \n",
       "\n",
       "           condition_post_eq  damage_grade  technical_solution_proposed  \n",
       "0       Damaged-Used in risk       Grade 3                 Major repair  \n",
       "1  Damaged-Repaired and used       Grade 5               Reconstruction  \n",
       "2  Damaged-Repaired and used       Grade 2                 Minor repair  \n",
       "3  Damaged-Repaired and used       Grade 2                 Minor repair  \n",
       "4  Damaged-Repaired and used       Grade 1                 Minor repair  \n",
       "\n",
       "[5 rows x 31 columns]"
      ]
     },
     "execution_count": 4,
     "metadata": {},
     "output_type": "execute_result"
    }
   ],
   "source": [
    "structure_df.head()"
   ]
  },
  {
   "cell_type": "code",
   "execution_count": 19,
   "metadata": {},
   "outputs": [
    {
     "name": "stdout",
     "output_type": "stream",
     "text": [
      "Shape of structure_df:  (762106, 31)\n",
      "Number of unique districts:  11\n",
      "Number of unique municipalities:  110\n",
      "Number of unique wards:  945\n"
     ]
    }
   ],
   "source": [
    "print('Shape of structure_df: ', structure_df.shape)\n",
    "print('Number of unique districts: ', len(structure_df.district_id.unique()))\n",
    "print('Number of unique municipalities: ', len(structure_df.vdcmun_id.unique()))\n",
    "print('Number of unique wards: ', len(structure_df.ward_id.unique()))"
   ]
  },
  {
   "cell_type": "markdown",
   "metadata": {},
   "source": [
    "The main dataframe containing building parameters has `762106` datapoints relating to each unique building in the 11 most affected districts in Nepal.\n",
    "\n",
    "First four columns relate to:\n",
    "1) Unique building ids (762106 unique buildings)\n",
    "\n",
    "2) District ids (11 districts)\n",
    "\n",
    "3) Municipality ids (110 municipalities)\n",
    "\n",
    "4) Ward ids (945 wards)"
   ]
  },
  {
   "cell_type": "markdown",
   "metadata": {},
   "source": [
    "The remaining features relate to building information, the characteristics of the buildings with regards to their size, age, construction material and their behaviour after the impact of the earthquake."
   ]
  },
  {
   "cell_type": "code",
   "execution_count": 9,
   "metadata": {
    "scrolled": true
   },
   "outputs": [
    {
     "name": "stdout",
     "output_type": "stream",
     "text": [
      "Unique values for count_floors_pre_eq are :  [1 2 3 4 9 5 6 7 8]\n",
      "Number of nulls for count_floors_pre_eq are :  0\n",
      "===========================================================================\n",
      "Unique values for count_floors_post_eq are :  [1 0 2 3 4 9 5 6 8 7]\n",
      "Number of nulls for count_floors_post_eq are :  0\n",
      "===========================================================================\n",
      "Unique values for age_building are :  [  9  15  20  30  18  13   8  22  10   3   2   7  50  29  25  14  23  40\n",
      "   1  82  35  60  45  11  32  16  27  12  65  33   4  24  47  99   5  70\n",
      "  80  44  75  21   6  17  58  57  19  26  28  95  90  71  55  39  48  42\n",
      "  85   0  38  52  56  59  84  46  68 105  51  41  62  61  36  34  78 100\n",
      "  54  72  31  43  37  49  81  53  69 187 999  66  63 102  87  79 140  88\n",
      "  64 120  93 115  86 130 160  92  77  73  67  83  76 101 110 176  74 200\n",
      " 190 150 111 119  96  98  94  91  89 125 167  97 123 103 180 112 133 116\n",
      " 145 114 121 144 108 122 155 172 132 131 106 148 113 109 165 118 117 107\n",
      " 170 104 162 152 127 151 146 196 126 175 138 141 178 128 149 164 199 135\n",
      " 166 168 156 161 142 185 173 136 177 174 124 134 193 195]\n",
      "Number of nulls for age_building are :  0\n",
      "===========================================================================\n",
      "Unique values for plinth_area_sq_ft are :  [ 288  364  384 ... 1349 4242 2247]\n",
      "Number of nulls for plinth_area_sq_ft are :  0\n",
      "===========================================================================\n",
      "Unique values for height_ft_pre_eq are :  [ 9 21 19 12 15 17  7 16 14  6 10 24 18 20  8 32 22 27 11 13 25 34 23 26\n",
      " 30 28 35 36 60 56 50 45 44 40 48 54 33 55 29 43 31 78 38 41 51 70 37 85\n",
      " 42 96 49 65 46 66 57 67 75 47 68 58 80 64 63 76 39 99 72 90 52 77 74 95\n",
      " 71 81 97 93 59 89 61]\n",
      "Number of nulls for height_ft_pre_eq are :  0\n",
      "===========================================================================\n",
      "Unique values for height_ft_post_eq are :  [ 9  0 21 19 12 15 17  7 16 14  6 10 24 18 20  8 32 22 27 13 11 41 25 23\n",
      " 26 30 28 35 48 50 55 36 60 56 45 44 40 54 33 34 29 46 43 31 47 97 76 37\n",
      " 38 51 75 80 42 73 52 70 85 65 66 57 67 68 58 64 63 72 39 49 77 90 71 78\n",
      " 99 95 59 81 87 61 96 82]\n",
      "Number of nulls for height_ft_post_eq are :  0\n",
      "===========================================================================\n",
      "Unique values for land_surface_condition are :  ['Flat' 'Moderate slope' 'Steep slope']\n",
      "Number of nulls for land_surface_condition are :  0\n",
      "===========================================================================\n",
      "Unique values for foundation_type are :  ['Other' 'Mud mortar-Stone/Brick' 'Cement-Stone/Brick' 'Bamboo/Timber'\n",
      " 'RC']\n",
      "Number of nulls for foundation_type are :  0\n",
      "===========================================================================\n",
      "Unique values for roof_type are :  ['Bamboo/Timber-Light roof' 'Bamboo/Timber-Heavy roof' 'RCC/RB/RBC']\n",
      "Number of nulls for roof_type are :  0\n",
      "===========================================================================\n",
      "Unique values for ground_floor_type are :  ['Mud' 'Brick/Stone' 'RC' 'Timber' 'Other']\n",
      "Number of nulls for ground_floor_type are :  0\n",
      "===========================================================================\n",
      "Unique values for other_floor_type are :  ['Not applicable' 'TImber/Bamboo-Mud' 'Timber-Planck' 'RCC/RB/RBC']\n",
      "Number of nulls for other_floor_type are :  0\n",
      "===========================================================================\n",
      "Unique values for position are :  ['Not attached' 'Attached-1 side' 'Attached-2 side' 'Attached-3 side' nan]\n",
      "Number of nulls for position are :  1\n",
      "===========================================================================\n",
      "Unique values for plan_configuration are :  ['Rectangular' 'L-shape' 'Square' 'T-shape' 'Multi-projected' 'H-shape'\n",
      " 'U-shape' 'Others' 'E-shape' 'Building with Central Courtyard' nan]\n",
      "Number of nulls for plan_configuration are :  1\n",
      "===========================================================================\n",
      "Unique values for has_superstructure_adobe_mud are :  [0 1]\n",
      "Number of nulls for has_superstructure_adobe_mud are :  0\n",
      "===========================================================================\n",
      "Unique values for has_superstructure_mud_mortar_stone are :  [1 0]\n",
      "Number of nulls for has_superstructure_mud_mortar_stone are :  0\n",
      "===========================================================================\n",
      "Unique values for has_superstructure_stone_flag are :  [0 1]\n",
      "Number of nulls for has_superstructure_stone_flag are :  0\n",
      "===========================================================================\n",
      "Unique values for has_superstructure_cement_mortar_stone are :  [0 1]\n",
      "Number of nulls for has_superstructure_cement_mortar_stone are :  0\n",
      "===========================================================================\n",
      "Unique values for has_superstructure_mud_mortar_brick are :  [0 1]\n",
      "Number of nulls for has_superstructure_mud_mortar_brick are :  0\n",
      "===========================================================================\n",
      "Unique values for has_superstructure_cement_mortar_brick are :  [0 1]\n",
      "Number of nulls for has_superstructure_cement_mortar_brick are :  0\n",
      "===========================================================================\n",
      "Unique values for has_superstructure_timber are :  [0 1]\n",
      "Number of nulls for has_superstructure_timber are :  0\n",
      "===========================================================================\n",
      "Unique values for has_superstructure_bamboo are :  [1 0]\n",
      "Number of nulls for has_superstructure_bamboo are :  0\n",
      "===========================================================================\n",
      "Unique values for has_superstructure_rc_non_engineered are :  [0 1]\n",
      "Number of nulls for has_superstructure_rc_non_engineered are :  0\n",
      "===========================================================================\n",
      "Unique values for has_superstructure_rc_engineered are :  [0 1]\n",
      "Number of nulls for has_superstructure_rc_engineered are :  0\n",
      "===========================================================================\n",
      "Unique values for has_superstructure_other are :  [0 1]\n",
      "Number of nulls for has_superstructure_other are :  0\n",
      "===========================================================================\n",
      "Unique values for condition_post_eq are :  ['Damaged-Used in risk' 'Damaged-Repaired and used'\n",
      " 'Damaged-Rubble unclear' 'Not damaged' 'Damaged-Not used'\n",
      " 'Damaged-Rubble clear' 'Damaged-Rubble Clear-New building built'\n",
      " 'Covered by landslide']\n",
      "Number of nulls for condition_post_eq are :  0\n",
      "===========================================================================\n",
      "Unique values for damage_grade are :  ['Grade 3' 'Grade 5' 'Grade 2' 'Grade 1' 'Grade 4' nan]\n",
      "Number of nulls for damage_grade are :  12\n",
      "===========================================================================\n",
      "Unique values for technical_solution_proposed are :  ['Major repair' 'Reconstruction' 'Minor repair' 'No need' nan]\n",
      "Number of nulls for technical_solution_proposed are :  12\n",
      "===========================================================================\n"
     ]
    }
   ],
   "source": [
    "structure_columns = structure_df.columns[4:]\n",
    "for col in structure_columns:\n",
    "    cfs.structure_df_unique_values(col)"
   ]
  },
  {
   "cell_type": "markdown",
   "metadata": {},
   "source": [
    "Majority of our features are categorical. Some Nan values are observed \n",
    "\n",
    "The last three features `damage_grade`, `condition_post_earthquake`, and `technical_solution_proposed` are correlated. \n",
    "\n",
    "While trying to the gauge the relation between these three columns, `damage_grade` and `technical_solution_proposed` hinted towards a clear sub classifiction"
   ]
  },
  {
   "cell_type": "code",
   "execution_count": 44,
   "metadata": {},
   "outputs": [
    {
     "data": {
      "text/plain": [
       "2    Grade 2\n",
       "3    Grade 2\n",
       "4    Grade 1\n",
       "5    Grade 2\n",
       "7    Grade 2\n",
       "Name: damage_grade, dtype: object"
      ]
     },
     "execution_count": 44,
     "metadata": {},
     "output_type": "execute_result"
    }
   ],
   "source": [
    "structure_df[structure_df['technical_solution_proposed'] == 'Minor repair']['damage_grade'][:5]"
   ]
  },
  {
   "cell_type": "code",
   "execution_count": 45,
   "metadata": {},
   "outputs": [
    {
     "data": {
      "text/plain": [
       "0     Grade 3\n",
       "8     Grade 3\n",
       "9     Grade 3\n",
       "16    Grade 3\n",
       "18    Grade 3\n",
       "Name: damage_grade, dtype: object"
      ]
     },
     "execution_count": 45,
     "metadata": {},
     "output_type": "execute_result"
    }
   ],
   "source": [
    "structure_df[structure_df['technical_solution_proposed'] == 'Major repair']['damage_grade'][:5]"
   ]
  },
  {
   "cell_type": "code",
   "execution_count": 46,
   "metadata": {},
   "outputs": [
    {
     "data": {
      "text/plain": [
       "1     Grade 5\n",
       "6     Grade 5\n",
       "39    Grade 5\n",
       "44    Grade 5\n",
       "50    Grade 4\n",
       "Name: damage_grade, dtype: object"
      ]
     },
     "execution_count": 46,
     "metadata": {},
     "output_type": "execute_result"
    }
   ],
   "source": [
    "structure_df[structure_df['technical_solution_proposed'] == 'Reconstruction']['damage_grade'][:5]"
   ]
  },
  {
   "cell_type": "markdown",
   "metadata": {},
   "source": [
    "`damage_grade 1` and `damage_grade 2` correspond to *minor repairs*\n",
    "\n",
    "`damage_grade 3` corresponds to *major repairs*\n",
    "\n",
    "`damage_grade 4` and `damage_grade 5` correspond to *reconstruction*\n",
    "\n",
    "Here's when we decide to bin *damage_grade* into three classes:\n",
    "\n",
    "`class 1` = no repairs or `minor repairs`\n",
    "\n",
    "`class 2` = `major repairs`\n",
    "\n",
    "`class 3` = `reconstruction`"
   ]
  },
  {
   "cell_type": "code",
   "execution_count": 24,
   "metadata": {},
   "outputs": [],
   "source": [
    "structure_df['target'] = structure_df.damage_grade.map({'Grade 1': 1, 'Grade 2': 1,\n",
    "                                                        'Grade 3': 2,\n",
    "                                                        'Grade 4': 3, 'Grade 5': 3})"
   ]
  },
  {
   "cell_type": "markdown",
   "metadata": {},
   "source": [
    "#### Visualizing the building counts belonging to the three damage grade classes"
   ]
  },
  {
   "cell_type": "markdown",
   "metadata": {},
   "source": [
    "![damage grades](../../report/figures/building_damage_grades.png)"
   ]
  },
  {
   "cell_type": "markdown",
   "metadata": {},
   "source": [
    "About 60% of the buildings in our dataset belong to the reconstruction class, while the remaining 40% are divided between the grade 1 and grade 2 class."
   ]
  },
  {
   "cell_type": "markdown",
   "metadata": {},
   "source": [
    "Inspecting `ownership_df`"
   ]
  },
  {
   "cell_type": "code",
   "execution_count": 26,
   "metadata": {},
   "outputs": [
    {
     "data": {
      "text/plain": [
       "(762106, 17)"
      ]
     },
     "execution_count": 26,
     "metadata": {},
     "output_type": "execute_result"
    }
   ],
   "source": [
    "ownership_df.shape"
   ]
  },
  {
   "cell_type": "code",
   "execution_count": 27,
   "metadata": {},
   "outputs": [
    {
     "data": {
      "text/html": [
       "<div>\n",
       "<style scoped>\n",
       "    .dataframe tbody tr th:only-of-type {\n",
       "        vertical-align: middle;\n",
       "    }\n",
       "\n",
       "    .dataframe tbody tr th {\n",
       "        vertical-align: top;\n",
       "    }\n",
       "\n",
       "    .dataframe thead th {\n",
       "        text-align: right;\n",
       "    }\n",
       "</style>\n",
       "<table border=\"1\" class=\"dataframe\">\n",
       "  <thead>\n",
       "    <tr style=\"text-align: right;\">\n",
       "      <th></th>\n",
       "      <th>building_id</th>\n",
       "      <th>district_id</th>\n",
       "      <th>vdcmun_id</th>\n",
       "      <th>ward_id</th>\n",
       "      <th>legal_ownership_status</th>\n",
       "      <th>count_families</th>\n",
       "      <th>has_secondary_use</th>\n",
       "      <th>has_secondary_use_agriculture</th>\n",
       "      <th>has_secondary_use_hotel</th>\n",
       "      <th>has_secondary_use_rental</th>\n",
       "      <th>has_secondary_use_institution</th>\n",
       "      <th>has_secondary_use_school</th>\n",
       "      <th>has_secondary_use_industry</th>\n",
       "      <th>has_secondary_use_health_post</th>\n",
       "      <th>has_secondary_use_gov_office</th>\n",
       "      <th>has_secondary_use_use_police</th>\n",
       "      <th>has_secondary_use_other</th>\n",
       "    </tr>\n",
       "  </thead>\n",
       "  <tbody>\n",
       "    <tr>\n",
       "      <th>0</th>\n",
       "      <td>120101000011</td>\n",
       "      <td>12</td>\n",
       "      <td>1207</td>\n",
       "      <td>120703</td>\n",
       "      <td>Private</td>\n",
       "      <td>1.0</td>\n",
       "      <td>0.0</td>\n",
       "      <td>0</td>\n",
       "      <td>0</td>\n",
       "      <td>0</td>\n",
       "      <td>0</td>\n",
       "      <td>0</td>\n",
       "      <td>0</td>\n",
       "      <td>0</td>\n",
       "      <td>0</td>\n",
       "      <td>0</td>\n",
       "      <td>0</td>\n",
       "    </tr>\n",
       "    <tr>\n",
       "      <th>1</th>\n",
       "      <td>120101000021</td>\n",
       "      <td>12</td>\n",
       "      <td>1207</td>\n",
       "      <td>120703</td>\n",
       "      <td>Private</td>\n",
       "      <td>1.0</td>\n",
       "      <td>0.0</td>\n",
       "      <td>0</td>\n",
       "      <td>0</td>\n",
       "      <td>0</td>\n",
       "      <td>0</td>\n",
       "      <td>0</td>\n",
       "      <td>0</td>\n",
       "      <td>0</td>\n",
       "      <td>0</td>\n",
       "      <td>0</td>\n",
       "      <td>0</td>\n",
       "    </tr>\n",
       "    <tr>\n",
       "      <th>2</th>\n",
       "      <td>120101000031</td>\n",
       "      <td>12</td>\n",
       "      <td>1207</td>\n",
       "      <td>120703</td>\n",
       "      <td>Private</td>\n",
       "      <td>1.0</td>\n",
       "      <td>0.0</td>\n",
       "      <td>0</td>\n",
       "      <td>0</td>\n",
       "      <td>0</td>\n",
       "      <td>0</td>\n",
       "      <td>0</td>\n",
       "      <td>0</td>\n",
       "      <td>0</td>\n",
       "      <td>0</td>\n",
       "      <td>0</td>\n",
       "      <td>0</td>\n",
       "    </tr>\n",
       "    <tr>\n",
       "      <th>3</th>\n",
       "      <td>120101000041</td>\n",
       "      <td>12</td>\n",
       "      <td>1207</td>\n",
       "      <td>120703</td>\n",
       "      <td>Private</td>\n",
       "      <td>1.0</td>\n",
       "      <td>0.0</td>\n",
       "      <td>0</td>\n",
       "      <td>0</td>\n",
       "      <td>0</td>\n",
       "      <td>0</td>\n",
       "      <td>0</td>\n",
       "      <td>0</td>\n",
       "      <td>0</td>\n",
       "      <td>0</td>\n",
       "      <td>0</td>\n",
       "      <td>0</td>\n",
       "    </tr>\n",
       "    <tr>\n",
       "      <th>4</th>\n",
       "      <td>120101000051</td>\n",
       "      <td>12</td>\n",
       "      <td>1207</td>\n",
       "      <td>120703</td>\n",
       "      <td>Private</td>\n",
       "      <td>1.0</td>\n",
       "      <td>0.0</td>\n",
       "      <td>0</td>\n",
       "      <td>0</td>\n",
       "      <td>0</td>\n",
       "      <td>0</td>\n",
       "      <td>0</td>\n",
       "      <td>0</td>\n",
       "      <td>0</td>\n",
       "      <td>0</td>\n",
       "      <td>0</td>\n",
       "      <td>0</td>\n",
       "    </tr>\n",
       "  </tbody>\n",
       "</table>\n",
       "</div>"
      ],
      "text/plain": [
       "    building_id  district_id  vdcmun_id  ward_id legal_ownership_status  \\\n",
       "0  120101000011           12       1207   120703                Private   \n",
       "1  120101000021           12       1207   120703                Private   \n",
       "2  120101000031           12       1207   120703                Private   \n",
       "3  120101000041           12       1207   120703                Private   \n",
       "4  120101000051           12       1207   120703                Private   \n",
       "\n",
       "   count_families  has_secondary_use  has_secondary_use_agriculture  \\\n",
       "0             1.0                0.0                              0   \n",
       "1             1.0                0.0                              0   \n",
       "2             1.0                0.0                              0   \n",
       "3             1.0                0.0                              0   \n",
       "4             1.0                0.0                              0   \n",
       "\n",
       "   has_secondary_use_hotel  has_secondary_use_rental  \\\n",
       "0                        0                         0   \n",
       "1                        0                         0   \n",
       "2                        0                         0   \n",
       "3                        0                         0   \n",
       "4                        0                         0   \n",
       "\n",
       "   has_secondary_use_institution  has_secondary_use_school  \\\n",
       "0                              0                         0   \n",
       "1                              0                         0   \n",
       "2                              0                         0   \n",
       "3                              0                         0   \n",
       "4                              0                         0   \n",
       "\n",
       "   has_secondary_use_industry  has_secondary_use_health_post  \\\n",
       "0                           0                              0   \n",
       "1                           0                              0   \n",
       "2                           0                              0   \n",
       "3                           0                              0   \n",
       "4                           0                              0   \n",
       "\n",
       "   has_secondary_use_gov_office  has_secondary_use_use_police  \\\n",
       "0                             0                             0   \n",
       "1                             0                             0   \n",
       "2                             0                             0   \n",
       "3                             0                             0   \n",
       "4                             0                             0   \n",
       "\n",
       "   has_secondary_use_other  \n",
       "0                        0  \n",
       "1                        0  \n",
       "2                        0  \n",
       "3                        0  \n",
       "4                        0  "
      ]
     },
     "execution_count": 27,
     "metadata": {},
     "output_type": "execute_result"
    }
   ],
   "source": [
    "ownership_df.head()"
   ]
  },
  {
   "cell_type": "markdown",
   "metadata": {},
   "source": [
    "First 4 columns in `ownership_df` are identical to `structure_df`"
   ]
  },
  {
   "cell_type": "code",
   "execution_count": 31,
   "metadata": {},
   "outputs": [
    {
     "data": {
      "text/plain": [
       "762106"
      ]
     },
     "execution_count": 31,
     "metadata": {},
     "output_type": "execute_result"
    }
   ],
   "source": [
    "sum(structure_df['building_id'] == ownership_df['building_id'])"
   ]
  },
  {
   "cell_type": "markdown",
   "metadata": {},
   "source": [
    "Inspecting the remaining features:"
   ]
  },
  {
   "cell_type": "code",
   "execution_count": 29,
   "metadata": {
    "scrolled": true
   },
   "outputs": [
    {
     "name": "stdout",
     "output_type": "stream",
     "text": [
      "The unique values for legal_ownership_status :  ['Private' 'Other' 'Institutional' 'Public']\n",
      "Number of nulls for legal_ownership_status are :  0\n",
      "==============================================================\n",
      "The unique values for count_families :  [ 1.  0.  2.  3.  4.  5.  6.  9.  7. nan  8. 11.]\n",
      "Number of nulls for count_families are :  2\n",
      "==============================================================\n",
      "The unique values for has_secondary_use :  [ 0.  1. nan]\n",
      "Number of nulls for has_secondary_use are :  10\n",
      "==============================================================\n",
      "The unique values for has_secondary_use_agriculture :  [0 1]\n",
      "Number of nulls for has_secondary_use_agriculture are :  0\n",
      "==============================================================\n",
      "The unique values for has_secondary_use_hotel :  [0 1]\n",
      "Number of nulls for has_secondary_use_hotel are :  0\n",
      "==============================================================\n",
      "The unique values for has_secondary_use_rental :  [0 1]\n",
      "Number of nulls for has_secondary_use_rental are :  0\n",
      "==============================================================\n",
      "The unique values for has_secondary_use_institution :  [0 1]\n",
      "Number of nulls for has_secondary_use_institution are :  0\n",
      "==============================================================\n",
      "The unique values for has_secondary_use_school :  [0 1]\n",
      "Number of nulls for has_secondary_use_school are :  0\n",
      "==============================================================\n",
      "The unique values for has_secondary_use_industry :  [0 1]\n",
      "Number of nulls for has_secondary_use_industry are :  0\n",
      "==============================================================\n",
      "The unique values for has_secondary_use_health_post :  [0 1]\n",
      "Number of nulls for has_secondary_use_health_post are :  0\n",
      "==============================================================\n",
      "The unique values for has_secondary_use_gov_office :  [0 1]\n",
      "Number of nulls for has_secondary_use_gov_office are :  0\n",
      "==============================================================\n",
      "The unique values for has_secondary_use_use_police :  [0 1]\n",
      "Number of nulls for has_secondary_use_use_police are :  0\n",
      "==============================================================\n",
      "The unique values for has_secondary_use_other :  [0 1]\n",
      "Number of nulls for has_secondary_use_other are :  0\n",
      "==============================================================\n"
     ]
    }
   ],
   "source": [
    "colnames = ownership_df.columns[4:]\n",
    "for col in colnames:\n",
    "    cfs.ownership_unique_values(col)"
   ]
  },
  {
   "cell_type": "markdown",
   "metadata": {},
   "source": [
    "All categorical features noticed, some Nan values were also discovered.\n",
    "\n",
    "Our next steps would be:\n",
    "- check for duplicate entries\n",
    "- combine the two dataframes"
   ]
  },
  {
   "cell_type": "code",
   "execution_count": 32,
   "metadata": {},
   "outputs": [
    {
     "name": "stdout",
     "output_type": "stream",
     "text": [
      "0\n",
      "0\n"
     ]
    }
   ],
   "source": [
    "print(ownership_df.duplicated('building_id').sum())\n",
    "print(structure_df.duplicated('building_id').sum())"
   ]
  },
  {
   "cell_type": "code",
   "execution_count": 33,
   "metadata": {},
   "outputs": [],
   "source": [
    "data = pd.merge(structure_df, ownership_df, on=['building_id', 'district_id', 'vdcmun_id', 'ward_id'])"
   ]
  },
  {
   "cell_type": "markdown",
   "metadata": {},
   "source": [
    "We can now drop some columns that are other versions of our identified `target` --->  `damage_grade`, `condition_post_earthquake`, and `technical_solution_proposed`\n",
    "\n",
    "Also, since we plan to make our classification model generalizable to future building structures , we drop the columns relating to `height_ft_post_eq` and `count_floors_post_eq`"
   ]
  },
  {
   "cell_type": "code",
   "execution_count": 35,
   "metadata": {},
   "outputs": [
    {
     "data": {
      "text/html": [
       "<div>\n",
       "<style scoped>\n",
       "    .dataframe tbody tr th:only-of-type {\n",
       "        vertical-align: middle;\n",
       "    }\n",
       "\n",
       "    .dataframe tbody tr th {\n",
       "        vertical-align: top;\n",
       "    }\n",
       "\n",
       "    .dataframe thead th {\n",
       "        text-align: right;\n",
       "    }\n",
       "</style>\n",
       "<table border=\"1\" class=\"dataframe\">\n",
       "  <thead>\n",
       "    <tr style=\"text-align: right;\">\n",
       "      <th></th>\n",
       "      <th>building_id</th>\n",
       "      <th>district_id</th>\n",
       "      <th>vdcmun_id</th>\n",
       "      <th>ward_id</th>\n",
       "      <th>count_floors_pre_eq</th>\n",
       "      <th>count_floors_post_eq</th>\n",
       "      <th>age_building</th>\n",
       "      <th>plinth_area_sq_ft</th>\n",
       "      <th>height_ft_pre_eq</th>\n",
       "      <th>height_ft_post_eq</th>\n",
       "      <th>...</th>\n",
       "      <th>has_secondary_use_agriculture</th>\n",
       "      <th>has_secondary_use_hotel</th>\n",
       "      <th>has_secondary_use_rental</th>\n",
       "      <th>has_secondary_use_institution</th>\n",
       "      <th>has_secondary_use_school</th>\n",
       "      <th>has_secondary_use_industry</th>\n",
       "      <th>has_secondary_use_health_post</th>\n",
       "      <th>has_secondary_use_gov_office</th>\n",
       "      <th>has_secondary_use_use_police</th>\n",
       "      <th>has_secondary_use_other</th>\n",
       "    </tr>\n",
       "  </thead>\n",
       "  <tbody>\n",
       "    <tr>\n",
       "      <th>0</th>\n",
       "      <td>120101000011</td>\n",
       "      <td>12</td>\n",
       "      <td>1207</td>\n",
       "      <td>120703</td>\n",
       "      <td>1</td>\n",
       "      <td>1</td>\n",
       "      <td>9</td>\n",
       "      <td>288</td>\n",
       "      <td>9</td>\n",
       "      <td>9</td>\n",
       "      <td>...</td>\n",
       "      <td>0</td>\n",
       "      <td>0</td>\n",
       "      <td>0</td>\n",
       "      <td>0</td>\n",
       "      <td>0</td>\n",
       "      <td>0</td>\n",
       "      <td>0</td>\n",
       "      <td>0</td>\n",
       "      <td>0</td>\n",
       "      <td>0</td>\n",
       "    </tr>\n",
       "    <tr>\n",
       "      <th>1</th>\n",
       "      <td>120101000021</td>\n",
       "      <td>12</td>\n",
       "      <td>1207</td>\n",
       "      <td>120703</td>\n",
       "      <td>1</td>\n",
       "      <td>1</td>\n",
       "      <td>15</td>\n",
       "      <td>364</td>\n",
       "      <td>9</td>\n",
       "      <td>9</td>\n",
       "      <td>...</td>\n",
       "      <td>0</td>\n",
       "      <td>0</td>\n",
       "      <td>0</td>\n",
       "      <td>0</td>\n",
       "      <td>0</td>\n",
       "      <td>0</td>\n",
       "      <td>0</td>\n",
       "      <td>0</td>\n",
       "      <td>0</td>\n",
       "      <td>0</td>\n",
       "    </tr>\n",
       "    <tr>\n",
       "      <th>2</th>\n",
       "      <td>120101000031</td>\n",
       "      <td>12</td>\n",
       "      <td>1207</td>\n",
       "      <td>120703</td>\n",
       "      <td>1</td>\n",
       "      <td>1</td>\n",
       "      <td>20</td>\n",
       "      <td>384</td>\n",
       "      <td>9</td>\n",
       "      <td>9</td>\n",
       "      <td>...</td>\n",
       "      <td>0</td>\n",
       "      <td>0</td>\n",
       "      <td>0</td>\n",
       "      <td>0</td>\n",
       "      <td>0</td>\n",
       "      <td>0</td>\n",
       "      <td>0</td>\n",
       "      <td>0</td>\n",
       "      <td>0</td>\n",
       "      <td>0</td>\n",
       "    </tr>\n",
       "    <tr>\n",
       "      <th>3</th>\n",
       "      <td>120101000041</td>\n",
       "      <td>12</td>\n",
       "      <td>1207</td>\n",
       "      <td>120703</td>\n",
       "      <td>1</td>\n",
       "      <td>1</td>\n",
       "      <td>20</td>\n",
       "      <td>312</td>\n",
       "      <td>9</td>\n",
       "      <td>9</td>\n",
       "      <td>...</td>\n",
       "      <td>0</td>\n",
       "      <td>0</td>\n",
       "      <td>0</td>\n",
       "      <td>0</td>\n",
       "      <td>0</td>\n",
       "      <td>0</td>\n",
       "      <td>0</td>\n",
       "      <td>0</td>\n",
       "      <td>0</td>\n",
       "      <td>0</td>\n",
       "    </tr>\n",
       "    <tr>\n",
       "      <th>4</th>\n",
       "      <td>120101000051</td>\n",
       "      <td>12</td>\n",
       "      <td>1207</td>\n",
       "      <td>120703</td>\n",
       "      <td>1</td>\n",
       "      <td>1</td>\n",
       "      <td>30</td>\n",
       "      <td>308</td>\n",
       "      <td>9</td>\n",
       "      <td>9</td>\n",
       "      <td>...</td>\n",
       "      <td>0</td>\n",
       "      <td>0</td>\n",
       "      <td>0</td>\n",
       "      <td>0</td>\n",
       "      <td>0</td>\n",
       "      <td>0</td>\n",
       "      <td>0</td>\n",
       "      <td>0</td>\n",
       "      <td>0</td>\n",
       "      <td>0</td>\n",
       "    </tr>\n",
       "  </tbody>\n",
       "</table>\n",
       "<p>5 rows × 45 columns</p>\n",
       "</div>"
      ],
      "text/plain": [
       "    building_id  district_id  vdcmun_id  ward_id  count_floors_pre_eq  \\\n",
       "0  120101000011           12       1207   120703                    1   \n",
       "1  120101000021           12       1207   120703                    1   \n",
       "2  120101000031           12       1207   120703                    1   \n",
       "3  120101000041           12       1207   120703                    1   \n",
       "4  120101000051           12       1207   120703                    1   \n",
       "\n",
       "   count_floors_post_eq  age_building  plinth_area_sq_ft  height_ft_pre_eq  \\\n",
       "0                     1             9                288                 9   \n",
       "1                     1            15                364                 9   \n",
       "2                     1            20                384                 9   \n",
       "3                     1            20                312                 9   \n",
       "4                     1            30                308                 9   \n",
       "\n",
       "   height_ft_post_eq  ... has_secondary_use_agriculture  \\\n",
       "0                  9  ...                             0   \n",
       "1                  9  ...                             0   \n",
       "2                  9  ...                             0   \n",
       "3                  9  ...                             0   \n",
       "4                  9  ...                             0   \n",
       "\n",
       "  has_secondary_use_hotel has_secondary_use_rental  \\\n",
       "0                       0                        0   \n",
       "1                       0                        0   \n",
       "2                       0                        0   \n",
       "3                       0                        0   \n",
       "4                       0                        0   \n",
       "\n",
       "  has_secondary_use_institution has_secondary_use_school  \\\n",
       "0                             0                        0   \n",
       "1                             0                        0   \n",
       "2                             0                        0   \n",
       "3                             0                        0   \n",
       "4                             0                        0   \n",
       "\n",
       "  has_secondary_use_industry has_secondary_use_health_post  \\\n",
       "0                          0                             0   \n",
       "1                          0                             0   \n",
       "2                          0                             0   \n",
       "3                          0                             0   \n",
       "4                          0                             0   \n",
       "\n",
       "   has_secondary_use_gov_office  has_secondary_use_use_police  \\\n",
       "0                             0                             0   \n",
       "1                             0                             0   \n",
       "2                             0                             0   \n",
       "3                             0                             0   \n",
       "4                             0                             0   \n",
       "\n",
       "   has_secondary_use_other  \n",
       "0                        0  \n",
       "1                        0  \n",
       "2                        0  \n",
       "3                        0  \n",
       "4                        0  \n",
       "\n",
       "[5 rows x 45 columns]"
      ]
     },
     "execution_count": 35,
     "metadata": {},
     "output_type": "execute_result"
    }
   ],
   "source": [
    "data.head()"
   ]
  },
  {
   "cell_type": "code",
   "execution_count": 36,
   "metadata": {},
   "outputs": [],
   "source": [
    "data.drop(['count_floors_post_eq', 'height_ft_post_eq',\n",
    "           'damage_grade', 'condition_post_eq',\n",
    "           'technical_solution_proposed'],\n",
    "          axis=1, inplace=True)"
   ]
  },
  {
   "cell_type": "markdown",
   "metadata": {},
   "source": [
    "We check for Nans next"
   ]
  },
  {
   "cell_type": "code",
   "execution_count": 37,
   "metadata": {},
   "outputs": [
    {
     "data": {
      "text/plain": [
       "26"
      ]
     },
     "execution_count": 37,
     "metadata": {},
     "output_type": "execute_result"
    }
   ],
   "source": [
    "data.isna().sum().sum()"
   ]
  },
  {
   "cell_type": "markdown",
   "metadata": {},
   "source": [
    "We drop these since they are very few when compared to 762106 entires"
   ]
  },
  {
   "cell_type": "code",
   "execution_count": 38,
   "metadata": {},
   "outputs": [],
   "source": [
    "data.dropna(inplace=True)"
   ]
  },
  {
   "cell_type": "code",
   "execution_count": 39,
   "metadata": {},
   "outputs": [
    {
     "data": {
      "text/plain": [
       "(762093, 40)"
      ]
     },
     "execution_count": 39,
     "metadata": {},
     "output_type": "execute_result"
    }
   ],
   "source": [
    "data.shape"
   ]
  },
  {
   "cell_type": "markdown",
   "metadata": {},
   "source": [
    "We then clean the text in our categorical columns to make them more pythonic"
   ]
  },
  {
   "cell_type": "code",
   "execution_count": 40,
   "metadata": {},
   "outputs": [],
   "source": [
    "categorical_feats = data.dtypes[data.dtypes == 'object'].index"
   ]
  },
  {
   "cell_type": "code",
   "execution_count": 41,
   "metadata": {
    "scrolled": true
   },
   "outputs": [
    {
     "name": "stdout",
     "output_type": "stream",
     "text": [
      "Unique values for land_surface_condition are:  ['Flat' 'Moderate slope' 'Steep slope']\n",
      "================================================================================================\n",
      "Unique values for foundation_type are:  ['Other' 'Mud mortar-Stone/Brick' 'Cement-Stone/Brick' 'Bamboo/Timber'\n",
      " 'RC']\n",
      "================================================================================================\n",
      "Unique values for roof_type are:  ['Bamboo/Timber-Light roof' 'Bamboo/Timber-Heavy roof' 'RCC/RB/RBC']\n",
      "================================================================================================\n",
      "Unique values for ground_floor_type are:  ['Mud' 'Brick/Stone' 'RC' 'Timber' 'Other']\n",
      "================================================================================================\n",
      "Unique values for other_floor_type are:  ['Not applicable' 'TImber/Bamboo-Mud' 'Timber-Planck' 'RCC/RB/RBC']\n",
      "================================================================================================\n",
      "Unique values for position are:  ['Not attached' 'Attached-1 side' 'Attached-2 side' 'Attached-3 side']\n",
      "================================================================================================\n",
      "Unique values for plan_configuration are:  ['Rectangular' 'L-shape' 'Square' 'T-shape' 'Multi-projected' 'H-shape'\n",
      " 'U-shape' 'Others' 'E-shape' 'Building with Central Courtyard']\n",
      "================================================================================================\n",
      "Unique values for legal_ownership_status are:  ['Private' 'Other' 'Institutional' 'Public']\n",
      "================================================================================================\n"
     ]
    }
   ],
   "source": [
    "def unique_categorical_values(feature):\n",
    "    print(f'Unique values for {feature} are: ', data[feature].unique())\n",
    "    print('================================================================================================')\n",
    "\n",
    "for feat in categorical_feats:\n",
    "    unique_categorical_values(feat)"
   ]
  },
  {
   "cell_type": "code",
   "execution_count": 42,
   "metadata": {},
   "outputs": [],
   "source": [
    "for feat in categorical_feats:\n",
    "    data[feat] = f'{feat}_' + data[feat].map(cfs.clean_text)"
   ]
  },
  {
   "cell_type": "code",
   "execution_count": 43,
   "metadata": {
    "scrolled": true
   },
   "outputs": [
    {
     "name": "stdout",
     "output_type": "stream",
     "text": [
      "Unique values for land_surface_condition are:  ['land_surface_condition_flat' 'land_surface_condition_moderate_slope'\n",
      " 'land_surface_condition_steep_slope']\n",
      "================================================================================================\n",
      "Unique values for foundation_type are:  ['foundation_type_other' 'foundation_type_mud_mortar_stone_or_brick'\n",
      " 'foundation_type_cement_stone_or_brick'\n",
      " 'foundation_type_bamboo_or_timber' 'foundation_type_rc']\n",
      "================================================================================================\n",
      "Unique values for roof_type are:  ['roof_type_bamboo_or_timber_light_roof'\n",
      " 'roof_type_bamboo_or_timber_heavy_roof' 'roof_type_rcc_or_rb_or_rbc']\n",
      "================================================================================================\n",
      "Unique values for ground_floor_type are:  ['ground_floor_type_mud' 'ground_floor_type_brick_or_stone'\n",
      " 'ground_floor_type_rc' 'ground_floor_type_timber'\n",
      " 'ground_floor_type_other']\n",
      "================================================================================================\n",
      "Unique values for other_floor_type are:  ['other_floor_type_not_applicable' 'other_floor_type_timber_or_bamboo_mud'\n",
      " 'other_floor_type_timber_planck' 'other_floor_type_rcc_or_rb_or_rbc']\n",
      "================================================================================================\n",
      "Unique values for position are:  ['position_not_attached' 'position_attached_1_side'\n",
      " 'position_attached_2_side' 'position_attached_3_side']\n",
      "================================================================================================\n",
      "Unique values for plan_configuration are:  ['plan_configuration_rectangular' 'plan_configuration_l_shape'\n",
      " 'plan_configuration_square' 'plan_configuration_t_shape'\n",
      " 'plan_configuration_multi_projected' 'plan_configuration_h_shape'\n",
      " 'plan_configuration_u_shape' 'plan_configuration_others'\n",
      " 'plan_configuration_e_shape'\n",
      " 'plan_configuration_building_with_central_courtyard']\n",
      "================================================================================================\n",
      "Unique values for legal_ownership_status are:  ['legal_ownership_status_private' 'legal_ownership_status_other'\n",
      " 'legal_ownership_status_institutional' 'legal_ownership_status_public']\n",
      "================================================================================================\n"
     ]
    }
   ],
   "source": [
    "for feat in categorical_feats:\n",
    "    unique_categorical_values(feat)"
   ]
  },
  {
   "cell_type": "markdown",
   "metadata": {},
   "source": [
    "Some of the most interesting features relating to building parameters observed from this dataset with regards to their relation with the degree of damage caused to buildings were the `foundation_type` and `roof_type`\n",
    "\n",
    "#### Foundation vs. Damage Grade\n",
    "![foundation types](../../report/figures/foundation_type.png)\n",
    "\n",
    "Reinforced Concrete(RC) foundation fared better than the other foundation types. "
   ]
  },
  {
   "cell_type": "markdown",
   "metadata": {},
   "source": [
    "#### Roof Type vs. Damage Grade\n",
    "![Roff Type](../../report/figures/roof_type.png)\n",
    "\n",
    "Reinforced Brick Concrete (RBC) or Reinforced Concrete (RC) performed better when compared to their wood counterparts in roofing."
   ]
  },
  {
   "cell_type": "markdown",
   "metadata": {},
   "source": [
    "# Data Preprocessing"
   ]
  },
  {
   "cell_type": "markdown",
   "metadata": {},
   "source": [
    "### Steps:\n",
    "- Bring in cleaned dataframe using custom function\n",
    "- Train - Test split the data first setting test size to 20%\n",
    "    - this gives us a train size of 609674 datapoints and a test size of 152419 datapoints\n",
    "- Train - Validation split the training data next with validation size set to 25%\n",
    "    - this gives us a train size of 457255 datapoints and a validation size of 152419 datapoints\n",
    "- Resample the training data using stratified sampling technique from *imblearn.under_sampling* *RandomUnderSampler* which will help in balancing the class imbalance in our training data. (We do this instead of using SMOTE because we have enough datapoints to work with)\n",
    "    - this gives us 245571 datapoints in our final training data\n",
    "- One Hot Encode all the categorical features in the training data and use the derived encoders of each feature to transform the respective categorical features in the validation and test sets\n",
    "- Standardize the numeric features of the datasets using *StandardScaler* object from *sklearn.preprocessing*"
   ]
  },
  {
   "cell_type": "code",
   "execution_count": 54,
   "metadata": {},
   "outputs": [],
   "source": [
    "#load cleaned data for preprocessing\n",
    "df = cfs.cleaned_dataframe_for_mvp()\n",
    "\n",
    "#create target and feature dataframes \n",
    "y = df['target']\n",
    "X = df.drop('target', axis=1)\n",
    "\n",
    "#train test split\n",
    "X_train, X_test, y_train, y_test = train_test_split(X, y, random_state = 2015, test_size = .2)\n",
    "\n",
    "#train validation split\n",
    "X_train, X_val, y_train, y_val = train_test_split(X_train, y_train, random_state = 2015, test_size = .25)\n",
    "\n",
    "#stratified sampling to have equal representation of classes\n",
    "rus = RandomUnderSampler(random_state=2015)\n",
    "X_train, y_train = rus.fit_resample(X_train, y_train)\n",
    "\n",
    "#One Hot encode all categorical features land_surface_condition,foundation_type, roof_type, ground_floor_type, other_floor_type\n",
    "X_train, X_val, X_test = pfs.ohe_train_and_test_features(X_train, X_val, X_test)\n",
    "\n",
    "#One hot encode district_id\n",
    "X_train, X_val, X_test = pfs.ohe_train_val_test_geos(X_train, X_val, X_test)\n",
    "\n",
    "#Standardize the numeric features using StandardScaler\n",
    "X_train, X_val, X_test = pfs.scaling_numeric_features(X_train, X_val, X_test)"
   ]
  },
  {
   "cell_type": "code",
   "execution_count": 65,
   "metadata": {},
   "outputs": [
    {
     "name": "stdout",
     "output_type": "stream",
     "text": [
      "Shape of training data: (245571, 76)\n"
     ]
    }
   ],
   "source": [
    "print(f'Shape of training data: {X_train.shape}')"
   ]
  },
  {
   "cell_type": "code",
   "execution_count": 66,
   "metadata": {},
   "outputs": [
    {
     "name": "stdout",
     "output_type": "stream",
     "text": [
      "Shape of validation data: (152419, 76)\n"
     ]
    }
   ],
   "source": [
    "print(f'Shape of validation data: {X_val.shape}')"
   ]
  },
  {
   "cell_type": "code",
   "execution_count": 67,
   "metadata": {},
   "outputs": [
    {
     "name": "stdout",
     "output_type": "stream",
     "text": [
      "Shape of testing data: (152419, 76)\n"
     ]
    }
   ],
   "source": [
    "print(f'Shape of testing data: {X_test.shape}')"
   ]
  },
  {
   "cell_type": "markdown",
   "metadata": {},
   "source": [
    "# Modeling"
   ]
  },
  {
   "cell_type": "markdown",
   "metadata": {},
   "source": [
    "We first establish our Metric for Model Evaluation\n",
    "\n",
    "### Metric - Recall Score\n",
    "\n",
    "##### $\\text{Recall Score for Class 3}  = \\dfrac{\\text{True Positives for Class 3}}{\\text{True Positives for Class 3  +  All False Negatives for Class 3}}$\n",
    "\n",
    "We want our model to be sensitive towards identifying all the buildings that belong to damage grade 3. These buildings are potentially the most vulnerabe during earthquakes and identifying them is our top priority.\n"
   ]
  },
  {
   "cell_type": "markdown",
   "metadata": {},
   "source": [
    "Modeling iterations were carried out for Logistic Regression, Random Forest Classifier, and Gradient Boosting Classifier Xgboost \n",
    "### Modeling Steps:\n",
    "- First a Vanilla model with cross validation was run to get an estimate of model performance across cross validation folds.\n",
    "- Then the Vanilla Model was fit on training data and recall scores were generated for both training and validation data using the fitted model.\n",
    "- Grid search was performed on downsampled training data for each model to help guide hyperparameter tuning.\n",
    "- Using the best params identified from grid search new models were built by fitting on the train data. \n",
    "- Performance of the model was evaluated between the train and validation set.\n",
    "- Further model iterations were performed to improve the recall score (since the grid search was limited by the choice of grid and downsampled data)\n",
    "- Best performers of each classification models were picked and predictions were made using the test data\n"
   ]
  },
  {
   "cell_type": "markdown",
   "metadata": {},
   "source": [
    "### Baseline Model - Random Predictions\n",
    "We now build a baseline model that makes random predictions. We shall then use this to compare our Machine Learning models."
   ]
  },
  {
   "cell_type": "code",
   "execution_count": 135,
   "metadata": {},
   "outputs": [
    {
     "name": "stdout",
     "output_type": "stream",
     "text": [
      "Recall Score for Class 3 from a random predictor model on test data: 0.33\n"
     ]
    }
   ],
   "source": [
    "random_preds=[]\n",
    "for i in range(y_test.shape[0]):\n",
    "    random_preds.append(random.randint(1,3))\n",
    "\n",
    "print(f'Recall Score for Class 3 from a random predictor model on test data:',\n",
    "      round(recall_score(y_test, random_preds, average=None)[2], 2))"
   ]
  },
  {
   "cell_type": "markdown",
   "metadata": {},
   "source": [
    "Our Recall score for Class 3 is 33% using a random prediction generator."
   ]
  },
  {
   "cell_type": "markdown",
   "metadata": {},
   "source": [
    "### Logistic Regression Model"
   ]
  },
  {
   "cell_type": "markdown",
   "metadata": {},
   "source": [
    "Please refer to [this notebook](../../notebooks/exploratory/06_logistic_regression.ipynb) for details on how we arrived at our lgistic regression model."
   ]
  },
  {
   "cell_type": "code",
   "execution_count": 84,
   "metadata": {},
   "outputs": [
    {
     "data": {
      "text/plain": [
       "LogisticRegression(C=10, random_state=2015)"
      ]
     },
     "execution_count": 84,
     "metadata": {},
     "output_type": "execute_result"
    }
   ],
   "source": [
    "lr = LogisticRegression(random_state=2015, C=10, penalty='l2')\n",
    "lr.fit(X_train, y_train)"
   ]
  },
  {
   "cell_type": "code",
   "execution_count": 119,
   "metadata": {},
   "outputs": [
    {
     "name": "stdout",
     "output_type": "stream",
     "text": [
      "Logistic Regression Model Performance\n"
     ]
    },
    {
     "data": {
      "image/png": "[encoded data removed]",
      "text/plain": [
       "<Figure size 1080x432 with 6 Axes>"
      ]
     },
     "metadata": {
      "needs_background": "light"
     },
     "output_type": "display_data"
    }
   ],
   "source": [
    "print('Logistic Regression Model Performance')\n",
    "mfs.plot_confusion_matrices(lr, X_test, y_test, X_val, y_val, X_train, y_train)"
   ]
  },
  {
   "cell_type": "markdown",
   "metadata": {},
   "source": [
    "Low variance is observed in datasets with this model as the test, validation and training data share similar scores for all metrics.\n",
    "\n",
    "Recall Score for class 3 is at **64%**"
   ]
  },
  {
   "cell_type": "markdown",
   "metadata": {},
   "source": [
    "### Random Forest Classifier Model"
   ]
  },
  {
   "cell_type": "markdown",
   "metadata": {},
   "source": [
    "Please refer to [this notebook](../../notebooks/exploratory/07_random_forest.ipynb) for details on how we arrived at our Random Forest Classifier model."
   ]
  },
  {
   "cell_type": "code",
   "execution_count": 120,
   "metadata": {},
   "outputs": [
    {
     "data": {
      "text/plain": [
       "RandomForestClassifier(max_depth=12, max_features='sqrt', n_estimators=150,\n",
       "                       random_state=2015)"
      ]
     },
     "execution_count": 120,
     "metadata": {},
     "output_type": "execute_result"
    }
   ],
   "source": [
    "rfc = RandomForestClassifier(max_depth=12, max_features='sqrt',\n",
    "                              n_estimators=150,random_state=2015)\n",
    "rfc.fit(X_train, y_train)"
   ]
  },
  {
   "cell_type": "code",
   "execution_count": 121,
   "metadata": {},
   "outputs": [
    {
     "name": "stdout",
     "output_type": "stream",
     "text": [
      "Random Forest Classifier Performance\n"
     ]
    },
    {
     "data": {
      "image/png": "[encoded data removed]",
      "text/plain": [
       "<Figure size 1080x432 with 6 Axes>"
      ]
     },
     "metadata": {
      "needs_background": "light"
     },
     "output_type": "display_data"
    }
   ],
   "source": [
    "print('Random Forest Classifier Performance')\n",
    "mfs.plot_confusion_matrices(rfc, X_test, y_test, X_val, y_val, X_train, y_train)"
   ]
  },
  {
   "cell_type": "markdown",
   "metadata": {},
   "source": [
    "Here again, a generalizable model has been built showing low variance between the datasets. \n",
    "\n",
    "Recall for Class 3 is at **67%** with this model"
   ]
  },
  {
   "cell_type": "markdown",
   "metadata": {},
   "source": [
    "### Gradient Boosting Classifier Model using XGBoost"
   ]
  },
  {
   "cell_type": "markdown",
   "metadata": {},
   "source": [
    "Please refer to [this notebook](../../notebooks/exploratory/08_xgboost.ipynb) for details on how we arrived at our XGBoost model."
   ]
  },
  {
   "cell_type": "code",
   "execution_count": 124,
   "metadata": {},
   "outputs": [
    {
     "data": {
      "text/plain": [
       "XGBClassifier(base_score=0.5, booster='gbtree', colsample_bylevel=1,\n",
       "              colsample_bynode=1, colsample_bytree=1, gamma=0, gpu_id=-1,\n",
       "              importance_type='gain', interaction_constraints='',\n",
       "              learning_rate=0.1, max_delta_step=0, max_depth=6,\n",
       "              min_child_weight=1, missing=nan, monotone_constraints='()',\n",
       "              n_estimators=400, n_jobs=0, num_class=3, num_parallel_tree=1,\n",
       "              objective='multi:softprob', random_state=2015, reg_alpha=0,\n",
       "              reg_lambda=1, scale_pos_weight=None, subsample=1,\n",
       "              tree_method='exact', validate_parameters=1, verbosity=None)"
      ]
     },
     "execution_count": 124,
     "metadata": {},
     "output_type": "execute_result"
    }
   ],
   "source": [
    "xgbc = xgboost.XGBClassifier(random_state=2015, objective='multi:softmax', num_class=3,\n",
    "                             learning_rate=0.1, max_depth=6, n_estimators=400)\n",
    "xgbc.fit(X_train, y_train)"
   ]
  },
  {
   "cell_type": "code",
   "execution_count": 125,
   "metadata": {},
   "outputs": [
    {
     "name": "stdout",
     "output_type": "stream",
     "text": [
      "Gradient Boosting Classifier XGBoost Performance\n"
     ]
    },
    {
     "data": {
      "image/png": "[encoded data removed]",
      "text/plain": [
       "<Figure size 1080x432 with 6 Axes>"
      ]
     },
     "metadata": {
      "needs_background": "light"
     },
     "output_type": "display_data"
    }
   ],
   "source": [
    "print('Gradient Boosting Classifier XGBoost Performance')\n",
    "mfs.plot_confusion_matrices(xgbc, X_test, y_test, X_val, y_val, X_train, y_train)"
   ]
  },
  {
   "cell_type": "markdown",
   "metadata": {},
   "source": [
    "Just as before, we are able to build a reliable model that shows low variance in performance across data sets. \n",
    "\n",
    "The Recall score for our priority class is **66%** only marginally lower than our RandomForestClassifier Model. The drawback with this model is its runtime when compared to the Random Forest Classifier, it takes about twice as long to learn."
   ]
  },
  {
   "cell_type": "markdown",
   "metadata": {},
   "source": [
    "# Model Evaluation"
   ]
  },
  {
   "cell_type": "code",
   "execution_count": 142,
   "metadata": {},
   "outputs": [
    {
     "name": "stdout",
     "output_type": "stream",
     "text": [
      "+---------------------------+---------------------------------+\n",
      "|           Model           | Recall Score for Damage Grade 3 |\n",
      "+---------------------------+---------------------------------+\n",
      "|      Random Predictor     |               33%               |\n",
      "| Logistic Regression Model |               64%               |\n",
      "|  Random Forest Classifier |               67%               |\n",
      "|       XGBoost Model       |               66%               |\n",
      "+---------------------------+---------------------------------+\n"
     ]
    }
   ],
   "source": [
    "mfs.print_model_eval_table()"
   ]
  },
  {
   "cell_type": "markdown",
   "metadata": {},
   "source": [
    "Based on Recall Score for Class 3, our Metric for evaluating model performance, Random Forest Classifer Model performs better than the other classifiers with a recall score of 67%\n",
    "\n",
    "The hyperparameters for our chosen model are:\n",
    "- max_depth=12\n",
    "- max_features='sqrt'\n",
    "- n_estimators=150"
   ]
  },
  {
   "cell_type": "code",
   "execution_count": 145,
   "metadata": {},
   "outputs": [
    {
     "name": "stdout",
     "output_type": "stream",
     "text": [
      "Classification Report for best performer\n",
      "===========================================================\n",
      "              precision    recall  f1-score   support\n",
      "\n",
      "         1.0       0.66      0.67      0.67     33245\n",
      "         2.0       0.29      0.49      0.37     27146\n",
      "         3.0       0.85      0.67      0.75     92028\n",
      "\n",
      "    accuracy                           0.64    152419\n",
      "   macro avg       0.60      0.61      0.59    152419\n",
      "weighted avg       0.71      0.64      0.66    152419\n",
      "\n"
     ]
    }
   ],
   "source": [
    "print('Classification Report for best performer')\n",
    "print('===========================================================')\n",
    "print(classification_report(y_test, rfc.predict(X_test)))"
   ]
  },
  {
   "cell_type": "markdown",
   "metadata": {},
   "source": [
    "Our best performing model is able to predict our Class 3 buildings with **67%** recall rate and **75%** f1-score\n",
    "\n",
    "The overall accuracy of our model is at a modest 64% "
   ]
  },
  {
   "cell_type": "markdown",
   "metadata": {},
   "source": [
    "### Feature Analysis \n",
    "based on our best performing model - the identified important building parameters that help classify buildings into the 3 different damage grades are:"
   ]
  },
  {
   "cell_type": "code",
   "execution_count": 147,
   "metadata": {},
   "outputs": [],
   "source": [
    "important_features = list(zip(X_train.columns, rfc.feature_importances_))"
   ]
  },
  {
   "cell_type": "code",
   "execution_count": 159,
   "metadata": {},
   "outputs": [
    {
     "data": {
      "image/png": "[encoded data removed]",
      "text/plain": [
       "<Figure size 576x1152 with 1 Axes>"
      ]
     },
     "metadata": {
      "needs_background": "light"
     },
     "output_type": "display_data"
    }
   ],
   "source": [
    "mfs.plot_important_features(important_features)"
   ]
  },
  {
   "cell_type": "markdown",
   "metadata": {},
   "source": [
    "# Conclusion:\n",
    "\n",
    "This project set out to discover a predictive model that would correctly classify buildings in the region of Nepal based on their potential vulnerability to earthquakes. The model studied the past behaviour of the buildings in the region to be able to predict future failures. Our analysis and model found Random Forest Classifer with 150 estimators and max tree depth of 12 to be our best performer that maximized our recall score for Class 3 at 67%. The overall performance of the model is at an accuracy of 64%. Important building parameters were identified using the best performing model.\n",
    "\n",
    "## Future Investigations:\n",
    "\n",
    "- From the identified important features from our current model further investigation can be conducted to establish relationship between the building features and the varrying damage grades. \n",
    "- Can a black box model such as a Neural Net give us better predictions for our 3 classes?\n",
    "- Can we build an app that takes in parameters of buildings in the region of Nepal and give us predictions regarding their potential vulnerability (damage grade)\n",
    "\n"
   ]
  },
  {
   "cell_type": "code",
   "execution_count": null,
   "metadata": {},
   "outputs": [],
   "source": []
  }
 ],
 "metadata": {
  "kernelspec": {
   "display_name": "python3 (nepal-env)",
   "language": "python",
   "name": "nepal-env"
  },
  "language_info": {
   "codemirror_mode": {
    "name": "ipython",
    "version": 3
   },
   "file_extension": ".py",
   "mimetype": "text/x-python",
   "name": "python",
   "nbconvert_exporter": "python",
   "pygments_lexer": "ipython3",
   "version": "3.7.7"
  }
 },
 "nbformat": 4,
 "nbformat_minor": 4
}
