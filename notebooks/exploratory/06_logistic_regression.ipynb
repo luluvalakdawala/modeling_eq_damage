{
 "cells": [
  {
   "cell_type": "markdown",
   "metadata": {},
   "source": [
    "## Model iterations with Logistic Regression\n",
    "In this notebook we use Logistic Regression to build our predictive model\n",
    "\n",
    "Steps:\n",
    "- Run a vanilla Logistic regression model with cross validation (3 folds) and compare the recall score for class 3 (this will be our baseline LR model)\n",
    "- Next we run a grid search to identify hyperparameters that would help improve our class 3 recall score\n",
    "- build a Logistic Regression model with identified best hyper params and compare training, validation and test Recall Scores."
   ]
  },
  {
   "cell_type": "code",
   "execution_count": 1,
   "metadata": {},
   "outputs": [],
   "source": [
    "#imports\n",
    "%load_ext autoreload\n",
    "%autoreload 2"
   ]
  },
  {
   "cell_type": "code",
   "execution_count": 2,
   "metadata": {},
   "outputs": [],
   "source": [
    "import os, sys\n",
    "import numpy as np\n",
    "import pandas as pd\n",
    "import matplotlib.pyplot as plt\n",
    "import seaborn as sns\n",
    "%matplotlib inline\n",
    "import warnings\n",
    "warnings.filterwarnings('ignore')\n",
    "\n",
    "module_path = os.path.abspath(os.path.join(os.pardir, os.pardir))\n",
    "if module_path not in sys.path:\n",
    "    sys.path.append(module_path)\n",
    "\n",
    "from src import cleaning_functions as cfs\n",
    "from src import preprocessing_functions as pfs\n",
    "from src import modeling_functions as mfs\n",
    "from sklearn.model_selection import train_test_split, GridSearchCV\n",
    "from sklearn.preprocessing import OneHotEncoder, StandardScaler\n",
    "from imblearn.under_sampling import RandomUnderSampler\n",
    "from sklearn.metrics import confusion_matrix, plot_confusion_matrix, classification_report\n",
    "from sklearn.model_selection import cross_val_score, cross_validate\n",
    "from sklearn.metrics import recall_score, f1_score, make_scorer\n",
    "from sklearn.linear_model import LogisticRegression"
   ]
  },
  {
   "cell_type": "code",
   "execution_count": 3,
   "metadata": {},
   "outputs": [],
   "source": [
    "df = cfs.cleaned_dataframe()\n",
    "\n",
    "df = df.drop(['vdcmun_id', 'ward_id'], axis=1)\n",
    "\n",
    "#create target and feature dataframes \n",
    "y = df['target']\n",
    "X = df.drop('target', axis=1)\n",
    "\n",
    "#train test split\n",
    "X_train, X_test, y_train, y_test = train_test_split(X, y, random_state = 2015, test_size = .2)\n",
    "\n",
    "#train validation split\n",
    "X_tr, X_val, y_tr, y_val = train_test_split(X_train, y_train, random_state = 2015, test_size = .25)\n",
    "\n",
    "#stratified sampling to have equal representation of classes\n",
    "rus = RandomUnderSampler(random_state=2015)\n",
    "X_tr_res, y_tr_res = rus.fit_resample(X_tr, y_tr)\n",
    "\n",
    "#One Hot encode all categorical features land_surface_condition,foundation_type, roof_type, ground_floor_type, other_floor_type\n",
    "X_tr_res, X_val, X_test = pfs.ohe_train_and_test_features(X_tr_res, X_val, X_test)\n",
    "\n",
    "#One hot encode district_id\n",
    "X_tr_res, X_val, X_test = pfs.ohe_train_val_test_geos(X_tr_res, X_val, X_test)"
   ]
  },
  {
   "cell_type": "code",
   "execution_count": 4,
   "metadata": {},
   "outputs": [],
   "source": [
    "X_train_scaled = X_tr_res.copy()\n",
    "col_names = ['count_floors_pre_eq', 'count_families', 'age_building', 'plinth_area_sq_ft', 'height_ft_pre_eq']\n",
    "features = X_train_scaled[col_names]\n",
    "scaler = StandardScaler().fit(features.values)\n",
    "features = scaler.transform(features.values)\n",
    "\n",
    "X_train_scaled[col_names] = features\n",
    "\n",
    "X_val_scaled = X_val.copy()\n",
    "X_test_scaled = X_test.copy()\n",
    "\n",
    "features = X_val_scaled[col_names]\n",
    "features = scaler.transform(features.values)\n",
    "X_val_scaled[col_names] = features\n",
    "features = X_test_scaled[col_names]\n",
    "features = scaler.transform(features.values)\n",
    "X_test_scaled[col_names] = features"
   ]
  },
  {
   "cell_type": "code",
   "execution_count": 5,
   "metadata": {},
   "outputs": [],
   "source": [
    "#import recall scorer\n",
    "recall3 = mfs.scorer_recall3()"
   ]
  },
  {
   "cell_type": "markdown",
   "metadata": {},
   "source": [
    "### Vanilla Logistic Regression Model"
   ]
  },
  {
   "cell_type": "code",
   "execution_count": 6,
   "metadata": {},
   "outputs": [
    {
     "name": "stdout",
     "output_type": "stream",
     "text": [
      "Recall Score for class 3 :  [0.63749313 0.64293044 0.64468958]\n"
     ]
    }
   ],
   "source": [
    "lr1 = LogisticRegression(random_state=2015)\n",
    "print('Recall Score for class 3 : ',cross_val_score(lr1, X_train_scaled, y_tr_res, scoring=recall3, cv=3))"
   ]
  },
  {
   "cell_type": "markdown",
   "metadata": {},
   "source": [
    "Low variance observed between the folds\n",
    "\n",
    "Printing out the report of the model on the validation set"
   ]
  },
  {
   "cell_type": "code",
   "execution_count": 7,
   "metadata": {},
   "outputs": [
    {
     "name": "stdout",
     "output_type": "stream",
     "text": [
      "Classification Report for lr1, Validation Set \n",
      " ====================================================== \n",
      "               precision    recall  f1-score   support\n",
      "\n",
      "         1.0       0.61      0.67      0.64     33118\n",
      "         2.0       0.28      0.48      0.35     27409\n",
      "         3.0       0.85      0.64      0.73     91892\n",
      "\n",
      "    accuracy                           0.62    152419\n",
      "   macro avg       0.58      0.60      0.57    152419\n",
      "weighted avg       0.69      0.62      0.64    152419\n",
      "\n"
     ]
    }
   ],
   "source": [
    "lr1.fit(X_train_scaled, y_tr_res)\n",
    "print('Classification Report for lr1, Validation Set','\\n',\n",
    "      '======================================================','\\n',\n",
    "      classification_report(y_val, lr1.predict(X_val_scaled)))"
   ]
  },
  {
   "cell_type": "code",
   "execution_count": 8,
   "metadata": {},
   "outputs": [
    {
     "name": "stdout",
     "output_type": "stream",
     "text": [
      "Classification Report for lr1, Training Data \n",
      " ====================================================== \n",
      "               precision    recall  f1-score   support\n",
      "\n",
      "         1.0       0.67      0.68      0.67     81857\n",
      "         2.0       0.48      0.47      0.48     81857\n",
      "         3.0       0.63      0.64      0.64     81857\n",
      "\n",
      "    accuracy                           0.60    245571\n",
      "   macro avg       0.60      0.60      0.60    245571\n",
      "weighted avg       0.60      0.60      0.60    245571\n",
      "\n"
     ]
    }
   ],
   "source": [
    "print('Classification Report for lr1, Training Data','\\n',\n",
    "      '======================================================','\\n',\n",
    "      classification_report(y_tr_res, lr1.predict(X_train_scaled)))"
   ]
  },
  {
   "cell_type": "markdown",
   "metadata": {},
   "source": [
    "We run a **grid Search** here to identify best hyper paramters for our data\n",
    "\n",
    "**C** here is the inverse of regularization strength and **penalty** l2 and l1 refer to ridge and lasso regularizers"
   ]
  },
  {
   "cell_type": "code",
   "execution_count": 9,
   "metadata": {},
   "outputs": [],
   "source": [
    "lr = LogisticRegression(random_state=2015)\n",
    "params = {'C':[0.1, 1, 5, 10], 'penalty':['l2','l1']}\n",
    "gs_lr = GridSearchCV(lr, param_grid=params, scoring=recall3, cv=3, verbose=2)"
   ]
  },
  {
   "cell_type": "code",
   "execution_count": 10,
   "metadata": {},
   "outputs": [
    {
     "name": "stdout",
     "output_type": "stream",
     "text": [
      "Fitting 3 folds for each of 8 candidates, totalling 24 fits\n",
      "[CV] C=0.1, penalty=l2 ...............................................\n"
     ]
    },
    {
     "name": "stderr",
     "output_type": "stream",
     "text": [
      "[Parallel(n_jobs=1)]: Using backend SequentialBackend with 1 concurrent workers.\n"
     ]
    },
    {
     "name": "stdout",
     "output_type": "stream",
     "text": [
      "[CV] ................................ C=0.1, penalty=l2, total=   6.2s\n",
      "[CV] C=0.1, penalty=l2 ...............................................\n"
     ]
    },
    {
     "name": "stderr",
     "output_type": "stream",
     "text": [
      "[Parallel(n_jobs=1)]: Done   1 out of   1 | elapsed:    6.2s remaining:    0.0s\n"
     ]
    },
    {
     "name": "stdout",
     "output_type": "stream",
     "text": [
      "[CV] ................................ C=0.1, penalty=l2, total=   6.4s\n",
      "[CV] C=0.1, penalty=l2 ...............................................\n",
      "[CV] ................................ C=0.1, penalty=l2, total=   6.3s\n",
      "[CV] C=0.1, penalty=l1 ...............................................\n",
      "[CV] ................................ C=0.1, penalty=l1, total=   0.0s\n",
      "[CV] C=0.1, penalty=l1 ...............................................\n",
      "[CV] ................................ C=0.1, penalty=l1, total=   0.1s\n",
      "[CV] C=0.1, penalty=l1 ...............................................\n",
      "[CV] ................................ C=0.1, penalty=l1, total=   0.0s\n",
      "[CV] C=1, penalty=l2 .................................................\n",
      "[CV] .................................. C=1, penalty=l2, total=   6.3s\n",
      "[CV] C=1, penalty=l2 .................................................\n",
      "[CV] .................................. C=1, penalty=l2, total=   6.9s\n",
      "[CV] C=1, penalty=l2 .................................................\n",
      "[CV] .................................. C=1, penalty=l2, total=   6.7s\n",
      "[CV] C=1, penalty=l1 .................................................\n",
      "[CV] .................................. C=1, penalty=l1, total=   0.1s\n",
      "[CV] C=1, penalty=l1 .................................................\n",
      "[CV] .................................. C=1, penalty=l1, total=   0.1s\n",
      "[CV] C=1, penalty=l1 .................................................\n",
      "[CV] .................................. C=1, penalty=l1, total=   0.0s\n",
      "[CV] C=5, penalty=l2 .................................................\n",
      "[CV] .................................. C=5, penalty=l2, total=   6.6s\n",
      "[CV] C=5, penalty=l2 .................................................\n",
      "[CV] .................................. C=5, penalty=l2, total=   6.7s\n",
      "[CV] C=5, penalty=l2 .................................................\n",
      "[CV] .................................. C=5, penalty=l2, total=   7.0s\n",
      "[CV] C=5, penalty=l1 .................................................\n",
      "[CV] .................................. C=5, penalty=l1, total=   0.1s\n",
      "[CV] C=5, penalty=l1 .................................................\n",
      "[CV] .................................. C=5, penalty=l1, total=   0.1s\n",
      "[CV] C=5, penalty=l1 .................................................\n",
      "[CV] .................................. C=5, penalty=l1, total=   0.0s\n",
      "[CV] C=10, penalty=l2 ................................................\n",
      "[CV] ................................. C=10, penalty=l2, total=   6.7s\n",
      "[CV] C=10, penalty=l2 ................................................\n",
      "[CV] ................................. C=10, penalty=l2, total=   6.7s\n",
      "[CV] C=10, penalty=l2 ................................................\n",
      "[CV] ................................. C=10, penalty=l2, total=   7.8s\n",
      "[CV] C=10, penalty=l1 ................................................\n",
      "[CV] ................................. C=10, penalty=l1, total=   0.1s\n",
      "[CV] C=10, penalty=l1 ................................................\n",
      "[CV] ................................. C=10, penalty=l1, total=   0.0s\n",
      "[CV] C=10, penalty=l1 ................................................\n",
      "[CV] ................................. C=10, penalty=l1, total=   0.0s\n"
     ]
    },
    {
     "name": "stderr",
     "output_type": "stream",
     "text": [
      "[Parallel(n_jobs=1)]: Done  24 out of  24 | elapsed:  1.4min finished\n"
     ]
    },
    {
     "data": {
      "text/plain": [
       "GridSearchCV(cv=3, estimator=LogisticRegression(random_state=2015),\n",
       "             param_grid={'C': [0.1, 1, 5, 10], 'penalty': ['l2', 'l1']},\n",
       "             scoring=make_scorer(recall_score_class3), verbose=2)"
      ]
     },
     "execution_count": 10,
     "metadata": {},
     "output_type": "execute_result"
    }
   ],
   "source": [
    "gs_lr.fit(X_train_scaled, y_tr_res)"
   ]
  },
  {
   "cell_type": "code",
   "execution_count": 11,
   "metadata": {},
   "outputs": [
    {
     "data": {
      "text/plain": [
       "{'C': 10, 'penalty': 'l2'}"
      ]
     },
     "execution_count": 11,
     "metadata": {},
     "output_type": "execute_result"
    }
   ],
   "source": [
    "gs_lr.best_params_"
   ]
  },
  {
   "cell_type": "code",
   "execution_count": 12,
   "metadata": {},
   "outputs": [
    {
     "data": {
      "text/plain": [
       "LogisticRegression(C=10, random_state=2015)"
      ]
     },
     "execution_count": 12,
     "metadata": {},
     "output_type": "execute_result"
    }
   ],
   "source": [
    "lr2 = LogisticRegression(penalty='l2', C=10, random_state=2015)\n",
    "lr2.fit(X_train_scaled, y_tr_res)"
   ]
  },
  {
   "cell_type": "code",
   "execution_count": 13,
   "metadata": {},
   "outputs": [
    {
     "name": "stdout",
     "output_type": "stream",
     "text": [
      "Classification Report for lr2, Validation Data \n",
      " ====================================================== \n",
      "               precision    recall  f1-score   support\n",
      "\n",
      "         1.0       0.61      0.67      0.64     33118\n",
      "         2.0       0.28      0.47      0.35     27409\n",
      "         3.0       0.85      0.64      0.73     91892\n",
      "\n",
      "    accuracy                           0.62    152419\n",
      "   macro avg       0.58      0.60      0.57    152419\n",
      "weighted avg       0.69      0.62      0.64    152419\n",
      "\n"
     ]
    }
   ],
   "source": [
    "print('Classification Report for lr2, Validation Data','\\n',\n",
    "      '======================================================','\\n',\n",
    "      classification_report(y_val, lr2.predict(X_val_scaled)))"
   ]
  },
  {
   "cell_type": "code",
   "execution_count": 14,
   "metadata": {},
   "outputs": [
    {
     "name": "stdout",
     "output_type": "stream",
     "text": [
      "Classification Report for lr2, Train Data \n",
      " ====================================================== \n",
      "               precision    recall  f1-score   support\n",
      "\n",
      "         1.0       0.67      0.68      0.67     81857\n",
      "         2.0       0.48      0.47      0.48     81857\n",
      "         3.0       0.63      0.64      0.64     81857\n",
      "\n",
      "    accuracy                           0.60    245571\n",
      "   macro avg       0.60      0.60      0.60    245571\n",
      "weighted avg       0.60      0.60      0.60    245571\n",
      "\n"
     ]
    }
   ],
   "source": [
    "print('Classification Report for lr2, Train Data','\\n',\n",
    "      '======================================================','\\n',\n",
    "      classification_report(y_tr_res, lr2.predict(X_train_scaled)))"
   ]
  },
  {
   "cell_type": "code",
   "execution_count": 15,
   "metadata": {},
   "outputs": [
    {
     "name": "stdout",
     "output_type": "stream",
     "text": [
      "Classification Report for lr2, Test Data \n",
      " ====================================================== \n",
      "               precision    recall  f1-score   support\n",
      "\n",
      "         1.0       0.62      0.68      0.65     33245\n",
      "         2.0       0.28      0.48      0.35     27146\n",
      "         3.0       0.85      0.64      0.73     92028\n",
      "\n",
      "    accuracy                           0.62    152419\n",
      "   macro avg       0.58      0.60      0.58    152419\n",
      "weighted avg       0.70      0.62      0.64    152419\n",
      "\n"
     ]
    }
   ],
   "source": [
    "print('Classification Report for lr2, Test Data','\\n',\n",
    "      '======================================================','\\n',\n",
    "      classification_report(y_test, lr2.predict(X_test_scaled)))"
   ]
  },
  {
   "cell_type": "markdown",
   "metadata": {},
   "source": [
    "Checking to see if further improvements can be made with lowering regularization by increasing C=100"
   ]
  },
  {
   "cell_type": "code",
   "execution_count": 16,
   "metadata": {},
   "outputs": [
    {
     "data": {
      "text/plain": [
       "LogisticRegression(C=100, random_state=2015)"
      ]
     },
     "execution_count": 16,
     "metadata": {},
     "output_type": "execute_result"
    }
   ],
   "source": [
    "lr3 = LogisticRegression(penalty='l2', C=100, random_state=2015)\n",
    "lr3.fit(X_train_scaled, y_tr_res)"
   ]
  },
  {
   "cell_type": "code",
   "execution_count": 17,
   "metadata": {},
   "outputs": [
    {
     "data": {
      "text/plain": [
       "0.6425351527664097"
      ]
     },
     "execution_count": 17,
     "metadata": {},
     "output_type": "execute_result"
    }
   ],
   "source": [
    "recall_score(y_tr_res, lr3.predict(X_train_scaled), average=None)[2]"
   ]
  },
  {
   "cell_type": "code",
   "execution_count": 18,
   "metadata": {},
   "outputs": [
    {
     "data": {
      "text/plain": [
       "0.6420689505071171"
      ]
     },
     "execution_count": 18,
     "metadata": {},
     "output_type": "execute_result"
    }
   ],
   "source": [
    "recall_score(y_val, lr3.predict(X_val_scaled), average=None)[2]"
   ]
  },
  {
   "cell_type": "markdown",
   "metadata": {},
   "source": [
    "No changes observed from before, we choose **lr2 as our final logistic regression model**"
   ]
  },
  {
   "cell_type": "code",
   "execution_count": null,
   "metadata": {},
   "outputs": [],
   "source": []
  }
 ],
 "metadata": {
  "kernelspec": {
   "display_name": "python3 (nepal-env)",
   "language": "python",
   "name": "nepal-env"
  },
  "language_info": {
   "codemirror_mode": {
    "name": "ipython",
    "version": 3
   },
   "file_extension": ".py",
   "mimetype": "text/x-python",
   "name": "python",
   "nbconvert_exporter": "python",
   "pygments_lexer": "ipython3",
   "version": "3.7.7"
  }
 },
 "nbformat": 4,
 "nbformat_minor": 4
}
