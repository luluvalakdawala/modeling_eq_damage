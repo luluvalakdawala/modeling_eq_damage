{
 "cells": [
  {
   "cell_type": "markdown",
   "metadata": {},
   "source": [
    "# Modeling with Random Forest Classifier\n",
    "\n",
    "In this notebook I continue to work on model iterations\n",
    "\n",
    "Steps:\n",
    "- ohe distircts and drop the municipality and ward ids (add them back later with feature engineering if time permits)\n",
    "- Model iterarions for ensemble classification models. \n",
    "- run grid search for sampled data and find the best hyperparameters\n",
    "- test out each iterations on validation set.\n",
    "- finally run the models on the test set and pick the best performer."
   ]
  },
  {
   "cell_type": "code",
   "execution_count": null,
   "metadata": {},
   "outputs": [],
   "source": [
    "#imports\n",
    "%load_ext autoreload\n",
    "%autoreload 2"
   ]
  },
  {
   "cell_type": "code",
   "execution_count": 97,
   "metadata": {},
   "outputs": [],
   "source": [
    "import os, sys\n",
    "import numpy as np\n",
    "import pandas as pd\n",
    "import matplotlib.pyplot as plt\n",
    "import seaborn as sns\n",
    "%matplotlib inline\n",
    "import warnings\n",
    "warnings.filterwarnings('ignore')\n",
    "\n",
    "module_path = os.path.abspath(os.path.join(os.pardir, os.pardir))\n",
    "if module_path not in sys.path:\n",
    "    sys.path.append(module_path)\n",
    "\n",
    "from src import cleaning_functions as cfs\n",
    "from src import preprocessing_functions as pfs\n",
    "from src import modeling_functions as mfs\n",
    "from sklearn.model_selection import train_test_split, GridSearchCV\n",
    "from sklearn.preprocessing import OneHotEncoder\n",
    "from imblearn.under_sampling import RandomUnderSampler\n",
    "from sklearn.tree import DecisionTreeClassifier\n",
    "from sklearn.metrics import confusion_matrix, plot_confusion_matrix\n",
    "from sklearn.ensemble import BaggingClassifier, RandomForestClassifier \n",
    "from sklearn.ensemble import ExtraTreesClassifier, GradientBoostingClassifier\n",
    "from tensorflow.keras.models import Sequential\n",
    "from tensorflow.keras.layers import Dense, Dropout\n",
    "from tensorflow.keras import regularizers\n",
    "from sklearn.model_selection import cross_val_score, cross_validate\n",
    "from sklearn.metrics import recall_score, f1_score, make_scorer"
   ]
  },
  {
   "cell_type": "markdown",
   "metadata": {},
   "source": [
    "Bringing in cleaned data "
   ]
  },
  {
   "cell_type": "code",
   "execution_count": 3,
   "metadata": {},
   "outputs": [],
   "source": [
    "df = cfs.cleaned_dataframe()"
   ]
  },
  {
   "cell_type": "code",
   "execution_count": 4,
   "metadata": {},
   "outputs": [
    {
     "data": {
      "text/html": [
       "<div>\n",
       "<style scoped>\n",
       "    .dataframe tbody tr th:only-of-type {\n",
       "        vertical-align: middle;\n",
       "    }\n",
       "\n",
       "    .dataframe tbody tr th {\n",
       "        vertical-align: top;\n",
       "    }\n",
       "\n",
       "    .dataframe thead th {\n",
       "        text-align: right;\n",
       "    }\n",
       "</style>\n",
       "<table border=\"1\" class=\"dataframe\">\n",
       "  <thead>\n",
       "    <tr style=\"text-align: right;\">\n",
       "      <th></th>\n",
       "      <th>district_id</th>\n",
       "      <th>vdcmun_id</th>\n",
       "      <th>ward_id</th>\n",
       "      <th>count_floors_pre_eq</th>\n",
       "      <th>age_building</th>\n",
       "      <th>plinth_area_sq_ft</th>\n",
       "      <th>height_ft_pre_eq</th>\n",
       "      <th>land_surface_condition</th>\n",
       "      <th>foundation_type</th>\n",
       "      <th>roof_type</th>\n",
       "      <th>...</th>\n",
       "      <th>has_secondary_use_hotel</th>\n",
       "      <th>has_secondary_use_rental</th>\n",
       "      <th>has_secondary_use_institution</th>\n",
       "      <th>has_secondary_use_school</th>\n",
       "      <th>has_secondary_use_industry</th>\n",
       "      <th>has_secondary_use_health_post</th>\n",
       "      <th>has_secondary_use_gov_office</th>\n",
       "      <th>has_secondary_use_use_police</th>\n",
       "      <th>has_secondary_use_other</th>\n",
       "      <th>target</th>\n",
       "    </tr>\n",
       "    <tr>\n",
       "      <th>building_id</th>\n",
       "      <th></th>\n",
       "      <th></th>\n",
       "      <th></th>\n",
       "      <th></th>\n",
       "      <th></th>\n",
       "      <th></th>\n",
       "      <th></th>\n",
       "      <th></th>\n",
       "      <th></th>\n",
       "      <th></th>\n",
       "      <th></th>\n",
       "      <th></th>\n",
       "      <th></th>\n",
       "      <th></th>\n",
       "      <th></th>\n",
       "      <th></th>\n",
       "      <th></th>\n",
       "      <th></th>\n",
       "      <th></th>\n",
       "      <th></th>\n",
       "      <th></th>\n",
       "    </tr>\n",
       "  </thead>\n",
       "  <tbody>\n",
       "    <tr>\n",
       "      <th>120101000011</th>\n",
       "      <td>12</td>\n",
       "      <td>1207</td>\n",
       "      <td>120703</td>\n",
       "      <td>1</td>\n",
       "      <td>9</td>\n",
       "      <td>288</td>\n",
       "      <td>9</td>\n",
       "      <td>flat</td>\n",
       "      <td>other</td>\n",
       "      <td>bamboo_or_timber_light_roof</td>\n",
       "      <td>...</td>\n",
       "      <td>0</td>\n",
       "      <td>0</td>\n",
       "      <td>0</td>\n",
       "      <td>0</td>\n",
       "      <td>0</td>\n",
       "      <td>0</td>\n",
       "      <td>0</td>\n",
       "      <td>0</td>\n",
       "      <td>0</td>\n",
       "      <td>2.0</td>\n",
       "    </tr>\n",
       "    <tr>\n",
       "      <th>120101000021</th>\n",
       "      <td>12</td>\n",
       "      <td>1207</td>\n",
       "      <td>120703</td>\n",
       "      <td>1</td>\n",
       "      <td>15</td>\n",
       "      <td>364</td>\n",
       "      <td>9</td>\n",
       "      <td>flat</td>\n",
       "      <td>other</td>\n",
       "      <td>bamboo_or_timber_light_roof</td>\n",
       "      <td>...</td>\n",
       "      <td>0</td>\n",
       "      <td>0</td>\n",
       "      <td>0</td>\n",
       "      <td>0</td>\n",
       "      <td>0</td>\n",
       "      <td>0</td>\n",
       "      <td>0</td>\n",
       "      <td>0</td>\n",
       "      <td>0</td>\n",
       "      <td>3.0</td>\n",
       "    </tr>\n",
       "    <tr>\n",
       "      <th>120101000031</th>\n",
       "      <td>12</td>\n",
       "      <td>1207</td>\n",
       "      <td>120703</td>\n",
       "      <td>1</td>\n",
       "      <td>20</td>\n",
       "      <td>384</td>\n",
       "      <td>9</td>\n",
       "      <td>flat</td>\n",
       "      <td>other</td>\n",
       "      <td>bamboo_or_timber_light_roof</td>\n",
       "      <td>...</td>\n",
       "      <td>0</td>\n",
       "      <td>0</td>\n",
       "      <td>0</td>\n",
       "      <td>0</td>\n",
       "      <td>0</td>\n",
       "      <td>0</td>\n",
       "      <td>0</td>\n",
       "      <td>0</td>\n",
       "      <td>0</td>\n",
       "      <td>1.0</td>\n",
       "    </tr>\n",
       "    <tr>\n",
       "      <th>120101000041</th>\n",
       "      <td>12</td>\n",
       "      <td>1207</td>\n",
       "      <td>120703</td>\n",
       "      <td>1</td>\n",
       "      <td>20</td>\n",
       "      <td>312</td>\n",
       "      <td>9</td>\n",
       "      <td>flat</td>\n",
       "      <td>other</td>\n",
       "      <td>bamboo_or_timber_light_roof</td>\n",
       "      <td>...</td>\n",
       "      <td>0</td>\n",
       "      <td>0</td>\n",
       "      <td>0</td>\n",
       "      <td>0</td>\n",
       "      <td>0</td>\n",
       "      <td>0</td>\n",
       "      <td>0</td>\n",
       "      <td>0</td>\n",
       "      <td>0</td>\n",
       "      <td>1.0</td>\n",
       "    </tr>\n",
       "    <tr>\n",
       "      <th>120101000051</th>\n",
       "      <td>12</td>\n",
       "      <td>1207</td>\n",
       "      <td>120703</td>\n",
       "      <td>1</td>\n",
       "      <td>30</td>\n",
       "      <td>308</td>\n",
       "      <td>9</td>\n",
       "      <td>flat</td>\n",
       "      <td>other</td>\n",
       "      <td>bamboo_or_timber_light_roof</td>\n",
       "      <td>...</td>\n",
       "      <td>0</td>\n",
       "      <td>0</td>\n",
       "      <td>0</td>\n",
       "      <td>0</td>\n",
       "      <td>0</td>\n",
       "      <td>0</td>\n",
       "      <td>0</td>\n",
       "      <td>0</td>\n",
       "      <td>0</td>\n",
       "      <td>1.0</td>\n",
       "    </tr>\n",
       "  </tbody>\n",
       "</table>\n",
       "<p>5 rows × 39 columns</p>\n",
       "</div>"
      ],
      "text/plain": [
       "              district_id  vdcmun_id  ward_id  count_floors_pre_eq  \\\n",
       "building_id                                                          \n",
       "120101000011           12       1207   120703                    1   \n",
       "120101000021           12       1207   120703                    1   \n",
       "120101000031           12       1207   120703                    1   \n",
       "120101000041           12       1207   120703                    1   \n",
       "120101000051           12       1207   120703                    1   \n",
       "\n",
       "              age_building  plinth_area_sq_ft  height_ft_pre_eq  \\\n",
       "building_id                                                       \n",
       "120101000011             9                288                 9   \n",
       "120101000021            15                364                 9   \n",
       "120101000031            20                384                 9   \n",
       "120101000041            20                312                 9   \n",
       "120101000051            30                308                 9   \n",
       "\n",
       "             land_surface_condition foundation_type  \\\n",
       "building_id                                           \n",
       "120101000011                   flat           other   \n",
       "120101000021                   flat           other   \n",
       "120101000031                   flat           other   \n",
       "120101000041                   flat           other   \n",
       "120101000051                   flat           other   \n",
       "\n",
       "                                roof_type  ... has_secondary_use_hotel  \\\n",
       "building_id                                ...                           \n",
       "120101000011  bamboo_or_timber_light_roof  ...                       0   \n",
       "120101000021  bamboo_or_timber_light_roof  ...                       0   \n",
       "120101000031  bamboo_or_timber_light_roof  ...                       0   \n",
       "120101000041  bamboo_or_timber_light_roof  ...                       0   \n",
       "120101000051  bamboo_or_timber_light_roof  ...                       0   \n",
       "\n",
       "             has_secondary_use_rental has_secondary_use_institution  \\\n",
       "building_id                                                           \n",
       "120101000011                        0                             0   \n",
       "120101000021                        0                             0   \n",
       "120101000031                        0                             0   \n",
       "120101000041                        0                             0   \n",
       "120101000051                        0                             0   \n",
       "\n",
       "             has_secondary_use_school  has_secondary_use_industry  \\\n",
       "building_id                                                         \n",
       "120101000011                        0                           0   \n",
       "120101000021                        0                           0   \n",
       "120101000031                        0                           0   \n",
       "120101000041                        0                           0   \n",
       "120101000051                        0                           0   \n",
       "\n",
       "              has_secondary_use_health_post  has_secondary_use_gov_office  \\\n",
       "building_id                                                                 \n",
       "120101000011                              0                             0   \n",
       "120101000021                              0                             0   \n",
       "120101000031                              0                             0   \n",
       "120101000041                              0                             0   \n",
       "120101000051                              0                             0   \n",
       "\n",
       "              has_secondary_use_use_police  has_secondary_use_other  target  \n",
       "building_id                                                                  \n",
       "120101000011                             0                        0     2.0  \n",
       "120101000021                             0                        0     3.0  \n",
       "120101000031                             0                        0     1.0  \n",
       "120101000041                             0                        0     1.0  \n",
       "120101000051                             0                        0     1.0  \n",
       "\n",
       "[5 rows x 39 columns]"
      ]
     },
     "execution_count": 4,
     "metadata": {},
     "output_type": "execute_result"
    }
   ],
   "source": [
    "df.head()"
   ]
  },
  {
   "cell_type": "markdown",
   "metadata": {},
   "source": [
    "Dropping `vdcmun_id` and `ward_id`"
   ]
  },
  {
   "cell_type": "code",
   "execution_count": 5,
   "metadata": {},
   "outputs": [],
   "source": [
    "df = df.drop(['vdcmun_id', 'ward_id'], axis=1)"
   ]
  },
  {
   "cell_type": "code",
   "execution_count": 6,
   "metadata": {},
   "outputs": [
    {
     "data": {
      "text/html": [
       "<div>\n",
       "<style scoped>\n",
       "    .dataframe tbody tr th:only-of-type {\n",
       "        vertical-align: middle;\n",
       "    }\n",
       "\n",
       "    .dataframe tbody tr th {\n",
       "        vertical-align: top;\n",
       "    }\n",
       "\n",
       "    .dataframe thead th {\n",
       "        text-align: right;\n",
       "    }\n",
       "</style>\n",
       "<table border=\"1\" class=\"dataframe\">\n",
       "  <thead>\n",
       "    <tr style=\"text-align: right;\">\n",
       "      <th></th>\n",
       "      <th>district_id</th>\n",
       "      <th>count_floors_pre_eq</th>\n",
       "      <th>age_building</th>\n",
       "      <th>plinth_area_sq_ft</th>\n",
       "      <th>height_ft_pre_eq</th>\n",
       "      <th>land_surface_condition</th>\n",
       "      <th>foundation_type</th>\n",
       "      <th>roof_type</th>\n",
       "      <th>ground_floor_type</th>\n",
       "      <th>other_floor_type</th>\n",
       "      <th>...</th>\n",
       "      <th>has_secondary_use_hotel</th>\n",
       "      <th>has_secondary_use_rental</th>\n",
       "      <th>has_secondary_use_institution</th>\n",
       "      <th>has_secondary_use_school</th>\n",
       "      <th>has_secondary_use_industry</th>\n",
       "      <th>has_secondary_use_health_post</th>\n",
       "      <th>has_secondary_use_gov_office</th>\n",
       "      <th>has_secondary_use_use_police</th>\n",
       "      <th>has_secondary_use_other</th>\n",
       "      <th>target</th>\n",
       "    </tr>\n",
       "    <tr>\n",
       "      <th>building_id</th>\n",
       "      <th></th>\n",
       "      <th></th>\n",
       "      <th></th>\n",
       "      <th></th>\n",
       "      <th></th>\n",
       "      <th></th>\n",
       "      <th></th>\n",
       "      <th></th>\n",
       "      <th></th>\n",
       "      <th></th>\n",
       "      <th></th>\n",
       "      <th></th>\n",
       "      <th></th>\n",
       "      <th></th>\n",
       "      <th></th>\n",
       "      <th></th>\n",
       "      <th></th>\n",
       "      <th></th>\n",
       "      <th></th>\n",
       "      <th></th>\n",
       "      <th></th>\n",
       "    </tr>\n",
       "  </thead>\n",
       "  <tbody>\n",
       "    <tr>\n",
       "      <th>120101000011</th>\n",
       "      <td>12</td>\n",
       "      <td>1</td>\n",
       "      <td>9</td>\n",
       "      <td>288</td>\n",
       "      <td>9</td>\n",
       "      <td>flat</td>\n",
       "      <td>other</td>\n",
       "      <td>bamboo_or_timber_light_roof</td>\n",
       "      <td>mud</td>\n",
       "      <td>not_applicable</td>\n",
       "      <td>...</td>\n",
       "      <td>0</td>\n",
       "      <td>0</td>\n",
       "      <td>0</td>\n",
       "      <td>0</td>\n",
       "      <td>0</td>\n",
       "      <td>0</td>\n",
       "      <td>0</td>\n",
       "      <td>0</td>\n",
       "      <td>0</td>\n",
       "      <td>2.0</td>\n",
       "    </tr>\n",
       "    <tr>\n",
       "      <th>120101000021</th>\n",
       "      <td>12</td>\n",
       "      <td>1</td>\n",
       "      <td>15</td>\n",
       "      <td>364</td>\n",
       "      <td>9</td>\n",
       "      <td>flat</td>\n",
       "      <td>other</td>\n",
       "      <td>bamboo_or_timber_light_roof</td>\n",
       "      <td>mud</td>\n",
       "      <td>not_applicable</td>\n",
       "      <td>...</td>\n",
       "      <td>0</td>\n",
       "      <td>0</td>\n",
       "      <td>0</td>\n",
       "      <td>0</td>\n",
       "      <td>0</td>\n",
       "      <td>0</td>\n",
       "      <td>0</td>\n",
       "      <td>0</td>\n",
       "      <td>0</td>\n",
       "      <td>3.0</td>\n",
       "    </tr>\n",
       "    <tr>\n",
       "      <th>120101000031</th>\n",
       "      <td>12</td>\n",
       "      <td>1</td>\n",
       "      <td>20</td>\n",
       "      <td>384</td>\n",
       "      <td>9</td>\n",
       "      <td>flat</td>\n",
       "      <td>other</td>\n",
       "      <td>bamboo_or_timber_light_roof</td>\n",
       "      <td>mud</td>\n",
       "      <td>not_applicable</td>\n",
       "      <td>...</td>\n",
       "      <td>0</td>\n",
       "      <td>0</td>\n",
       "      <td>0</td>\n",
       "      <td>0</td>\n",
       "      <td>0</td>\n",
       "      <td>0</td>\n",
       "      <td>0</td>\n",
       "      <td>0</td>\n",
       "      <td>0</td>\n",
       "      <td>1.0</td>\n",
       "    </tr>\n",
       "    <tr>\n",
       "      <th>120101000041</th>\n",
       "      <td>12</td>\n",
       "      <td>1</td>\n",
       "      <td>20</td>\n",
       "      <td>312</td>\n",
       "      <td>9</td>\n",
       "      <td>flat</td>\n",
       "      <td>other</td>\n",
       "      <td>bamboo_or_timber_light_roof</td>\n",
       "      <td>mud</td>\n",
       "      <td>not_applicable</td>\n",
       "      <td>...</td>\n",
       "      <td>0</td>\n",
       "      <td>0</td>\n",
       "      <td>0</td>\n",
       "      <td>0</td>\n",
       "      <td>0</td>\n",
       "      <td>0</td>\n",
       "      <td>0</td>\n",
       "      <td>0</td>\n",
       "      <td>0</td>\n",
       "      <td>1.0</td>\n",
       "    </tr>\n",
       "    <tr>\n",
       "      <th>120101000051</th>\n",
       "      <td>12</td>\n",
       "      <td>1</td>\n",
       "      <td>30</td>\n",
       "      <td>308</td>\n",
       "      <td>9</td>\n",
       "      <td>flat</td>\n",
       "      <td>other</td>\n",
       "      <td>bamboo_or_timber_light_roof</td>\n",
       "      <td>mud</td>\n",
       "      <td>not_applicable</td>\n",
       "      <td>...</td>\n",
       "      <td>0</td>\n",
       "      <td>0</td>\n",
       "      <td>0</td>\n",
       "      <td>0</td>\n",
       "      <td>0</td>\n",
       "      <td>0</td>\n",
       "      <td>0</td>\n",
       "      <td>0</td>\n",
       "      <td>0</td>\n",
       "      <td>1.0</td>\n",
       "    </tr>\n",
       "  </tbody>\n",
       "</table>\n",
       "<p>5 rows × 37 columns</p>\n",
       "</div>"
      ],
      "text/plain": [
       "              district_id  count_floors_pre_eq  age_building  \\\n",
       "building_id                                                    \n",
       "120101000011           12                    1             9   \n",
       "120101000021           12                    1            15   \n",
       "120101000031           12                    1            20   \n",
       "120101000041           12                    1            20   \n",
       "120101000051           12                    1            30   \n",
       "\n",
       "              plinth_area_sq_ft  height_ft_pre_eq land_surface_condition  \\\n",
       "building_id                                                                \n",
       "120101000011                288                 9                   flat   \n",
       "120101000021                364                 9                   flat   \n",
       "120101000031                384                 9                   flat   \n",
       "120101000041                312                 9                   flat   \n",
       "120101000051                308                 9                   flat   \n",
       "\n",
       "             foundation_type                    roof_type ground_floor_type  \\\n",
       "building_id                                                                   \n",
       "120101000011           other  bamboo_or_timber_light_roof               mud   \n",
       "120101000021           other  bamboo_or_timber_light_roof               mud   \n",
       "120101000031           other  bamboo_or_timber_light_roof               mud   \n",
       "120101000041           other  bamboo_or_timber_light_roof               mud   \n",
       "120101000051           other  bamboo_or_timber_light_roof               mud   \n",
       "\n",
       "             other_floor_type  ... has_secondary_use_hotel  \\\n",
       "building_id                    ...                           \n",
       "120101000011   not_applicable  ...                       0   \n",
       "120101000021   not_applicable  ...                       0   \n",
       "120101000031   not_applicable  ...                       0   \n",
       "120101000041   not_applicable  ...                       0   \n",
       "120101000051   not_applicable  ...                       0   \n",
       "\n",
       "             has_secondary_use_rental  has_secondary_use_institution  \\\n",
       "building_id                                                            \n",
       "120101000011                        0                              0   \n",
       "120101000021                        0                              0   \n",
       "120101000031                        0                              0   \n",
       "120101000041                        0                              0   \n",
       "120101000051                        0                              0   \n",
       "\n",
       "              has_secondary_use_school  has_secondary_use_industry  \\\n",
       "building_id                                                          \n",
       "120101000011                         0                           0   \n",
       "120101000021                         0                           0   \n",
       "120101000031                         0                           0   \n",
       "120101000041                         0                           0   \n",
       "120101000051                         0                           0   \n",
       "\n",
       "              has_secondary_use_health_post  has_secondary_use_gov_office  \\\n",
       "building_id                                                                 \n",
       "120101000011                              0                             0   \n",
       "120101000021                              0                             0   \n",
       "120101000031                              0                             0   \n",
       "120101000041                              0                             0   \n",
       "120101000051                              0                             0   \n",
       "\n",
       "              has_secondary_use_use_police  has_secondary_use_other  target  \n",
       "building_id                                                                  \n",
       "120101000011                             0                        0     2.0  \n",
       "120101000021                             0                        0     3.0  \n",
       "120101000031                             0                        0     1.0  \n",
       "120101000041                             0                        0     1.0  \n",
       "120101000051                             0                        0     1.0  \n",
       "\n",
       "[5 rows x 37 columns]"
      ]
     },
     "execution_count": 6,
     "metadata": {},
     "output_type": "execute_result"
    }
   ],
   "source": [
    "df.head()"
   ]
  },
  {
   "cell_type": "code",
   "execution_count": 7,
   "metadata": {},
   "outputs": [],
   "source": [
    "#create target and feature dataframes \n",
    "y = df['target']\n",
    "X = df.drop('target', axis=1)\n",
    "\n",
    "#train test split\n",
    "X_train, X_test, y_train, y_test = train_test_split(X, y, random_state = 2015, test_size = .2)\n",
    "\n",
    "#train validation split\n",
    "X_tr, X_val, y_tr, y_val = train_test_split(X_train, y_train, random_state = 2015, test_size = .25)\n",
    "\n",
    "#stratified sampling to have equal representation of classes\n",
    "rus = RandomUnderSampler(random_state=2015)\n",
    "X_tr_res, y_tr_res = rus.fit_resample(X_tr, y_tr)\n",
    "\n",
    "#One Hot encode all categorical features land_surface_condition,foundation_type, roof_type, ground_floor_type, other_floor_type\n",
    "X_tr_res, X_val, X_test = pfs.ohe_train_and_test_features(X_tr_res, X_val, X_test)\n",
    "\n",
    "#One hot encode district_id\n",
    "X_tr_res, X_val, X_test = pfs.ohe_train_val_test_geos(X_tr_res, X_val, X_test)"
   ]
  },
  {
   "cell_type": "code",
   "execution_count": 8,
   "metadata": {},
   "outputs": [
    {
     "data": {
      "text/html": [
       "<div>\n",
       "<style scoped>\n",
       "    .dataframe tbody tr th:only-of-type {\n",
       "        vertical-align: middle;\n",
       "    }\n",
       "\n",
       "    .dataframe tbody tr th {\n",
       "        vertical-align: top;\n",
       "    }\n",
       "\n",
       "    .dataframe thead th {\n",
       "        text-align: right;\n",
       "    }\n",
       "</style>\n",
       "<table border=\"1\" class=\"dataframe\">\n",
       "  <thead>\n",
       "    <tr style=\"text-align: right;\">\n",
       "      <th></th>\n",
       "      <th>count_floors_pre_eq</th>\n",
       "      <th>age_building</th>\n",
       "      <th>plinth_area_sq_ft</th>\n",
       "      <th>height_ft_pre_eq</th>\n",
       "      <th>has_superstructure_adobe_mud</th>\n",
       "      <th>has_superstructure_mud_mortar_stone</th>\n",
       "      <th>has_superstructure_stone_flag</th>\n",
       "      <th>has_superstructure_cement_mortar_stone</th>\n",
       "      <th>has_superstructure_mud_mortar_brick</th>\n",
       "      <th>has_superstructure_cement_mortar_brick</th>\n",
       "      <th>...</th>\n",
       "      <th>20</th>\n",
       "      <th>21</th>\n",
       "      <th>22</th>\n",
       "      <th>23</th>\n",
       "      <th>24</th>\n",
       "      <th>28</th>\n",
       "      <th>29</th>\n",
       "      <th>30</th>\n",
       "      <th>31</th>\n",
       "      <th>36</th>\n",
       "    </tr>\n",
       "  </thead>\n",
       "  <tbody>\n",
       "    <tr>\n",
       "      <th>0</th>\n",
       "      <td>1</td>\n",
       "      <td>52</td>\n",
       "      <td>150</td>\n",
       "      <td>8</td>\n",
       "      <td>0</td>\n",
       "      <td>1</td>\n",
       "      <td>0</td>\n",
       "      <td>0</td>\n",
       "      <td>0</td>\n",
       "      <td>0</td>\n",
       "      <td>...</td>\n",
       "      <td>0.0</td>\n",
       "      <td>1.0</td>\n",
       "      <td>0.0</td>\n",
       "      <td>0.0</td>\n",
       "      <td>0.0</td>\n",
       "      <td>0.0</td>\n",
       "      <td>0.0</td>\n",
       "      <td>0.0</td>\n",
       "      <td>0.0</td>\n",
       "      <td>0.0</td>\n",
       "    </tr>\n",
       "    <tr>\n",
       "      <th>1</th>\n",
       "      <td>1</td>\n",
       "      <td>15</td>\n",
       "      <td>186</td>\n",
       "      <td>8</td>\n",
       "      <td>0</td>\n",
       "      <td>0</td>\n",
       "      <td>0</td>\n",
       "      <td>0</td>\n",
       "      <td>0</td>\n",
       "      <td>0</td>\n",
       "      <td>...</td>\n",
       "      <td>0.0</td>\n",
       "      <td>0.0</td>\n",
       "      <td>0.0</td>\n",
       "      <td>0.0</td>\n",
       "      <td>0.0</td>\n",
       "      <td>0.0</td>\n",
       "      <td>0.0</td>\n",
       "      <td>0.0</td>\n",
       "      <td>1.0</td>\n",
       "      <td>0.0</td>\n",
       "    </tr>\n",
       "    <tr>\n",
       "      <th>2</th>\n",
       "      <td>2</td>\n",
       "      <td>7</td>\n",
       "      <td>392</td>\n",
       "      <td>12</td>\n",
       "      <td>0</td>\n",
       "      <td>1</td>\n",
       "      <td>0</td>\n",
       "      <td>0</td>\n",
       "      <td>0</td>\n",
       "      <td>0</td>\n",
       "      <td>...</td>\n",
       "      <td>0.0</td>\n",
       "      <td>0.0</td>\n",
       "      <td>0.0</td>\n",
       "      <td>0.0</td>\n",
       "      <td>0.0</td>\n",
       "      <td>0.0</td>\n",
       "      <td>0.0</td>\n",
       "      <td>0.0</td>\n",
       "      <td>0.0</td>\n",
       "      <td>1.0</td>\n",
       "    </tr>\n",
       "    <tr>\n",
       "      <th>3</th>\n",
       "      <td>2</td>\n",
       "      <td>17</td>\n",
       "      <td>496</td>\n",
       "      <td>12</td>\n",
       "      <td>0</td>\n",
       "      <td>1</td>\n",
       "      <td>0</td>\n",
       "      <td>0</td>\n",
       "      <td>0</td>\n",
       "      <td>0</td>\n",
       "      <td>...</td>\n",
       "      <td>0.0</td>\n",
       "      <td>0.0</td>\n",
       "      <td>0.0</td>\n",
       "      <td>0.0</td>\n",
       "      <td>0.0</td>\n",
       "      <td>0.0</td>\n",
       "      <td>0.0</td>\n",
       "      <td>0.0</td>\n",
       "      <td>0.0</td>\n",
       "      <td>1.0</td>\n",
       "    </tr>\n",
       "    <tr>\n",
       "      <th>4</th>\n",
       "      <td>2</td>\n",
       "      <td>24</td>\n",
       "      <td>305</td>\n",
       "      <td>18</td>\n",
       "      <td>0</td>\n",
       "      <td>1</td>\n",
       "      <td>0</td>\n",
       "      <td>0</td>\n",
       "      <td>0</td>\n",
       "      <td>0</td>\n",
       "      <td>...</td>\n",
       "      <td>0.0</td>\n",
       "      <td>0.0</td>\n",
       "      <td>0.0</td>\n",
       "      <td>0.0</td>\n",
       "      <td>0.0</td>\n",
       "      <td>0.0</td>\n",
       "      <td>0.0</td>\n",
       "      <td>0.0</td>\n",
       "      <td>1.0</td>\n",
       "      <td>0.0</td>\n",
       "    </tr>\n",
       "  </tbody>\n",
       "</table>\n",
       "<p>5 rows × 76 columns</p>\n",
       "</div>"
      ],
      "text/plain": [
       "   count_floors_pre_eq  age_building  plinth_area_sq_ft  height_ft_pre_eq  \\\n",
       "0                    1            52                150                 8   \n",
       "1                    1            15                186                 8   \n",
       "2                    2             7                392                12   \n",
       "3                    2            17                496                12   \n",
       "4                    2            24                305                18   \n",
       "\n",
       "   has_superstructure_adobe_mud  has_superstructure_mud_mortar_stone  \\\n",
       "0                             0                                    1   \n",
       "1                             0                                    0   \n",
       "2                             0                                    1   \n",
       "3                             0                                    1   \n",
       "4                             0                                    1   \n",
       "\n",
       "   has_superstructure_stone_flag  has_superstructure_cement_mortar_stone  \\\n",
       "0                              0                                       0   \n",
       "1                              0                                       0   \n",
       "2                              0                                       0   \n",
       "3                              0                                       0   \n",
       "4                              0                                       0   \n",
       "\n",
       "   has_superstructure_mud_mortar_brick  \\\n",
       "0                                    0   \n",
       "1                                    0   \n",
       "2                                    0   \n",
       "3                                    0   \n",
       "4                                    0   \n",
       "\n",
       "   has_superstructure_cement_mortar_brick  ...   20   21   22   23   24   28  \\\n",
       "0                                       0  ...  0.0  1.0  0.0  0.0  0.0  0.0   \n",
       "1                                       0  ...  0.0  0.0  0.0  0.0  0.0  0.0   \n",
       "2                                       0  ...  0.0  0.0  0.0  0.0  0.0  0.0   \n",
       "3                                       0  ...  0.0  0.0  0.0  0.0  0.0  0.0   \n",
       "4                                       0  ...  0.0  0.0  0.0  0.0  0.0  0.0   \n",
       "\n",
       "    29   30   31   36  \n",
       "0  0.0  0.0  0.0  0.0  \n",
       "1  0.0  0.0  1.0  0.0  \n",
       "2  0.0  0.0  0.0  1.0  \n",
       "3  0.0  0.0  0.0  1.0  \n",
       "4  0.0  0.0  1.0  0.0  \n",
       "\n",
       "[5 rows x 76 columns]"
      ]
     },
     "execution_count": 8,
     "metadata": {},
     "output_type": "execute_result"
    }
   ],
   "source": [
    "X_tr_res.head()"
   ]
  },
  {
   "cell_type": "markdown",
   "metadata": {},
   "source": [
    "Starting with a Decision tree to build our first model and see where our most greediest splits occur."
   ]
  },
  {
   "cell_type": "code",
   "execution_count": 9,
   "metadata": {},
   "outputs": [
    {
     "data": {
      "text/plain": [
       "DecisionTreeClassifier(random_state=2015)"
      ]
     },
     "execution_count": 9,
     "metadata": {},
     "output_type": "execute_result"
    }
   ],
   "source": [
    "dt = DecisionTreeClassifier(random_state=2015)\n",
    "dt.fit(X_tr_res, y_tr_res)"
   ]
  },
  {
   "cell_type": "code",
   "execution_count": 10,
   "metadata": {},
   "outputs": [],
   "source": [
    "from sklearn.metrics import classification_report"
   ]
  },
  {
   "cell_type": "code",
   "execution_count": 11,
   "metadata": {},
   "outputs": [
    {
     "name": "stdout",
     "output_type": "stream",
     "text": [
      "              precision    recall  f1-score   support\n",
      "\n",
      "         1.0       0.98      1.00      0.99     81857\n",
      "         2.0       0.98      0.99      0.99     81857\n",
      "         3.0       1.00      0.98      0.99     81857\n",
      "\n",
      "    accuracy                           0.99    245571\n",
      "   macro avg       0.99      0.99      0.99    245571\n",
      "weighted avg       0.99      0.99      0.99    245571\n",
      "\n"
     ]
    }
   ],
   "source": [
    "print(classification_report(y_tr_res, dt.predict(X_tr_res)))"
   ]
  },
  {
   "cell_type": "markdown",
   "metadata": {},
   "source": [
    "Just to gain an idea of where the most greediest splits occur"
   ]
  },
  {
   "cell_type": "code",
   "execution_count": 12,
   "metadata": {},
   "outputs": [],
   "source": [
    "from sklearn.tree import plot_tree"
   ]
  },
  {
   "cell_type": "code",
   "execution_count": 13,
   "metadata": {},
   "outputs": [
    {
     "data": {
      "text/plain": [
       "[Text(558.0, 665.91, 'has_superstructure_mud_mortar_stone <= 0.5\\ngini = 0.667\\nsamples = 245571\\nvalue = [81857, 81857, 81857]'),\n",
       " Text(279.0, 475.65, 'rc <= 0.5\\ngini = 0.485\\nsamples = 67396\\nvalue = [45175, 16283, 5938]'),\n",
       " Text(139.5, 285.39, '31 <= 0.5\\ngini = 0.586\\nsamples = 35509\\nvalue = [19324, 11017, 5168]'),\n",
       " Text(69.75, 95.13, '\\n  (...)  \\n'),\n",
       " Text(209.25, 95.13, '\\n  (...)  \\n'),\n",
       " Text(418.5, 285.39, 'rc <= 0.5\\ngini = 0.315\\nsamples = 31887\\nvalue = [25851, 5266, 770]'),\n",
       " Text(348.75, 95.13, '\\n  (...)  \\n'),\n",
       " Text(488.25, 95.13, '\\n  (...)  \\n'),\n",
       " Text(837.0, 475.65, '23 <= 0.5\\ngini = 0.641\\nsamples = 178175\\nvalue = [36682, 65574, 75919]'),\n",
       " Text(697.5, 285.39, '28 <= 0.5\\ngini = 0.648\\nsamples = 162469\\nvalue = [36316, 64320, 61833]'),\n",
       " Text(627.75, 95.13, '\\n  (...)  \\n'),\n",
       " Text(767.25, 95.13, '\\n  (...)  \\n'),\n",
       " Text(976.5, 285.39, 'rcc_or_rb_or_rbc <= 0.5\\ngini = 0.189\\nsamples = 15706\\nvalue = [366, 1254, 14086]'),\n",
       " Text(906.75, 95.13, '\\n  (...)  \\n'),\n",
       " Text(1046.25, 95.13, '\\n  (...)  \\n')]"
      ]
     },
     "execution_count": 13,
     "metadata": {},
     "output_type": "execute_result"
    },
    {
     "data": {
      "image/png": "[encoded data removed]",
      "text/plain": [
       "<Figure size 1440x1008 with 1 Axes>"
      ]
     },
     "metadata": {
      "needs_background": "light"
     },
     "output_type": "display_data"
    }
   ],
   "source": [
    "fig, ax = plt.subplots(figsize=(20,14))\n",
    "plot_tree(dt, feature_names=X_tr_res.columns, max_depth=2, filled=True, ax=ax)"
   ]
  },
  {
   "cell_type": "markdown",
   "metadata": {},
   "source": [
    "Identifying our most important features for making classification "
   ]
  },
  {
   "cell_type": "code",
   "execution_count": 14,
   "metadata": {
    "scrolled": true
   },
   "outputs": [],
   "source": [
    "important_features = list(zip(X_tr_res.columns, dt.feature_importances_))\n",
    "sorted_features = sorted(important_features, key=lambda x: x[1])"
   ]
  },
  {
   "cell_type": "code",
   "execution_count": 15,
   "metadata": {},
   "outputs": [
    {
     "data": {
      "image/png": "[encoded data removed]",
      "text/plain": [
       "<Figure size 576x1152 with 1 Axes>"
      ]
     },
     "metadata": {
      "needs_background": "light"
     },
     "output_type": "display_data"
    }
   ],
   "source": [
    "importance = []\n",
    "feature_names = []\n",
    "plt.figure(figsize=(8, 16))\n",
    "n_features = X_tr_res.shape[1]\n",
    "for i in sorted_features:\n",
    "    feature_names.append(i[0])\n",
    "    importance.append(i[1])\n",
    "    \n",
    "plt.barh(range(n_features), importance)\n",
    "plt.yticks(np.arange(n_features), feature_names)\n",
    "plt.xlabel('Feature importance')\n",
    "plt.ylabel('Feature')\n",
    "plt.show()"
   ]
  },
  {
   "cell_type": "markdown",
   "metadata": {},
   "source": [
    "We notice that the plinth area and building age are given importance in our first model. This could be due to the value of these variables being large, We will scale our numeric data and redo our baseline model before we test on our validation set."
   ]
  },
  {
   "cell_type": "code",
   "execution_count": 16,
   "metadata": {},
   "outputs": [],
   "source": [
    "from sklearn.preprocessing import StandardScaler"
   ]
  },
  {
   "cell_type": "code",
   "execution_count": 17,
   "metadata": {},
   "outputs": [
    {
     "data": {
      "text/html": [
       "<div>\n",
       "<style scoped>\n",
       "    .dataframe tbody tr th:only-of-type {\n",
       "        vertical-align: middle;\n",
       "    }\n",
       "\n",
       "    .dataframe tbody tr th {\n",
       "        vertical-align: top;\n",
       "    }\n",
       "\n",
       "    .dataframe thead th {\n",
       "        text-align: right;\n",
       "    }\n",
       "</style>\n",
       "<table border=\"1\" class=\"dataframe\">\n",
       "  <thead>\n",
       "    <tr style=\"text-align: right;\">\n",
       "      <th></th>\n",
       "      <th>count_floors_pre_eq</th>\n",
       "      <th>age_building</th>\n",
       "      <th>plinth_area_sq_ft</th>\n",
       "      <th>height_ft_pre_eq</th>\n",
       "      <th>has_superstructure_adobe_mud</th>\n",
       "      <th>has_superstructure_mud_mortar_stone</th>\n",
       "      <th>has_superstructure_stone_flag</th>\n",
       "      <th>has_superstructure_cement_mortar_stone</th>\n",
       "      <th>has_superstructure_mud_mortar_brick</th>\n",
       "      <th>has_superstructure_cement_mortar_brick</th>\n",
       "      <th>...</th>\n",
       "      <th>20</th>\n",
       "      <th>21</th>\n",
       "      <th>22</th>\n",
       "      <th>23</th>\n",
       "      <th>24</th>\n",
       "      <th>28</th>\n",
       "      <th>29</th>\n",
       "      <th>30</th>\n",
       "      <th>31</th>\n",
       "      <th>36</th>\n",
       "    </tr>\n",
       "  </thead>\n",
       "  <tbody>\n",
       "    <tr>\n",
       "      <th>0</th>\n",
       "      <td>-1.536583</td>\n",
       "      <td>0.442693</td>\n",
       "      <td>-1.098342</td>\n",
       "      <td>-1.386090</td>\n",
       "      <td>0</td>\n",
       "      <td>1</td>\n",
       "      <td>0</td>\n",
       "      <td>0</td>\n",
       "      <td>0</td>\n",
       "      <td>0</td>\n",
       "      <td>...</td>\n",
       "      <td>0.0</td>\n",
       "      <td>1.0</td>\n",
       "      <td>0.0</td>\n",
       "      <td>0.0</td>\n",
       "      <td>0.0</td>\n",
       "      <td>0.0</td>\n",
       "      <td>0.0</td>\n",
       "      <td>0.0</td>\n",
       "      <td>0.0</td>\n",
       "      <td>0.0</td>\n",
       "    </tr>\n",
       "    <tr>\n",
       "      <th>1</th>\n",
       "      <td>-1.536583</td>\n",
       "      <td>-0.120057</td>\n",
       "      <td>-0.952638</td>\n",
       "      <td>-1.386090</td>\n",
       "      <td>0</td>\n",
       "      <td>0</td>\n",
       "      <td>0</td>\n",
       "      <td>0</td>\n",
       "      <td>0</td>\n",
       "      <td>0</td>\n",
       "      <td>...</td>\n",
       "      <td>0.0</td>\n",
       "      <td>0.0</td>\n",
       "      <td>0.0</td>\n",
       "      <td>0.0</td>\n",
       "      <td>0.0</td>\n",
       "      <td>0.0</td>\n",
       "      <td>0.0</td>\n",
       "      <td>0.0</td>\n",
       "      <td>1.0</td>\n",
       "      <td>0.0</td>\n",
       "    </tr>\n",
       "    <tr>\n",
       "      <th>2</th>\n",
       "      <td>-0.047621</td>\n",
       "      <td>-0.241732</td>\n",
       "      <td>-0.118883</td>\n",
       "      <td>-0.686274</td>\n",
       "      <td>0</td>\n",
       "      <td>1</td>\n",
       "      <td>0</td>\n",
       "      <td>0</td>\n",
       "      <td>0</td>\n",
       "      <td>0</td>\n",
       "      <td>...</td>\n",
       "      <td>0.0</td>\n",
       "      <td>0.0</td>\n",
       "      <td>0.0</td>\n",
       "      <td>0.0</td>\n",
       "      <td>0.0</td>\n",
       "      <td>0.0</td>\n",
       "      <td>0.0</td>\n",
       "      <td>0.0</td>\n",
       "      <td>0.0</td>\n",
       "      <td>1.0</td>\n",
       "    </tr>\n",
       "    <tr>\n",
       "      <th>3</th>\n",
       "      <td>-0.047621</td>\n",
       "      <td>-0.089638</td>\n",
       "      <td>0.302041</td>\n",
       "      <td>-0.686274</td>\n",
       "      <td>0</td>\n",
       "      <td>1</td>\n",
       "      <td>0</td>\n",
       "      <td>0</td>\n",
       "      <td>0</td>\n",
       "      <td>0</td>\n",
       "      <td>...</td>\n",
       "      <td>0.0</td>\n",
       "      <td>0.0</td>\n",
       "      <td>0.0</td>\n",
       "      <td>0.0</td>\n",
       "      <td>0.0</td>\n",
       "      <td>0.0</td>\n",
       "      <td>0.0</td>\n",
       "      <td>0.0</td>\n",
       "      <td>0.0</td>\n",
       "      <td>1.0</td>\n",
       "    </tr>\n",
       "    <tr>\n",
       "      <th>4</th>\n",
       "      <td>-0.047621</td>\n",
       "      <td>0.016828</td>\n",
       "      <td>-0.471003</td>\n",
       "      <td>0.363450</td>\n",
       "      <td>0</td>\n",
       "      <td>1</td>\n",
       "      <td>0</td>\n",
       "      <td>0</td>\n",
       "      <td>0</td>\n",
       "      <td>0</td>\n",
       "      <td>...</td>\n",
       "      <td>0.0</td>\n",
       "      <td>0.0</td>\n",
       "      <td>0.0</td>\n",
       "      <td>0.0</td>\n",
       "      <td>0.0</td>\n",
       "      <td>0.0</td>\n",
       "      <td>0.0</td>\n",
       "      <td>0.0</td>\n",
       "      <td>1.0</td>\n",
       "      <td>0.0</td>\n",
       "    </tr>\n",
       "  </tbody>\n",
       "</table>\n",
       "<p>5 rows × 76 columns</p>\n",
       "</div>"
      ],
      "text/plain": [
       "   count_floors_pre_eq  age_building  plinth_area_sq_ft  height_ft_pre_eq  \\\n",
       "0            -1.536583      0.442693          -1.098342         -1.386090   \n",
       "1            -1.536583     -0.120057          -0.952638         -1.386090   \n",
       "2            -0.047621     -0.241732          -0.118883         -0.686274   \n",
       "3            -0.047621     -0.089638           0.302041         -0.686274   \n",
       "4            -0.047621      0.016828          -0.471003          0.363450   \n",
       "\n",
       "   has_superstructure_adobe_mud  has_superstructure_mud_mortar_stone  \\\n",
       "0                             0                                    1   \n",
       "1                             0                                    0   \n",
       "2                             0                                    1   \n",
       "3                             0                                    1   \n",
       "4                             0                                    1   \n",
       "\n",
       "   has_superstructure_stone_flag  has_superstructure_cement_mortar_stone  \\\n",
       "0                              0                                       0   \n",
       "1                              0                                       0   \n",
       "2                              0                                       0   \n",
       "3                              0                                       0   \n",
       "4                              0                                       0   \n",
       "\n",
       "   has_superstructure_mud_mortar_brick  \\\n",
       "0                                    0   \n",
       "1                                    0   \n",
       "2                                    0   \n",
       "3                                    0   \n",
       "4                                    0   \n",
       "\n",
       "   has_superstructure_cement_mortar_brick  ...   20   21   22   23   24   28  \\\n",
       "0                                       0  ...  0.0  1.0  0.0  0.0  0.0  0.0   \n",
       "1                                       0  ...  0.0  0.0  0.0  0.0  0.0  0.0   \n",
       "2                                       0  ...  0.0  0.0  0.0  0.0  0.0  0.0   \n",
       "3                                       0  ...  0.0  0.0  0.0  0.0  0.0  0.0   \n",
       "4                                       0  ...  0.0  0.0  0.0  0.0  0.0  0.0   \n",
       "\n",
       "    29   30   31   36  \n",
       "0  0.0  0.0  0.0  0.0  \n",
       "1  0.0  0.0  1.0  0.0  \n",
       "2  0.0  0.0  0.0  1.0  \n",
       "3  0.0  0.0  0.0  1.0  \n",
       "4  0.0  0.0  1.0  0.0  \n",
       "\n",
       "[5 rows x 76 columns]"
      ]
     },
     "execution_count": 17,
     "metadata": {},
     "output_type": "execute_result"
    }
   ],
   "source": [
    "X_train_scaled = X_tr_res.copy()\n",
    "col_names = ['count_floors_pre_eq', 'count_families', 'age_building', 'plinth_area_sq_ft', 'height_ft_pre_eq']\n",
    "features = X_train_scaled[col_names]\n",
    "scaler = StandardScaler().fit(features.values)\n",
    "features = scaler.transform(features.values)\n",
    "\n",
    "X_train_scaled[col_names] = features\n",
    "X_train_scaled.head()"
   ]
  },
  {
   "cell_type": "code",
   "execution_count": 18,
   "metadata": {},
   "outputs": [],
   "source": [
    "X_val_scaled = X_val.copy()\n",
    "X_test_scaled = X_test.copy()\n",
    "\n",
    "features = X_val_scaled[col_names]\n",
    "features = scaler.transform(features.values)\n",
    "X_val_scaled[col_names] = features\n",
    "features = X_test_scaled[col_names]\n",
    "features = scaler.transform(features.values)\n",
    "X_test_scaled[col_names] = features\n"
   ]
  },
  {
   "cell_type": "code",
   "execution_count": 19,
   "metadata": {},
   "outputs": [
    {
     "data": {
      "text/html": [
       "<div>\n",
       "<style scoped>\n",
       "    .dataframe tbody tr th:only-of-type {\n",
       "        vertical-align: middle;\n",
       "    }\n",
       "\n",
       "    .dataframe tbody tr th {\n",
       "        vertical-align: top;\n",
       "    }\n",
       "\n",
       "    .dataframe thead th {\n",
       "        text-align: right;\n",
       "    }\n",
       "</style>\n",
       "<table border=\"1\" class=\"dataframe\">\n",
       "  <thead>\n",
       "    <tr style=\"text-align: right;\">\n",
       "      <th></th>\n",
       "      <th>count_floors_pre_eq</th>\n",
       "      <th>age_building</th>\n",
       "      <th>plinth_area_sq_ft</th>\n",
       "      <th>height_ft_pre_eq</th>\n",
       "      <th>has_superstructure_adobe_mud</th>\n",
       "      <th>has_superstructure_mud_mortar_stone</th>\n",
       "      <th>has_superstructure_stone_flag</th>\n",
       "      <th>has_superstructure_cement_mortar_stone</th>\n",
       "      <th>has_superstructure_mud_mortar_brick</th>\n",
       "      <th>has_superstructure_cement_mortar_brick</th>\n",
       "      <th>...</th>\n",
       "      <th>20</th>\n",
       "      <th>21</th>\n",
       "      <th>22</th>\n",
       "      <th>23</th>\n",
       "      <th>24</th>\n",
       "      <th>28</th>\n",
       "      <th>29</th>\n",
       "      <th>30</th>\n",
       "      <th>31</th>\n",
       "      <th>36</th>\n",
       "    </tr>\n",
       "    <tr>\n",
       "      <th>building_id</th>\n",
       "      <th></th>\n",
       "      <th></th>\n",
       "      <th></th>\n",
       "      <th></th>\n",
       "      <th></th>\n",
       "      <th></th>\n",
       "      <th></th>\n",
       "      <th></th>\n",
       "      <th></th>\n",
       "      <th></th>\n",
       "      <th></th>\n",
       "      <th></th>\n",
       "      <th></th>\n",
       "      <th></th>\n",
       "      <th></th>\n",
       "      <th></th>\n",
       "      <th></th>\n",
       "      <th></th>\n",
       "      <th></th>\n",
       "      <th></th>\n",
       "      <th></th>\n",
       "    </tr>\n",
       "  </thead>\n",
       "  <tbody>\n",
       "    <tr>\n",
       "      <th>366409000591</th>\n",
       "      <td>-0.047621</td>\n",
       "      <td>0.108085</td>\n",
       "      <td>0.399178</td>\n",
       "      <td>0.538404</td>\n",
       "      <td>0</td>\n",
       "      <td>1</td>\n",
       "      <td>0</td>\n",
       "      <td>1</td>\n",
       "      <td>0</td>\n",
       "      <td>0</td>\n",
       "      <td>...</td>\n",
       "      <td>0.0</td>\n",
       "      <td>0.0</td>\n",
       "      <td>0.0</td>\n",
       "      <td>0.0</td>\n",
       "      <td>0.0</td>\n",
       "      <td>0.0</td>\n",
       "      <td>0.0</td>\n",
       "      <td>0.0</td>\n",
       "      <td>0.0</td>\n",
       "      <td>1.0</td>\n",
       "    </tr>\n",
       "    <tr>\n",
       "      <th>302306002231</th>\n",
       "      <td>-0.047621</td>\n",
       "      <td>-0.256942</td>\n",
       "      <td>1.734804</td>\n",
       "      <td>-0.686274</td>\n",
       "      <td>0</td>\n",
       "      <td>1</td>\n",
       "      <td>0</td>\n",
       "      <td>0</td>\n",
       "      <td>0</td>\n",
       "      <td>0</td>\n",
       "      <td>...</td>\n",
       "      <td>0.0</td>\n",
       "      <td>0.0</td>\n",
       "      <td>0.0</td>\n",
       "      <td>0.0</td>\n",
       "      <td>0.0</td>\n",
       "      <td>0.0</td>\n",
       "      <td>0.0</td>\n",
       "      <td>1.0</td>\n",
       "      <td>0.0</td>\n",
       "      <td>0.0</td>\n",
       "    </tr>\n",
       "    <tr>\n",
       "      <th>283907000681</th>\n",
       "      <td>-0.047621</td>\n",
       "      <td>0.488321</td>\n",
       "      <td>-0.248399</td>\n",
       "      <td>1.063266</td>\n",
       "      <td>0</td>\n",
       "      <td>1</td>\n",
       "      <td>0</td>\n",
       "      <td>0</td>\n",
       "      <td>0</td>\n",
       "      <td>0</td>\n",
       "      <td>...</td>\n",
       "      <td>0.0</td>\n",
       "      <td>0.0</td>\n",
       "      <td>0.0</td>\n",
       "      <td>0.0</td>\n",
       "      <td>0.0</td>\n",
       "      <td>1.0</td>\n",
       "      <td>0.0</td>\n",
       "      <td>0.0</td>\n",
       "      <td>0.0</td>\n",
       "      <td>0.0</td>\n",
       "    </tr>\n",
       "    <tr>\n",
       "      <th>290508020311</th>\n",
       "      <td>1.441341</td>\n",
       "      <td>-0.226523</td>\n",
       "      <td>-0.005558</td>\n",
       "      <td>1.588128</td>\n",
       "      <td>0</td>\n",
       "      <td>0</td>\n",
       "      <td>1</td>\n",
       "      <td>0</td>\n",
       "      <td>0</td>\n",
       "      <td>0</td>\n",
       "      <td>...</td>\n",
       "      <td>0.0</td>\n",
       "      <td>0.0</td>\n",
       "      <td>0.0</td>\n",
       "      <td>0.0</td>\n",
       "      <td>0.0</td>\n",
       "      <td>0.0</td>\n",
       "      <td>1.0</td>\n",
       "      <td>0.0</td>\n",
       "      <td>0.0</td>\n",
       "      <td>0.0</td>\n",
       "    </tr>\n",
       "    <tr>\n",
       "      <th>201404000311</th>\n",
       "      <td>-0.047621</td>\n",
       "      <td>-0.120057</td>\n",
       "      <td>-0.491240</td>\n",
       "      <td>0.713358</td>\n",
       "      <td>0</td>\n",
       "      <td>1</td>\n",
       "      <td>0</td>\n",
       "      <td>0</td>\n",
       "      <td>0</td>\n",
       "      <td>0</td>\n",
       "      <td>...</td>\n",
       "      <td>1.0</td>\n",
       "      <td>0.0</td>\n",
       "      <td>0.0</td>\n",
       "      <td>0.0</td>\n",
       "      <td>0.0</td>\n",
       "      <td>0.0</td>\n",
       "      <td>0.0</td>\n",
       "      <td>0.0</td>\n",
       "      <td>0.0</td>\n",
       "      <td>0.0</td>\n",
       "    </tr>\n",
       "  </tbody>\n",
       "</table>\n",
       "<p>5 rows × 76 columns</p>\n",
       "</div>"
      ],
      "text/plain": [
       "              count_floors_pre_eq  age_building  plinth_area_sq_ft  \\\n",
       "building_id                                                          \n",
       "366409000591            -0.047621      0.108085           0.399178   \n",
       "302306002231            -0.047621     -0.256942           1.734804   \n",
       "283907000681            -0.047621      0.488321          -0.248399   \n",
       "290508020311             1.441341     -0.226523          -0.005558   \n",
       "201404000311            -0.047621     -0.120057          -0.491240   \n",
       "\n",
       "              height_ft_pre_eq  has_superstructure_adobe_mud  \\\n",
       "building_id                                                    \n",
       "366409000591          0.538404                             0   \n",
       "302306002231         -0.686274                             0   \n",
       "283907000681          1.063266                             0   \n",
       "290508020311          1.588128                             0   \n",
       "201404000311          0.713358                             0   \n",
       "\n",
       "              has_superstructure_mud_mortar_stone  \\\n",
       "building_id                                         \n",
       "366409000591                                    1   \n",
       "302306002231                                    1   \n",
       "283907000681                                    1   \n",
       "290508020311                                    0   \n",
       "201404000311                                    1   \n",
       "\n",
       "              has_superstructure_stone_flag  \\\n",
       "building_id                                   \n",
       "366409000591                              0   \n",
       "302306002231                              0   \n",
       "283907000681                              0   \n",
       "290508020311                              1   \n",
       "201404000311                              0   \n",
       "\n",
       "              has_superstructure_cement_mortar_stone  \\\n",
       "building_id                                            \n",
       "366409000591                                       1   \n",
       "302306002231                                       0   \n",
       "283907000681                                       0   \n",
       "290508020311                                       0   \n",
       "201404000311                                       0   \n",
       "\n",
       "              has_superstructure_mud_mortar_brick  \\\n",
       "building_id                                         \n",
       "366409000591                                    0   \n",
       "302306002231                                    0   \n",
       "283907000681                                    0   \n",
       "290508020311                                    0   \n",
       "201404000311                                    0   \n",
       "\n",
       "              has_superstructure_cement_mortar_brick  ...   20   21   22   23  \\\n",
       "building_id                                           ...                       \n",
       "366409000591                                       0  ...  0.0  0.0  0.0  0.0   \n",
       "302306002231                                       0  ...  0.0  0.0  0.0  0.0   \n",
       "283907000681                                       0  ...  0.0  0.0  0.0  0.0   \n",
       "290508020311                                       0  ...  0.0  0.0  0.0  0.0   \n",
       "201404000311                                       0  ...  1.0  0.0  0.0  0.0   \n",
       "\n",
       "               24   28   29   30   31   36  \n",
       "building_id                                 \n",
       "366409000591  0.0  0.0  0.0  0.0  0.0  1.0  \n",
       "302306002231  0.0  0.0  0.0  1.0  0.0  0.0  \n",
       "283907000681  0.0  1.0  0.0  0.0  0.0  0.0  \n",
       "290508020311  0.0  0.0  1.0  0.0  0.0  0.0  \n",
       "201404000311  0.0  0.0  0.0  0.0  0.0  0.0  \n",
       "\n",
       "[5 rows x 76 columns]"
      ]
     },
     "execution_count": 19,
     "metadata": {},
     "output_type": "execute_result"
    }
   ],
   "source": [
    "X_val_scaled.head()"
   ]
  },
  {
   "cell_type": "code",
   "execution_count": 20,
   "metadata": {},
   "outputs": [
    {
     "data": {
      "text/html": [
       "<div>\n",
       "<style scoped>\n",
       "    .dataframe tbody tr th:only-of-type {\n",
       "        vertical-align: middle;\n",
       "    }\n",
       "\n",
       "    .dataframe tbody tr th {\n",
       "        vertical-align: top;\n",
       "    }\n",
       "\n",
       "    .dataframe thead th {\n",
       "        text-align: right;\n",
       "    }\n",
       "</style>\n",
       "<table border=\"1\" class=\"dataframe\">\n",
       "  <thead>\n",
       "    <tr style=\"text-align: right;\">\n",
       "      <th></th>\n",
       "      <th>count_floors_pre_eq</th>\n",
       "      <th>age_building</th>\n",
       "      <th>plinth_area_sq_ft</th>\n",
       "      <th>height_ft_pre_eq</th>\n",
       "      <th>has_superstructure_adobe_mud</th>\n",
       "      <th>has_superstructure_mud_mortar_stone</th>\n",
       "      <th>has_superstructure_stone_flag</th>\n",
       "      <th>has_superstructure_cement_mortar_stone</th>\n",
       "      <th>has_superstructure_mud_mortar_brick</th>\n",
       "      <th>has_superstructure_cement_mortar_brick</th>\n",
       "      <th>...</th>\n",
       "      <th>20</th>\n",
       "      <th>21</th>\n",
       "      <th>22</th>\n",
       "      <th>23</th>\n",
       "      <th>24</th>\n",
       "      <th>28</th>\n",
       "      <th>29</th>\n",
       "      <th>30</th>\n",
       "      <th>31</th>\n",
       "      <th>36</th>\n",
       "    </tr>\n",
       "    <tr>\n",
       "      <th>building_id</th>\n",
       "      <th></th>\n",
       "      <th></th>\n",
       "      <th></th>\n",
       "      <th></th>\n",
       "      <th></th>\n",
       "      <th></th>\n",
       "      <th></th>\n",
       "      <th></th>\n",
       "      <th></th>\n",
       "      <th></th>\n",
       "      <th></th>\n",
       "      <th></th>\n",
       "      <th></th>\n",
       "      <th></th>\n",
       "      <th></th>\n",
       "      <th></th>\n",
       "      <th></th>\n",
       "      <th></th>\n",
       "      <th></th>\n",
       "      <th></th>\n",
       "      <th></th>\n",
       "    </tr>\n",
       "  </thead>\n",
       "  <tbody>\n",
       "    <tr>\n",
       "      <th>231604000321</th>\n",
       "      <td>1.441341</td>\n",
       "      <td>-0.180895</td>\n",
       "      <td>-0.050078</td>\n",
       "      <td>0.888312</td>\n",
       "      <td>0</td>\n",
       "      <td>1</td>\n",
       "      <td>0</td>\n",
       "      <td>0</td>\n",
       "      <td>0</td>\n",
       "      <td>0</td>\n",
       "      <td>...</td>\n",
       "      <td>0.0</td>\n",
       "      <td>0.0</td>\n",
       "      <td>0.0</td>\n",
       "      <td>1.0</td>\n",
       "      <td>0.0</td>\n",
       "      <td>0.0</td>\n",
       "      <td>0.0</td>\n",
       "      <td>0.0</td>\n",
       "      <td>0.0</td>\n",
       "      <td>0.0</td>\n",
       "    </tr>\n",
       "    <tr>\n",
       "      <th>362809000701</th>\n",
       "      <td>-1.536583</td>\n",
       "      <td>-0.120057</td>\n",
       "      <td>-0.337440</td>\n",
       "      <td>-0.511320</td>\n",
       "      <td>0</td>\n",
       "      <td>1</td>\n",
       "      <td>0</td>\n",
       "      <td>0</td>\n",
       "      <td>0</td>\n",
       "      <td>0</td>\n",
       "      <td>...</td>\n",
       "      <td>0.0</td>\n",
       "      <td>0.0</td>\n",
       "      <td>0.0</td>\n",
       "      <td>0.0</td>\n",
       "      <td>0.0</td>\n",
       "      <td>0.0</td>\n",
       "      <td>0.0</td>\n",
       "      <td>0.0</td>\n",
       "      <td>0.0</td>\n",
       "      <td>1.0</td>\n",
       "    </tr>\n",
       "    <tr>\n",
       "      <th>202807000381</th>\n",
       "      <td>-0.047621</td>\n",
       "      <td>-0.196104</td>\n",
       "      <td>0.107768</td>\n",
       "      <td>-0.336366</td>\n",
       "      <td>0</td>\n",
       "      <td>1</td>\n",
       "      <td>0</td>\n",
       "      <td>0</td>\n",
       "      <td>0</td>\n",
       "      <td>0</td>\n",
       "      <td>...</td>\n",
       "      <td>1.0</td>\n",
       "      <td>0.0</td>\n",
       "      <td>0.0</td>\n",
       "      <td>0.0</td>\n",
       "      <td>0.0</td>\n",
       "      <td>0.0</td>\n",
       "      <td>0.0</td>\n",
       "      <td>0.0</td>\n",
       "      <td>0.0</td>\n",
       "      <td>0.0</td>\n",
       "    </tr>\n",
       "    <tr>\n",
       "      <th>230209001241</th>\n",
       "      <td>1.441341</td>\n",
       "      <td>0.260179</td>\n",
       "      <td>-0.248399</td>\n",
       "      <td>0.888312</td>\n",
       "      <td>0</td>\n",
       "      <td>1</td>\n",
       "      <td>0</td>\n",
       "      <td>0</td>\n",
       "      <td>0</td>\n",
       "      <td>0</td>\n",
       "      <td>...</td>\n",
       "      <td>0.0</td>\n",
       "      <td>0.0</td>\n",
       "      <td>0.0</td>\n",
       "      <td>1.0</td>\n",
       "      <td>0.0</td>\n",
       "      <td>0.0</td>\n",
       "      <td>0.0</td>\n",
       "      <td>0.0</td>\n",
       "      <td>0.0</td>\n",
       "      <td>0.0</td>\n",
       "    </tr>\n",
       "    <tr>\n",
       "      <th>202604001902</th>\n",
       "      <td>-0.047621</td>\n",
       "      <td>-0.302570</td>\n",
       "      <td>-0.713844</td>\n",
       "      <td>-0.161412</td>\n",
       "      <td>0</td>\n",
       "      <td>0</td>\n",
       "      <td>0</td>\n",
       "      <td>0</td>\n",
       "      <td>0</td>\n",
       "      <td>0</td>\n",
       "      <td>...</td>\n",
       "      <td>1.0</td>\n",
       "      <td>0.0</td>\n",
       "      <td>0.0</td>\n",
       "      <td>0.0</td>\n",
       "      <td>0.0</td>\n",
       "      <td>0.0</td>\n",
       "      <td>0.0</td>\n",
       "      <td>0.0</td>\n",
       "      <td>0.0</td>\n",
       "      <td>0.0</td>\n",
       "    </tr>\n",
       "  </tbody>\n",
       "</table>\n",
       "<p>5 rows × 76 columns</p>\n",
       "</div>"
      ],
      "text/plain": [
       "              count_floors_pre_eq  age_building  plinth_area_sq_ft  \\\n",
       "building_id                                                          \n",
       "231604000321             1.441341     -0.180895          -0.050078   \n",
       "362809000701            -1.536583     -0.120057          -0.337440   \n",
       "202807000381            -0.047621     -0.196104           0.107768   \n",
       "230209001241             1.441341      0.260179          -0.248399   \n",
       "202604001902            -0.047621     -0.302570          -0.713844   \n",
       "\n",
       "              height_ft_pre_eq  has_superstructure_adobe_mud  \\\n",
       "building_id                                                    \n",
       "231604000321          0.888312                             0   \n",
       "362809000701         -0.511320                             0   \n",
       "202807000381         -0.336366                             0   \n",
       "230209001241          0.888312                             0   \n",
       "202604001902         -0.161412                             0   \n",
       "\n",
       "              has_superstructure_mud_mortar_stone  \\\n",
       "building_id                                         \n",
       "231604000321                                    1   \n",
       "362809000701                                    1   \n",
       "202807000381                                    1   \n",
       "230209001241                                    1   \n",
       "202604001902                                    0   \n",
       "\n",
       "              has_superstructure_stone_flag  \\\n",
       "building_id                                   \n",
       "231604000321                              0   \n",
       "362809000701                              0   \n",
       "202807000381                              0   \n",
       "230209001241                              0   \n",
       "202604001902                              0   \n",
       "\n",
       "              has_superstructure_cement_mortar_stone  \\\n",
       "building_id                                            \n",
       "231604000321                                       0   \n",
       "362809000701                                       0   \n",
       "202807000381                                       0   \n",
       "230209001241                                       0   \n",
       "202604001902                                       0   \n",
       "\n",
       "              has_superstructure_mud_mortar_brick  \\\n",
       "building_id                                         \n",
       "231604000321                                    0   \n",
       "362809000701                                    0   \n",
       "202807000381                                    0   \n",
       "230209001241                                    0   \n",
       "202604001902                                    0   \n",
       "\n",
       "              has_superstructure_cement_mortar_brick  ...   20   21   22   23  \\\n",
       "building_id                                           ...                       \n",
       "231604000321                                       0  ...  0.0  0.0  0.0  1.0   \n",
       "362809000701                                       0  ...  0.0  0.0  0.0  0.0   \n",
       "202807000381                                       0  ...  1.0  0.0  0.0  0.0   \n",
       "230209001241                                       0  ...  0.0  0.0  0.0  1.0   \n",
       "202604001902                                       0  ...  1.0  0.0  0.0  0.0   \n",
       "\n",
       "               24   28   29   30   31   36  \n",
       "building_id                                 \n",
       "231604000321  0.0  0.0  0.0  0.0  0.0  0.0  \n",
       "362809000701  0.0  0.0  0.0  0.0  0.0  1.0  \n",
       "202807000381  0.0  0.0  0.0  0.0  0.0  0.0  \n",
       "230209001241  0.0  0.0  0.0  0.0  0.0  0.0  \n",
       "202604001902  0.0  0.0  0.0  0.0  0.0  0.0  \n",
       "\n",
       "[5 rows x 76 columns]"
      ]
     },
     "execution_count": 20,
     "metadata": {},
     "output_type": "execute_result"
    }
   ],
   "source": [
    "X_test_scaled.head()"
   ]
  },
  {
   "cell_type": "code",
   "execution_count": 21,
   "metadata": {},
   "outputs": [
    {
     "data": {
      "text/plain": [
       "DecisionTreeClassifier(random_state=2015)"
      ]
     },
     "execution_count": 21,
     "metadata": {},
     "output_type": "execute_result"
    }
   ],
   "source": [
    "dt2 = DecisionTreeClassifier(random_state=2015)\n",
    "dt2.fit(X_train_scaled, y_tr_res)"
   ]
  },
  {
   "cell_type": "code",
   "execution_count": 22,
   "metadata": {},
   "outputs": [
    {
     "name": "stdout",
     "output_type": "stream",
     "text": [
      "              precision    recall  f1-score   support\n",
      "\n",
      "         1.0       0.98      1.00      0.99     81857\n",
      "         2.0       0.98      0.99      0.99     81857\n",
      "         3.0       1.00      0.98      0.99     81857\n",
      "\n",
      "    accuracy                           0.99    245571\n",
      "   macro avg       0.99      0.99      0.99    245571\n",
      "weighted avg       0.99      0.99      0.99    245571\n",
      "\n"
     ]
    }
   ],
   "source": [
    "print(classification_report(y_tr_res, dt2.predict(X_train_scaled)))"
   ]
  },
  {
   "cell_type": "code",
   "execution_count": 23,
   "metadata": {},
   "outputs": [
    {
     "data": {
      "image/png": "[encoded data removed]",
      "text/plain": [
       "<Figure size 576x1152 with 1 Axes>"
      ]
     },
     "metadata": {
      "needs_background": "light"
     },
     "output_type": "display_data"
    }
   ],
   "source": [
    "important_features = list(zip(X_train_scaled.columns, dt2.feature_importances_))\n",
    "sorted_features = sorted(important_features, key=lambda x: x[1])\n",
    "importance = []\n",
    "feature_names = []\n",
    "\n",
    "for i in sorted_features:\n",
    "    feature_names.append(i[0])\n",
    "    importance.append(i[1])\n",
    "    \n",
    "plt.figure(figsize=(8, 16))\n",
    "n_features = X_train_scaled.shape[1]    \n",
    "plt.barh(range(n_features), importance)\n",
    "plt.yticks(np.arange(n_features), feature_names)\n",
    "plt.xlabel('Feature importance')\n",
    "plt.ylabel('Feature')\n",
    "plt.show()"
   ]
  },
  {
   "cell_type": "markdown",
   "metadata": {},
   "source": [
    "scaling the numeric columns didn't change anything. we'll go ahead and try out our validation set and see how high the variance is between the training and validation set (expecting it to be high since the model is definitely overfitting the training set at the moment)"
   ]
  },
  {
   "cell_type": "code",
   "execution_count": 24,
   "metadata": {},
   "outputs": [
    {
     "name": "stdout",
     "output_type": "stream",
     "text": [
      "              precision    recall  f1-score   support\n",
      "\n",
      "         1.0       0.51      0.60      0.55     33118\n",
      "         2.0       0.26      0.45      0.33     27409\n",
      "         3.0       0.82      0.59      0.68     91892\n",
      "\n",
      "    accuracy                           0.57    152419\n",
      "   macro avg       0.53      0.55      0.52    152419\n",
      "weighted avg       0.65      0.57      0.59    152419\n",
      "\n",
      "              precision    recall  f1-score   support\n",
      "\n",
      "         1.0       0.51      0.60      0.55     33118\n",
      "         2.0       0.26      0.45      0.33     27409\n",
      "         3.0       0.82      0.59      0.68     91892\n",
      "\n",
      "    accuracy                           0.57    152419\n",
      "   macro avg       0.53      0.55      0.52    152419\n",
      "weighted avg       0.65      0.57      0.59    152419\n",
      "\n"
     ]
    }
   ],
   "source": [
    "print(classification_report(y_val, dt.predict(X_val)))\n",
    "print(classification_report(y_val, dt2.predict(X_val_scaled)))"
   ]
  },
  {
   "cell_type": "markdown",
   "metadata": {},
   "source": [
    "As guessed our model failed to perform well on our validation set. Let's fix this with some regularization, hyperparameter tuning and using ensemble methods.\n",
    "\n",
    "For future comprisons, our baseline model gives us a recall score for class 3 of 59% (on validation set)."
   ]
  },
  {
   "cell_type": "markdown",
   "metadata": {},
   "source": [
    "### Ensemble Methods for Classification\n",
    "Game plan:\n",
    "- Start with a basic Vanilla classifier with cross validation\n",
    "- Test out the model on validation set\n",
    "- sample the training data and run grid search to find hyperprameters\n",
    "- Run models on the entire training set with identified hyperparameters.\n",
    "- compare train and validation score\n",
    "- Identify the best model and then score the test data\n",
    "\n",
    "### RandomForestClassifier"
   ]
  },
  {
   "cell_type": "code",
   "execution_count": 25,
   "metadata": {},
   "outputs": [],
   "source": [
    "recall3 = mfs.scorer_recall3()\n",
    "f13 = mfs.scorer_f13()"
   ]
  },
  {
   "cell_type": "code",
   "execution_count": 73,
   "metadata": {},
   "outputs": [
    {
     "name": "stdout",
     "output_type": "stream",
     "text": [
      "Racall for class 3 :  [0.65434889 0.66575041 0.65139576 0.65927555 0.65960176]\n"
     ]
    }
   ],
   "source": [
    "rfc1 = RandomForestClassifier(random_state=2015)\n",
    "print('Racall for class 3 : ', cross_val_score(rfc1, X_train_scaled, y_tr_res, cv=5, scoring=recall3))"
   ]
  },
  {
   "cell_type": "markdown",
   "metadata": {},
   "source": [
    "Low variance observed between the folds and improvement from 59% recall score from our baseline. However, at around 65% the recall score is quite low still. "
   ]
  },
  {
   "cell_type": "code",
   "execution_count": 74,
   "metadata": {},
   "outputs": [
    {
     "data": {
      "text/plain": [
       "RandomForestClassifier(random_state=2015)"
      ]
     },
     "execution_count": 74,
     "metadata": {},
     "output_type": "execute_result"
    }
   ],
   "source": [
    "rfc1.fit(X_train_scaled, y_tr_res)"
   ]
  },
  {
   "cell_type": "code",
   "execution_count": 101,
   "metadata": {},
   "outputs": [
    {
     "name": "stdout",
     "output_type": "stream",
     "text": [
      "Recall Score Class 3 Validation set:  0.6602533408784225\n"
     ]
    }
   ],
   "source": [
    "print('Recall Score Class 3 Validation set: ', recall_score(y_val, rfc1.predict(X_val_scaled), average=None)[2])"
   ]
  },
  {
   "cell_type": "code",
   "execution_count": 76,
   "metadata": {},
   "outputs": [
    {
     "name": "stdout",
     "output_type": "stream",
     "text": [
      "Recall Score Class 3 Train set:  0.9892495449381238\n"
     ]
    }
   ],
   "source": [
    "print('Recall Score Class 3 Train set: ', recall_score(y_tr_res, rfc1.predict(X_train_scaled), average=None)[2])"
   ]
  },
  {
   "cell_type": "markdown",
   "metadata": {},
   "source": [
    "Our model is currently overfitting our training data and fails to be generalized on the validation set resulting in high variance. "
   ]
  },
  {
   "cell_type": "markdown",
   "metadata": {},
   "source": [
    "We'll resample the training data and run a grid search to see if we can improve this. (we do this only because of computational complexity and runtime issue)"
   ]
  },
  {
   "cell_type": "code",
   "execution_count": 78,
   "metadata": {},
   "outputs": [
    {
     "data": {
      "text/plain": [
       "3.0    0.334742\n",
       "2.0    0.333764\n",
       "1.0    0.331494\n",
       "Name: target, dtype: float64"
      ]
     },
     "execution_count": 78,
     "metadata": {},
     "output_type": "execute_result"
    }
   ],
   "source": [
    "combined_train = pd.concat([X_train_scaled, y_tr_res], axis=1)\n",
    "smaller_train = combined_train.sample(frac=0.4, random_state=2015)\n",
    "smaller_train.target.value_counts(normalize=True)"
   ]
  },
  {
   "cell_type": "code",
   "execution_count": 79,
   "metadata": {},
   "outputs": [],
   "source": [
    "X_for_gs = smaller_train.drop('target', axis=1)\n",
    "y_for_gs = smaller_train['target']"
   ]
  },
  {
   "cell_type": "code",
   "execution_count": 36,
   "metadata": {},
   "outputs": [],
   "source": [
    "param_grid = {\n",
    "    'n_estimators': [200, 300, 450],\n",
    "    'max_features': ['sqrt', 'log2'],\n",
    "    'max_depth': [None, 50, 30]\n",
    "}"
   ]
  },
  {
   "cell_type": "code",
   "execution_count": 37,
   "metadata": {},
   "outputs": [],
   "source": [
    "rf = RandomForestClassifier(random_state=2015)\n",
    "gs = GridSearchCV(rf, param_grid=param_grid, scoring=recall3, cv=3)"
   ]
  },
  {
   "cell_type": "code",
   "execution_count": 38,
   "metadata": {},
   "outputs": [
    {
     "data": {
      "text/plain": [
       "GridSearchCV(cv=3, estimator=RandomForestClassifier(random_state=2015),\n",
       "             param_grid={'max_depth': [None, 50, 30],\n",
       "                         'max_features': ['sqrt', 'log2'],\n",
       "                         'n_estimators': [200, 300, 450]},\n",
       "             scoring=make_scorer(recall_score_class3))"
      ]
     },
     "execution_count": 38,
     "metadata": {},
     "output_type": "execute_result"
    }
   ],
   "source": [
    "gs.fit(X_for_gs, y_for_gs)"
   ]
  },
  {
   "cell_type": "code",
   "execution_count": 39,
   "metadata": {},
   "outputs": [
    {
     "data": {
      "text/plain": [
       "{'max_depth': 30, 'max_features': 'sqrt', 'n_estimators': 200}"
      ]
     },
     "execution_count": 39,
     "metadata": {},
     "output_type": "execute_result"
    }
   ],
   "source": [
    "gs.best_params_"
   ]
  },
  {
   "cell_type": "markdown",
   "metadata": {},
   "source": [
    "Note: Our best params identified are constrained by our choice of grid as well as resampled dataset. There is room for improvement here.\n",
    "\n",
    "`best_params` = {'max_depth': 30, 'max_features': 'sqrt', 'n_estimators': 200}"
   ]
  },
  {
   "cell_type": "code",
   "execution_count": 40,
   "metadata": {},
   "outputs": [
    {
     "data": {
      "text/plain": [
       "RandomForestClassifier(max_depth=30, max_features='sqrt', n_estimators=200,\n",
       "                       random_state=2015)"
      ]
     },
     "execution_count": 40,
     "metadata": {},
     "output_type": "execute_result"
    }
   ],
   "source": [
    "gs.best_estimator_"
   ]
  },
  {
   "cell_type": "code",
   "execution_count": 41,
   "metadata": {},
   "outputs": [],
   "source": [
    "rfc2 = RandomForestClassifier(max_depth=30, max_features='sqrt',\n",
    "                              n_estimators=200,random_state=2015)\n",
    "\n",
    "rfc2.fit(X_train_scaled, y_tr_res)"
   ]
  },
  {
   "cell_type": "code",
   "execution_count": 42,
   "metadata": {},
   "outputs": [
    {
     "name": "stdout",
     "output_type": "stream",
     "text": [
      "0.6788294954947112\n"
     ]
    }
   ],
   "source": [
    "print(recall_score(y_val, rfc2.predict(X_val_scaled), average=None)[2])"
   ]
  },
  {
   "cell_type": "code",
   "execution_count": 72,
   "metadata": {},
   "outputs": [
    {
     "name": "stdout",
     "output_type": "stream",
     "text": [
      "              precision    recall  f1-score   support\n",
      "\n",
      "         1.0       0.93      0.88      0.90     81857\n",
      "         2.0       0.84      0.86      0.85     81857\n",
      "         3.0       0.86      0.89      0.88     81857\n",
      "\n",
      "    accuracy                           0.87    245571\n",
      "   macro avg       0.88      0.87      0.88    245571\n",
      "weighted avg       0.88      0.87      0.88    245571\n",
      "\n"
     ]
    }
   ],
   "source": [
    "print(classification_report(y_tr_res, rfc2.predict(X_train_scaled)))"
   ]
  },
  {
   "cell_type": "code",
   "execution_count": 43,
   "metadata": {},
   "outputs": [
    {
     "name": "stdout",
     "output_type": "stream",
     "text": [
      "              precision    recall  f1-score   support\n",
      "\n",
      "         1.0       0.65      0.69      0.67     33118\n",
      "         2.0       0.32      0.53      0.40     27409\n",
      "         3.0       0.87      0.68      0.76     91892\n",
      "\n",
      "    accuracy                           0.65    152419\n",
      "   macro avg       0.61      0.63      0.61    152419\n",
      "weighted avg       0.72      0.65      0.68    152419\n",
      "\n"
     ]
    }
   ],
   "source": [
    "print(classification_report(y_val, rfc2.predict(X_val_scaled)))"
   ]
  },
  {
   "cell_type": "markdown",
   "metadata": {},
   "source": [
    "Tweaking the hyperparameters with the aid of grid search helped improve our bias and variance only slightly, We are still overfitting the training data and missing our mark on the validation set. \n",
    "\n",
    "We'll try tweaking the hyperparameters to make the model more generalizable"
   ]
  },
  {
   "cell_type": "code",
   "execution_count": 83,
   "metadata": {},
   "outputs": [
    {
     "data": {
      "text/plain": [
       "RandomForestClassifier(max_depth=12, max_features='sqrt', n_estimators=150,\n",
       "                       random_state=2015)"
      ]
     },
     "execution_count": 83,
     "metadata": {},
     "output_type": "execute_result"
    }
   ],
   "source": [
    "rfc3 = RandomForestClassifier(max_depth=12, max_features='sqrt',\n",
    "                              n_estimators=150,random_state=2015)\n",
    "\n",
    "rfc3.fit(X_train_scaled, y_tr_res)"
   ]
  },
  {
   "cell_type": "code",
   "execution_count": 84,
   "metadata": {},
   "outputs": [
    {
     "name": "stdout",
     "output_type": "stream",
     "text": [
      "Recall Score Class 3 on Validation data:  0.6725177382144256\n"
     ]
    }
   ],
   "source": [
    "print('Recall Score Class 3 on Validation data: ', recall_score(y_val, rfc3.predict(X_val_scaled), average=None)[2])"
   ]
  },
  {
   "cell_type": "code",
   "execution_count": 86,
   "metadata": {},
   "outputs": [
    {
     "name": "stdout",
     "output_type": "stream",
     "text": [
      "Recall Score Class 3 on Train data:  0.6827516278387921\n"
     ]
    }
   ],
   "source": [
    "print('Recall Score Class 3 on Train data: ', recall_score(y_tr_res, rfc3.predict(X_train_scaled), average=None)[2])"
   ]
  },
  {
   "cell_type": "markdown",
   "metadata": {},
   "source": [
    "Our model has become more generalizable with these changes (low variance) however, our bias is still high. I'm curious to see if further tweaking can improve the current bias (off by 32% currently)"
   ]
  },
  {
   "cell_type": "code",
   "execution_count": 88,
   "metadata": {},
   "outputs": [
    {
     "data": {
      "text/plain": [
       "RandomForestClassifier(max_depth=15, max_features='sqrt', n_estimators=180,\n",
       "                       random_state=2015)"
      ]
     },
     "execution_count": 88,
     "metadata": {},
     "output_type": "execute_result"
    }
   ],
   "source": [
    "rfc4 = RandomForestClassifier(max_depth=15, max_features='sqrt',\n",
    "                              n_estimators=180,random_state=2015)\n",
    "rfc4.fit(X_train_scaled, y_tr_res)"
   ]
  },
  {
   "cell_type": "code",
   "execution_count": 89,
   "metadata": {},
   "outputs": [
    {
     "name": "stdout",
     "output_type": "stream",
     "text": [
      "Recall Score Class 3 on Validation data:  0.6579571671092151\n"
     ]
    }
   ],
   "source": [
    "print('Recall Score Class 3 on Validation data: ', recall_score(y_val, rfc4.predict(X_val_scaled), average=None)[2])"
   ]
  },
  {
   "cell_type": "code",
   "execution_count": 90,
   "metadata": {},
   "outputs": [
    {
     "name": "stdout",
     "output_type": "stream",
     "text": [
      "Recall Score Class 3 on Train data:  0.6809680296126172\n"
     ]
    }
   ],
   "source": [
    "print('Recall Score Class 3 on Train data: ', recall_score(y_tr_res, rfc4.predict(X_train_scaled), average=None)[2])"
   ]
  },
  {
   "cell_type": "markdown",
   "metadata": {},
   "source": [
    "Again this model does not overfit the training data which is great, but its performance isn't spectacular either. "
   ]
  },
  {
   "cell_type": "markdown",
   "metadata": {},
   "source": [
    "We will stop our iterations here for now and go with our **current best performer rfc3**."
   ]
  },
  {
   "cell_type": "code",
   "execution_count": 98,
   "metadata": {},
   "outputs": [
    {
     "name": "stdout",
     "output_type": "stream",
     "text": [
      "Classification Report for rfc3, Test Data \n",
      " ====================================================== \n",
      "               precision    recall  f1-score   support\n",
      "\n",
      "         1.0       0.66      0.67      0.67     33245\n",
      "         2.0       0.29      0.49      0.37     27146\n",
      "         3.0       0.85      0.67      0.75     92028\n",
      "\n",
      "    accuracy                           0.64    152419\n",
      "   macro avg       0.60      0.61      0.59    152419\n",
      "weighted avg       0.71      0.64      0.66    152419\n",
      "\n"
     ]
    }
   ],
   "source": [
    "print('Classification Report for rfc3, Test Data','\\n',\n",
    "      '======================================================','\\n',\n",
    "      classification_report(y_test, rfc3.predict(X_test_scaled)))"
   ]
  },
  {
   "cell_type": "code",
   "execution_count": 99,
   "metadata": {},
   "outputs": [
    {
     "name": "stdout",
     "output_type": "stream",
     "text": [
      "Classification Report for rfc3, Validation Data \n",
      " ====================================================== \n",
      "               precision    recall  f1-score   support\n",
      "\n",
      "         1.0       0.66      0.67      0.66     33118\n",
      "         2.0       0.30      0.49      0.37     27409\n",
      "         3.0       0.85      0.67      0.75     91892\n",
      "\n",
      "    accuracy                           0.64    152419\n",
      "   macro avg       0.60      0.61      0.59    152419\n",
      "weighted avg       0.71      0.64      0.66    152419\n",
      "\n"
     ]
    }
   ],
   "source": [
    "print('Classification Report for rfc3, Validation Data','\\n',\n",
    "      '======================================================','\\n',\n",
    "      classification_report(y_val, rfc3.predict(X_val_scaled)))"
   ]
  },
  {
   "cell_type": "code",
   "execution_count": 100,
   "metadata": {},
   "outputs": [
    {
     "name": "stdout",
     "output_type": "stream",
     "text": [
      "Classification Report for rfc3, Training Data \n",
      " ====================================================== \n",
      "               precision    recall  f1-score   support\n",
      "\n",
      "         1.0       0.72      0.68      0.70     81857\n",
      "         2.0       0.51      0.51      0.51     81857\n",
      "         3.0       0.64      0.68      0.66     81857\n",
      "\n",
      "    accuracy                           0.62    245571\n",
      "   macro avg       0.62      0.62      0.62    245571\n",
      "weighted avg       0.62      0.62      0.62    245571\n",
      "\n"
     ]
    }
   ],
   "source": [
    "print('Classification Report for rfc3, Training Data','\\n',\n",
    "      '======================================================','\\n',\n",
    "      classification_report(y_tr_res, rfc3.predict(X_train_scaled)))"
   ]
  },
  {
   "cell_type": "markdown",
   "metadata": {},
   "source": [
    "### GradientBoostingClassifier"
   ]
  },
  {
   "cell_type": "code",
   "execution_count": 44,
   "metadata": {},
   "outputs": [
    {
     "name": "stdout",
     "output_type": "stream",
     "text": [
      "Racall for class 3 :  [0.60707305 0.62592389 0.61608943 0.62671798 0.61825067]\n"
     ]
    }
   ],
   "source": [
    "gbc1 = GradientBoostingClassifier(random_state=2015)\n",
    "print('Racall for class 3 : ', cross_val_score(gbc1, X_train_scaled, y_tr_res, cv=5, scoring=recall3))"
   ]
  },
  {
   "cell_type": "code",
   "execution_count": 46,
   "metadata": {},
   "outputs": [],
   "source": [
    "import xgboost"
   ]
  },
  {
   "cell_type": "markdown",
   "metadata": {},
   "source": [
    "GradientBoosting continued in the next notebook"
   ]
  }
 ],
 "metadata": {
  "kernelspec": {
   "display_name": "python3 (nepal-env)",
   "language": "python",
   "name": "nepal-env"
  },
  "language_info": {
   "codemirror_mode": {
    "name": "ipython",
    "version": 3
   },
   "file_extension": ".py",
   "mimetype": "text/x-python",
   "name": "python",
   "nbconvert_exporter": "python",
   "pygments_lexer": "ipython3",
   "version": "3.7.7"
  }
 },
 "nbformat": 4,
 "nbformat_minor": 4
}
