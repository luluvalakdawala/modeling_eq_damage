{
 "cells": [
  {
   "cell_type": "markdown",
   "metadata": {},
   "source": [
    "#### Run the cell below to download the files required for this project"
   ]
  },
  {
   "cell_type": "code",
   "execution_count": 10,
   "metadata": {},
   "outputs": [],
   "source": [
    "#retrieves the folder from `open data portal` containing the required csvs\n",
    "! wget \"https://eq2015.npc.gov.np/statics/v2/building_ownership_and_use_building_structure.zip\" --output-document=eq2015.zip\n",
    "\n",
    "#unzips the files contained in the folder\n",
    "! unzip eq2015.zip\n",
    "\n",
    "#moves the files to the data folder in the repo\n",
    "! mv building_ownership_and_use_building_structure/csv_building_ownership_and_use.csv ../../data/\n",
    "! mv building_ownership_and_use_building_structure/csv_building_structure.csv ../../data/\n",
    "! mv building_ownership_and_use_building_structure/ward_vdcmun_district_name_mapping ../../data/\n",
    "\n",
    "#deletes the empty folder and zip file\n",
    "! rm -r building_ownership_and_use_building_structure/\n",
    "! rm eq2015.zip"
   ]
  }
 ],
 "metadata": {
  "kernelspec": {
   "display_name": "python3 (nepal-env)",
   "language": "python",
   "name": "nepal-env"
  },
  "language_info": {
   "codemirror_mode": {
    "name": "ipython",
    "version": 3
   },
   "file_extension": ".py",
   "mimetype": "text/x-python",
   "name": "python",
   "nbconvert_exporter": "python",
   "pygments_lexer": "ipython3",
   "version": "3.7.7"
  }
 },
 "nbformat": 4,
 "nbformat_minor": 4
}
