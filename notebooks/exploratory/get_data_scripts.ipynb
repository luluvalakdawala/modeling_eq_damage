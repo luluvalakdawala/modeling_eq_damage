{
 "cells": [
  {
   "cell_type": "markdown",
   "metadata": {},
   "source": [
    "#### Run the cell below to download the files required for this project"
   ]
  },
  {
   "cell_type": "code",
   "execution_count": 2,
   "metadata": {},
   "outputs": [
    {
     "name": "stdout",
     "output_type": "stream",
     "text": [
      "--2020-08-18 10:28:05--  https://eq2015.npc.gov.np/statics/v2/building_ownership_and_use_building_structure.zip\n",
      "Resolving eq2015.npc.gov.np (eq2015.npc.gov.np)... 202.45.144.219\n",
      "Connecting to eq2015.npc.gov.np (eq2015.npc.gov.np)|202.45.144.219|:443... connected.\n",
      "HTTP request sent, awaiting response... 200 OK\n",
      "Length: 11506460 (11M) [application/zip]\n",
      "Saving to: ‘eq2015.zip’\n",
      "\n",
      "eq2015.zip          100%[===================>]  10.97M  1.19MB/s    in 14s     \n",
      "\n",
      "2020-08-18 10:28:21 (792 KB/s) - ‘eq2015.zip’ saved [11506460/11506460]\n",
      "\n",
      "Archive:  eq2015.zip\n",
      "  inflating: building_ownership_and_use_building_structure/csv_building_ownership_and_use.csv  \n",
      "  inflating: building_ownership_and_use_building_structure/csv_building_structure.csv  \n",
      "  inflating: building_ownership_and_use_building_structure/ward_vdcmun_district_name_mapping.csv  \n"
     ]
    }
   ],
   "source": [
    "#retrieves the folder from `open data portal` containing the required csvs\n",
    "! wget \"https://eq2015.npc.gov.np/statics/v2/building_ownership_and_use_building_structure.zip\" --output-document=eq2015.zip\n",
    "\n",
    "#unzips the files contained in the folder\n",
    "! unzip eq2015.zip\n",
    "\n",
    "#moves the files to the data folder in the repo\n",
    "! mv building_ownership_and_use_building_structure/csv_building_ownership_and_use.csv ../../data/\n",
    "! mv building_ownership_and_use_building_structure/csv_building_structure.csv ../../data/\n",
    "! mv building_ownership_and_use_building_structure/ward_vdcmun_district_name_mapping.csv ../../data/\n",
    "\n",
    "#deletes the empty folder and zip file\n",
    "! rm -r building_ownership_and_use_building_structure/\n",
    "! rm eq2015.zip"
   ]
  },
  {
   "cell_type": "code",
   "execution_count": null,
   "metadata": {},
   "outputs": [],
   "source": []
  }
 ],
 "metadata": {
  "kernelspec": {
   "display_name": "python3 (nepal-env)",
   "language": "python",
   "name": "nepal-env"
  },
  "language_info": {
   "codemirror_mode": {
    "name": "ipython",
    "version": 3
   },
   "file_extension": ".py",
   "mimetype": "text/x-python",
   "name": "python",
   "nbconvert_exporter": "python",
   "pygments_lexer": "ipython3",
   "version": "3.7.7"
  }
 },
 "nbformat": 4,
 "nbformat_minor": 4
}
