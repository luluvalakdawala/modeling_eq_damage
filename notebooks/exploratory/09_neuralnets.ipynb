{
 "cells": [
  {
   "cell_type": "markdown",
   "metadata": {},
   "source": [
    "# Modeling with Neural Networks\n",
    "## -- work in process"
   ]
  },
  {
   "cell_type": "code",
   "execution_count": null,
   "metadata": {},
   "outputs": [],
   "source": [
    "#imports\n",
    "%load_ext autoreload\n",
    "%autoreload 2"
   ]
  },
  {
   "cell_type": "code",
   "execution_count": 7,
   "metadata": {},
   "outputs": [],
   "source": [
    "import os, sys\n",
    "import numpy as np\n",
    "import pandas as pd\n",
    "import matplotlib.pyplot as plt\n",
    "import seaborn as sns\n",
    "%matplotlib inline\n",
    "import warnings\n",
    "warnings.filterwarnings('ignore')\n",
    "\n",
    "module_path = os.path.abspath(os.path.join(os.pardir, os.pardir))\n",
    "if module_path not in sys.path:\n",
    "    sys.path.append(module_path)\n",
    "\n",
    "from src import cleaning_functions as cfs\n",
    "from src import preprocessing_functions as pfs\n",
    "from src import modeling_functions as mfs\n",
    "from sklearn.model_selection import train_test_split, GridSearchCV\n",
    "from sklearn.preprocessing import OneHotEncoder, StandardScaler\n",
    "from imblearn.under_sampling import RandomUnderSampler\n",
    "from sklearn.tree import DecisionTreeClassifier\n",
    "from sklearn.metrics import confusion_matrix, plot_confusion_matrix\n",
    "from sklearn.ensemble import BaggingClassifier, RandomForestClassifier \n",
    "from sklearn.ensemble import ExtraTreesClassifier, GradientBoostingClassifier\n",
    "from tensorflow.keras.models import Sequential\n",
    "from tensorflow.keras.layers import Dense, Dropout\n",
    "from tensorflow.keras import regularizers\n",
    "from sklearn.model_selection import cross_val_score, cross_validate\n",
    "from sklearn.metrics import recall_score, f1_score, make_scorer\n",
    "import xgboost \n",
    "import tensorflow as tf"
   ]
  },
  {
   "cell_type": "code",
   "execution_count": 34,
   "metadata": {},
   "outputs": [],
   "source": [
    "df = cfs.cleaned_dataframe()"
   ]
  },
  {
   "cell_type": "code",
   "execution_count": 35,
   "metadata": {},
   "outputs": [],
   "source": [
    "df = df.drop(['vdcmun_id', 'ward_id'], axis=1)"
   ]
  },
  {
   "cell_type": "code",
   "execution_count": 36,
   "metadata": {},
   "outputs": [],
   "source": [
    "#create target and feature dataframes \n",
    "y = df['target']\n",
    "X = df.drop('target', axis=1)\n",
    "\n",
    "#train test split\n",
    "X_train, X_test, y_train, y_test = train_test_split(X, y, random_state = 2015, test_size = .2)\n",
    "\n",
    "#train validation split\n",
    "X_tr, X_val, y_tr, y_val = train_test_split(X_train, y_train, random_state = 2015, test_size = .25)\n",
    "\n",
    "#stratified sampling to have equal representation of classes\n",
    "rus = RandomUnderSampler(random_state=2015)\n",
    "X_tr_res, y_tr_res = rus.fit_resample(X_tr, y_tr)\n",
    "\n",
    "#One Hot encode all categorical features land_surface_condition,foundation_type, roof_type, ground_floor_type, other_floor_type\n",
    "X_tr_res, X_val, X_test = pfs.ohe_train_and_test_features(X_tr_res, X_val, X_test)\n",
    "\n",
    "#One hot encode district_id\n",
    "X_tr_res, X_val, X_test = pfs.ohe_train_val_test_geos(X_tr_res, X_val, X_test)"
   ]
  },
  {
   "cell_type": "code",
   "execution_count": 37,
   "metadata": {},
   "outputs": [
    {
     "data": {
      "text/html": [
       "<div>\n",
       "<style scoped>\n",
       "    .dataframe tbody tr th:only-of-type {\n",
       "        vertical-align: middle;\n",
       "    }\n",
       "\n",
       "    .dataframe tbody tr th {\n",
       "        vertical-align: top;\n",
       "    }\n",
       "\n",
       "    .dataframe thead th {\n",
       "        text-align: right;\n",
       "    }\n",
       "</style>\n",
       "<table border=\"1\" class=\"dataframe\">\n",
       "  <thead>\n",
       "    <tr style=\"text-align: right;\">\n",
       "      <th></th>\n",
       "      <th>count_floors_pre_eq</th>\n",
       "      <th>age_building</th>\n",
       "      <th>plinth_area_sq_ft</th>\n",
       "      <th>height_ft_pre_eq</th>\n",
       "      <th>has_superstructure_adobe_mud</th>\n",
       "      <th>has_superstructure_mud_mortar_stone</th>\n",
       "      <th>has_superstructure_stone_flag</th>\n",
       "      <th>has_superstructure_cement_mortar_stone</th>\n",
       "      <th>has_superstructure_mud_mortar_brick</th>\n",
       "      <th>has_superstructure_cement_mortar_brick</th>\n",
       "      <th>...</th>\n",
       "      <th>20</th>\n",
       "      <th>21</th>\n",
       "      <th>22</th>\n",
       "      <th>23</th>\n",
       "      <th>24</th>\n",
       "      <th>28</th>\n",
       "      <th>29</th>\n",
       "      <th>30</th>\n",
       "      <th>31</th>\n",
       "      <th>36</th>\n",
       "    </tr>\n",
       "  </thead>\n",
       "  <tbody>\n",
       "    <tr>\n",
       "      <th>0</th>\n",
       "      <td>-1.536583</td>\n",
       "      <td>0.442693</td>\n",
       "      <td>-1.098342</td>\n",
       "      <td>-1.386090</td>\n",
       "      <td>0</td>\n",
       "      <td>1</td>\n",
       "      <td>0</td>\n",
       "      <td>0</td>\n",
       "      <td>0</td>\n",
       "      <td>0</td>\n",
       "      <td>...</td>\n",
       "      <td>0.0</td>\n",
       "      <td>1.0</td>\n",
       "      <td>0.0</td>\n",
       "      <td>0.0</td>\n",
       "      <td>0.0</td>\n",
       "      <td>0.0</td>\n",
       "      <td>0.0</td>\n",
       "      <td>0.0</td>\n",
       "      <td>0.0</td>\n",
       "      <td>0.0</td>\n",
       "    </tr>\n",
       "    <tr>\n",
       "      <th>1</th>\n",
       "      <td>-1.536583</td>\n",
       "      <td>-0.120057</td>\n",
       "      <td>-0.952638</td>\n",
       "      <td>-1.386090</td>\n",
       "      <td>0</td>\n",
       "      <td>0</td>\n",
       "      <td>0</td>\n",
       "      <td>0</td>\n",
       "      <td>0</td>\n",
       "      <td>0</td>\n",
       "      <td>...</td>\n",
       "      <td>0.0</td>\n",
       "      <td>0.0</td>\n",
       "      <td>0.0</td>\n",
       "      <td>0.0</td>\n",
       "      <td>0.0</td>\n",
       "      <td>0.0</td>\n",
       "      <td>0.0</td>\n",
       "      <td>0.0</td>\n",
       "      <td>1.0</td>\n",
       "      <td>0.0</td>\n",
       "    </tr>\n",
       "    <tr>\n",
       "      <th>2</th>\n",
       "      <td>-0.047621</td>\n",
       "      <td>-0.241732</td>\n",
       "      <td>-0.118883</td>\n",
       "      <td>-0.686274</td>\n",
       "      <td>0</td>\n",
       "      <td>1</td>\n",
       "      <td>0</td>\n",
       "      <td>0</td>\n",
       "      <td>0</td>\n",
       "      <td>0</td>\n",
       "      <td>...</td>\n",
       "      <td>0.0</td>\n",
       "      <td>0.0</td>\n",
       "      <td>0.0</td>\n",
       "      <td>0.0</td>\n",
       "      <td>0.0</td>\n",
       "      <td>0.0</td>\n",
       "      <td>0.0</td>\n",
       "      <td>0.0</td>\n",
       "      <td>0.0</td>\n",
       "      <td>1.0</td>\n",
       "    </tr>\n",
       "    <tr>\n",
       "      <th>3</th>\n",
       "      <td>-0.047621</td>\n",
       "      <td>-0.089638</td>\n",
       "      <td>0.302041</td>\n",
       "      <td>-0.686274</td>\n",
       "      <td>0</td>\n",
       "      <td>1</td>\n",
       "      <td>0</td>\n",
       "      <td>0</td>\n",
       "      <td>0</td>\n",
       "      <td>0</td>\n",
       "      <td>...</td>\n",
       "      <td>0.0</td>\n",
       "      <td>0.0</td>\n",
       "      <td>0.0</td>\n",
       "      <td>0.0</td>\n",
       "      <td>0.0</td>\n",
       "      <td>0.0</td>\n",
       "      <td>0.0</td>\n",
       "      <td>0.0</td>\n",
       "      <td>0.0</td>\n",
       "      <td>1.0</td>\n",
       "    </tr>\n",
       "    <tr>\n",
       "      <th>4</th>\n",
       "      <td>-0.047621</td>\n",
       "      <td>0.016828</td>\n",
       "      <td>-0.471003</td>\n",
       "      <td>0.363450</td>\n",
       "      <td>0</td>\n",
       "      <td>1</td>\n",
       "      <td>0</td>\n",
       "      <td>0</td>\n",
       "      <td>0</td>\n",
       "      <td>0</td>\n",
       "      <td>...</td>\n",
       "      <td>0.0</td>\n",
       "      <td>0.0</td>\n",
       "      <td>0.0</td>\n",
       "      <td>0.0</td>\n",
       "      <td>0.0</td>\n",
       "      <td>0.0</td>\n",
       "      <td>0.0</td>\n",
       "      <td>0.0</td>\n",
       "      <td>1.0</td>\n",
       "      <td>0.0</td>\n",
       "    </tr>\n",
       "  </tbody>\n",
       "</table>\n",
       "<p>5 rows × 76 columns</p>\n",
       "</div>"
      ],
      "text/plain": [
       "   count_floors_pre_eq  age_building  plinth_area_sq_ft  height_ft_pre_eq  \\\n",
       "0            -1.536583      0.442693          -1.098342         -1.386090   \n",
       "1            -1.536583     -0.120057          -0.952638         -1.386090   \n",
       "2            -0.047621     -0.241732          -0.118883         -0.686274   \n",
       "3            -0.047621     -0.089638           0.302041         -0.686274   \n",
       "4            -0.047621      0.016828          -0.471003          0.363450   \n",
       "\n",
       "   has_superstructure_adobe_mud  has_superstructure_mud_mortar_stone  \\\n",
       "0                             0                                    1   \n",
       "1                             0                                    0   \n",
       "2                             0                                    1   \n",
       "3                             0                                    1   \n",
       "4                             0                                    1   \n",
       "\n",
       "   has_superstructure_stone_flag  has_superstructure_cement_mortar_stone  \\\n",
       "0                              0                                       0   \n",
       "1                              0                                       0   \n",
       "2                              0                                       0   \n",
       "3                              0                                       0   \n",
       "4                              0                                       0   \n",
       "\n",
       "   has_superstructure_mud_mortar_brick  \\\n",
       "0                                    0   \n",
       "1                                    0   \n",
       "2                                    0   \n",
       "3                                    0   \n",
       "4                                    0   \n",
       "\n",
       "   has_superstructure_cement_mortar_brick  ...   20   21   22   23   24   28  \\\n",
       "0                                       0  ...  0.0  1.0  0.0  0.0  0.0  0.0   \n",
       "1                                       0  ...  0.0  0.0  0.0  0.0  0.0  0.0   \n",
       "2                                       0  ...  0.0  0.0  0.0  0.0  0.0  0.0   \n",
       "3                                       0  ...  0.0  0.0  0.0  0.0  0.0  0.0   \n",
       "4                                       0  ...  0.0  0.0  0.0  0.0  0.0  0.0   \n",
       "\n",
       "    29   30   31   36  \n",
       "0  0.0  0.0  0.0  0.0  \n",
       "1  0.0  0.0  1.0  0.0  \n",
       "2  0.0  0.0  0.0  1.0  \n",
       "3  0.0  0.0  0.0  1.0  \n",
       "4  0.0  0.0  1.0  0.0  \n",
       "\n",
       "[5 rows x 76 columns]"
      ]
     },
     "execution_count": 37,
     "metadata": {},
     "output_type": "execute_result"
    }
   ],
   "source": [
    "X_train_scaled = X_tr_res.copy()\n",
    "col_names = ['count_floors_pre_eq', 'count_families', 'age_building', 'plinth_area_sq_ft', 'height_ft_pre_eq']\n",
    "features = X_train_scaled[col_names]\n",
    "scaler = StandardScaler().fit(features.values)\n",
    "features = scaler.transform(features.values)\n",
    "\n",
    "X_train_scaled[col_names] = features\n",
    "X_train_scaled.head()"
   ]
  },
  {
   "cell_type": "code",
   "execution_count": 38,
   "metadata": {},
   "outputs": [],
   "source": [
    "X_val_scaled = X_val.copy()\n",
    "X_test_scaled = X_test.copy()\n",
    "\n",
    "features = X_val_scaled[col_names]\n",
    "features = scaler.transform(features.values)\n",
    "X_val_scaled[col_names] = features\n",
    "features = X_test_scaled[col_names]\n",
    "features = scaler.transform(features.values)\n",
    "X_test_scaled[col_names] = features"
   ]
  },
  {
   "cell_type": "code",
   "execution_count": 39,
   "metadata": {},
   "outputs": [],
   "source": [
    "ohe = OneHotEncoder(sparse=False)\n",
    "y_train_nn = ohe.fit_transform(y_tr_res.values.reshape(-1,1))\n",
    "y_val_nn = ohe.transform(y_val.values.reshape(-1,1))\n",
    "y_test_nn = ohe.transform(y_test.values.reshape(-1,1))"
   ]
  },
  {
   "cell_type": "code",
   "execution_count": 72,
   "metadata": {},
   "outputs": [
    {
     "name": "stdout",
     "output_type": "stream",
     "text": [
      "Train on 245571 samples, validate on 152419 samples\n",
      "Epoch 1/20\n",
      "245571/245571 [==============================] - 11s 44us/sample - loss: 0.8583 - accuracy: 0.5907 - val_loss: 0.8431 - val_accuracy: 0.6033\n",
      "Epoch 2/20\n",
      "245571/245571 [==============================] - 11s 47us/sample - loss: 0.8345 - accuracy: 0.6049 - val_loss: 0.8237 - val_accuracy: 0.5964\n",
      "Epoch 3/20\n",
      "245571/245571 [==============================] - 13s 54us/sample - loss: 0.8288 - accuracy: 0.6076 - val_loss: 0.7881 - val_accuracy: 0.6328\n",
      "Epoch 4/20\n",
      "245571/245571 [==============================] - 14s 57us/sample - loss: 0.8249 - accuracy: 0.6107 - val_loss: 0.7854 - val_accuracy: 0.6312\n",
      "Epoch 5/20\n",
      "245571/245571 [==============================] - 14s 57us/sample - loss: 0.8226 - accuracy: 0.6125 - val_loss: 0.8216 - val_accuracy: 0.6107\n",
      "Epoch 6/20\n",
      "245571/245571 [==============================] - 14s 59us/sample - loss: 0.8205 - accuracy: 0.6139 - val_loss: 0.8249 - val_accuracy: 0.6017\n",
      "Epoch 7/20\n",
      "245571/245571 [==============================] - 15s 61us/sample - loss: 0.8194 - accuracy: 0.6141 - val_loss: 0.7907 - val_accuracy: 0.6298\n",
      "Epoch 8/20\n",
      "245571/245571 [==============================] - 16s 64us/sample - loss: 0.8182 - accuracy: 0.6146 - val_loss: 0.7783 - val_accuracy: 0.6418\n",
      "Epoch 9/20\n",
      "245571/245571 [==============================] - 16s 64us/sample - loss: 0.8170 - accuracy: 0.6155 - val_loss: 0.7768 - val_accuracy: 0.6442\n",
      "Epoch 10/20\n",
      "245571/245571 [==============================] - 16s 65us/sample - loss: 0.8162 - accuracy: 0.6162 - val_loss: 0.8085 - val_accuracy: 0.6208\n",
      "Epoch 11/20\n",
      "245571/245571 [==============================] - 16s 64us/sample - loss: 0.8155 - accuracy: 0.6167 - val_loss: 0.8028 - val_accuracy: 0.6229\n",
      "Epoch 12/20\n",
      "245571/245571 [==============================] - 16s 65us/sample - loss: 0.8147 - accuracy: 0.6173 - val_loss: 0.7849 - val_accuracy: 0.6476\n",
      "Epoch 13/20\n",
      "245571/245571 [==============================] - 16s 66us/sample - loss: 0.8141 - accuracy: 0.6175 - val_loss: 0.7834 - val_accuracy: 0.6425\n",
      "Epoch 14/20\n",
      "245571/245571 [==============================] - 16s 67us/sample - loss: 0.8133 - accuracy: 0.6179 - val_loss: 0.7983 - val_accuracy: 0.6299\n",
      "Epoch 15/20\n",
      "245571/245571 [==============================] - 16s 66us/sample - loss: 0.8129 - accuracy: 0.6180 - val_loss: 0.7898 - val_accuracy: 0.6359\n",
      "Epoch 16/20\n",
      "245571/245571 [==============================] - 16s 67us/sample - loss: 0.8124 - accuracy: 0.6185 - val_loss: 0.7878 - val_accuracy: 0.6321\n",
      "Epoch 17/20\n",
      "245571/245571 [==============================] - 16s 67us/sample - loss: 0.8119 - accuracy: 0.6186 - val_loss: 0.8093 - val_accuracy: 0.6130\n",
      "Epoch 18/20\n",
      "245571/245571 [==============================] - 16s 66us/sample - loss: 0.8114 - accuracy: 0.6199 - val_loss: 0.7998 - val_accuracy: 0.6206\n",
      "Epoch 19/20\n",
      "245571/245571 [==============================] - 16s 66us/sample - loss: 0.8111 - accuracy: 0.6198 - val_loss: 0.8162 - val_accuracy: 0.6142\n",
      "Epoch 20/20\n",
      "245571/245571 [==============================] - 16s 67us/sample - loss: 0.8107 - accuracy: 0.6202 - val_loss: 0.7760 - val_accuracy: 0.6367\n"
     ]
    }
   ],
   "source": [
    "np.random.seed(2015)\n",
    "tf.random.set_seed(2015)\n",
    "\n",
    "model1 = Sequential()\n",
    "model1.add(Dense(32, activation='relu', input_dim=76,))\n",
    "model1.add(Dense(8 ,  activation='relu' ))\n",
    "model1.add(Dense(3 , activation = 'softmax' ))\n",
    "\n",
    "model1.compile(optimizer='adam',\n",
    "              loss='categorical_crossentropy'  ,\n",
    "              metrics=['accuracy'])\n",
    "results = model1.fit(X_train_scaled.values, y_train_nn, epochs=20, batch_size= 100, validation_data=(X_val_scaled.values, y_val_nn))"
   ]
  },
  {
   "cell_type": "code",
   "execution_count": 73,
   "metadata": {
    "scrolled": true
   },
   "outputs": [
    {
     "data": {
      "text/plain": [
       "{'loss': [0.8582545921363209,\n",
       "  0.8345174629894642,\n",
       "  0.828752585900476,\n",
       "  0.8249397317727685,\n",
       "  0.822588263130275,\n",
       "  0.8205306883525675,\n",
       "  0.8194036721927402,\n",
       "  0.8182219665957235,\n",
       "  0.8170335168245705,\n",
       "  0.8162432471154801,\n",
       "  0.8154627535545413,\n",
       "  0.8146529094302037,\n",
       "  0.8140744023827312,\n",
       "  0.8133120321022526,\n",
       "  0.8128731433066438,\n",
       "  0.8123579307030847,\n",
       "  0.8119001811389845,\n",
       "  0.8114437192222019,\n",
       "  0.8110997486519163,\n",
       "  0.8107385257247126],\n",
       " 'accuracy': [0.5907049,\n",
       "  0.60489225,\n",
       "  0.6075595,\n",
       "  0.6107317,\n",
       "  0.61245424,\n",
       "  0.6139406,\n",
       "  0.6140505,\n",
       "  0.61460435,\n",
       "  0.6155083,\n",
       "  0.616168,\n",
       "  0.6166689,\n",
       "  0.6172716,\n",
       "  0.6174711,\n",
       "  0.61794347,\n",
       "  0.6180494,\n",
       "  0.6184851,\n",
       "  0.61855024,\n",
       "  0.6198615,\n",
       "  0.6198248,\n",
       "  0.62020355],\n",
       " 'val_loss': [0.8430862195427548,\n",
       "  0.8236608305426288,\n",
       "  0.7881091000970917,\n",
       "  0.7853750717952065,\n",
       "  0.8215694799562215,\n",
       "  0.8248643427994359,\n",
       "  0.7906858716989223,\n",
       "  0.7782662564790942,\n",
       "  0.7768068724033388,\n",
       "  0.808522051181781,\n",
       "  0.8027537350644622,\n",
       "  0.7848912213795164,\n",
       "  0.7834477795082405,\n",
       "  0.7982656338273861,\n",
       "  0.7897839532141173,\n",
       "  0.7877842663087135,\n",
       "  0.8093018270396704,\n",
       "  0.7997859231120448,\n",
       "  0.8162048525161367,\n",
       "  0.7760449439281907],\n",
       " 'val_accuracy': [0.6033369,\n",
       "  0.5963561,\n",
       "  0.6327951,\n",
       "  0.63120085,\n",
       "  0.6106719,\n",
       "  0.60172945,\n",
       "  0.6297968,\n",
       "  0.64180976,\n",
       "  0.64424384,\n",
       "  0.6208281,\n",
       "  0.6229473,\n",
       "  0.6475702,\n",
       "  0.6425118,\n",
       "  0.62992805,\n",
       "  0.6359312,\n",
       "  0.63209313,\n",
       "  0.6130273,\n",
       "  0.6205788,\n",
       "  0.61424756,\n",
       "  0.6366923]}"
      ]
     },
     "execution_count": 73,
     "metadata": {},
     "output_type": "execute_result"
    }
   ],
   "source": [
    "results.history"
   ]
  },
  {
   "cell_type": "code",
   "execution_count": 74,
   "metadata": {},
   "outputs": [],
   "source": [
    "history = results.history\n",
    "training_loss = history['loss']\n",
    "val_loss = history['val_loss']\n",
    "training_mse = history['accuracy']\n",
    "val_mse = history['val_accuracy']"
   ]
  },
  {
   "cell_type": "code",
   "execution_count": 75,
   "metadata": {},
   "outputs": [
    {
     "data": {
      "image/png": "[encoded data removed]",
      "text/plain": [
       "<Figure size 1080x360 with 2 Axes>"
      ]
     },
     "metadata": {
      "needs_background": "light"
     },
     "output_type": "display_data"
    }
   ],
   "source": [
    "import matplotlib.pyplot as plt\n",
    "import seaborn as sns\n",
    "fig, (ax1,ax2) = plt.subplots(1,2,figsize=(15,5))\n",
    "\n",
    "\n",
    "sns.lineplot(list(range(len(training_loss))), training_loss, c='b', label='training', ax=ax1)\n",
    "sns.lineplot(list(range(len(val_loss))), val_loss, c='orange', label='validation', ax=ax1)\n",
    "sns.lineplot(list(range(len(training_loss))), training_mse, c='b', label='training',ax=ax2)\n",
    "sns.lineplot(list(range(len(val_loss))), val_mse, c='orange', label='validation',ax=ax2)\n",
    "ax1.set_title('Loss')\n",
    "ax2.set_title('Accuracy')\n",
    "ax1.legend();"
   ]
  },
  {
   "cell_type": "code",
   "execution_count": 76,
   "metadata": {},
   "outputs": [],
   "source": [
    "val_preds = model1.predict_classes(X_val_scaled.values)"
   ]
  },
  {
   "cell_type": "code",
   "execution_count": 77,
   "metadata": {},
   "outputs": [],
   "source": [
    "val_preds_ref = val_preds + 1"
   ]
  },
  {
   "cell_type": "code",
   "execution_count": 78,
   "metadata": {},
   "outputs": [
    {
     "data": {
      "text/plain": [
       "array([2, 2, 3, ..., 2, 1, 3])"
      ]
     },
     "execution_count": 78,
     "metadata": {},
     "output_type": "execute_result"
    }
   ],
   "source": [
    "val_preds_ref"
   ]
  },
  {
   "cell_type": "code",
   "execution_count": 79,
   "metadata": {},
   "outputs": [
    {
     "data": {
      "text/plain": [
       "array([1., 3., 3., ..., 3., 2., 3.])"
      ]
     },
     "execution_count": 79,
     "metadata": {},
     "output_type": "execute_result"
    }
   ],
   "source": [
    "y_val.values"
   ]
  },
  {
   "cell_type": "code",
   "execution_count": 80,
   "metadata": {},
   "outputs": [
    {
     "data": {
      "text/plain": [
       "array([[22640,  7569,  2909],\n",
       "       [ 6387, 13712,  7310],\n",
       "       [ 6308, 24892, 60692]])"
      ]
     },
     "execution_count": 80,
     "metadata": {},
     "output_type": "execute_result"
    }
   ],
   "source": [
    "from sklearn.metrics import classification_report\n",
    "confusion_matrix(y_val.values, val_preds_ref)"
   ]
  },
  {
   "cell_type": "code",
   "execution_count": 81,
   "metadata": {},
   "outputs": [
    {
     "name": "stdout",
     "output_type": "stream",
     "text": [
      "              precision    recall  f1-score   support\n",
      "\n",
      "         1.0       0.64      0.68      0.66     33118\n",
      "         2.0       0.30      0.50      0.37     27409\n",
      "         3.0       0.86      0.66      0.75     91892\n",
      "\n",
      "    accuracy                           0.64    152419\n",
      "   macro avg       0.60      0.61      0.59    152419\n",
      "weighted avg       0.71      0.64      0.66    152419\n",
      "\n"
     ]
    }
   ],
   "source": [
    "print(classification_report(y_val.values, val_preds_ref))"
   ]
  },
  {
   "cell_type": "code",
   "execution_count": 84,
   "metadata": {},
   "outputs": [
    {
     "name": "stdout",
     "output_type": "stream",
     "text": [
      "Train on 245571 samples, validate on 152419 samples\n",
      "Epoch 1/30\n",
      "245571/245571 [==============================] - 12s 49us/sample - loss: 0.9922 - accuracy: 0.5807 - val_loss: 0.9022 - val_accuracy: 0.6200\n",
      "Epoch 2/30\n",
      "245571/245571 [==============================] - 13s 54us/sample - loss: 0.9133 - accuracy: 0.5871 - val_loss: 0.9069 - val_accuracy: 0.5905\n",
      "Epoch 3/30\n",
      "245571/245571 [==============================] - 15s 61us/sample - loss: 0.9041 - accuracy: 0.5871 - val_loss: 0.8625 - val_accuracy: 0.6299\n",
      "Epoch 4/30\n",
      "245571/245571 [==============================] - 16s 64us/sample - loss: 0.8988 - accuracy: 0.5894 - val_loss: 0.8688 - val_accuracy: 0.6177\n",
      "Epoch 5/30\n",
      "245571/245571 [==============================] - 16s 67us/sample - loss: 0.8955 - accuracy: 0.5900 - val_loss: 0.8450 - val_accuracy: 0.6356\n",
      "Epoch 6/30\n",
      "245571/245571 [==============================] - 17s 68us/sample - loss: 0.8930 - accuracy: 0.5917 - val_loss: 0.9114 - val_accuracy: 0.5708\n",
      "Epoch 7/30\n",
      "245571/245571 [==============================] - 17s 69us/sample - loss: 0.8916 - accuracy: 0.5926 - val_loss: 0.8723 - val_accuracy: 0.6031\n",
      "Epoch 8/30\n",
      "245571/245571 [==============================] - 17s 70us/sample - loss: 0.8903 - accuracy: 0.5913 - val_loss: 0.8649 - val_accuracy: 0.6121\n",
      "Epoch 9/30\n",
      "245571/245571 [==============================] - 17s 71us/sample - loss: 0.8887 - accuracy: 0.5920 - val_loss: 0.8510 - val_accuracy: 0.6236\n",
      "Epoch 10/30\n",
      "245571/245571 [==============================] - 17s 71us/sample - loss: 0.8878 - accuracy: 0.5916 - val_loss: 0.8676 - val_accuracy: 0.6060\n",
      "Epoch 11/30\n",
      "245571/245571 [==============================] - 17s 71us/sample - loss: 0.8869 - accuracy: 0.5933 - val_loss: 0.8996 - val_accuracy: 0.5903\n",
      "Epoch 12/30\n",
      "245571/245571 [==============================] - 18s 72us/sample - loss: 0.8864 - accuracy: 0.5924 - val_loss: 0.8235 - val_accuracy: 0.6574\n",
      "Epoch 13/30\n",
      "245571/245571 [==============================] - 18s 72us/sample - loss: 0.8859 - accuracy: 0.5934 - val_loss: 0.8763 - val_accuracy: 0.6026\n",
      "Epoch 14/30\n",
      "245571/245571 [==============================] - 18s 72us/sample - loss: 0.8847 - accuracy: 0.5936 - val_loss: 0.8803 - val_accuracy: 0.6010\n",
      "Epoch 15/30\n",
      "245571/245571 [==============================] - 18s 71us/sample - loss: 0.8847 - accuracy: 0.5933 - val_loss: 0.8217 - val_accuracy: 0.6480\n",
      "Epoch 16/30\n",
      "245571/245571 [==============================] - 18s 72us/sample - loss: 0.8840 - accuracy: 0.5934 - val_loss: 0.8557 - val_accuracy: 0.6160\n",
      "Epoch 17/30\n",
      "245571/245571 [==============================] - 18s 73us/sample - loss: 0.8838 - accuracy: 0.5932 - val_loss: 0.8546 - val_accuracy: 0.6111\n",
      "Epoch 18/30\n",
      "245571/245571 [==============================] - 18s 71us/sample - loss: 0.8828 - accuracy: 0.5938 - val_loss: 0.8696 - val_accuracy: 0.5975\n",
      "Epoch 19/30\n",
      "245571/245571 [==============================] - 17s 68us/sample - loss: 0.8826 - accuracy: 0.5934 - val_loss: 0.9043 - val_accuracy: 0.5694\n",
      "Epoch 20/30\n",
      "245571/245571 [==============================] - 16s 66us/sample - loss: 0.8824 - accuracy: 0.5928 - val_loss: 0.8524 - val_accuracy: 0.6231\n",
      "Epoch 21/30\n",
      "245571/245571 [==============================] - 20s 80us/sample - loss: 0.8817 - accuracy: 0.5936 - val_loss: 0.8540 - val_accuracy: 0.6091\n",
      "Epoch 22/30\n",
      "245571/245571 [==============================] - 18s 75us/sample - loss: 0.8816 - accuracy: 0.5937 - val_loss: 0.9099 - val_accuracy: 0.5640\n",
      "Epoch 23/30\n",
      "245571/245571 [==============================] - 16s 67us/sample - loss: 0.8813 - accuracy: 0.5939 - val_loss: 0.8785 - val_accuracy: 0.5944\n",
      "Epoch 24/30\n",
      "245571/245571 [==============================] - 16s 65us/sample - loss: 0.8808 - accuracy: 0.5936 - val_loss: 0.8551 - val_accuracy: 0.6086\n",
      "Epoch 25/30\n",
      "245571/245571 [==============================] - 16s 67us/sample - loss: 0.8810 - accuracy: 0.5939 - val_loss: 0.8212 - val_accuracy: 0.6394\n",
      "Epoch 26/30\n",
      "245571/245571 [==============================] - 17s 71us/sample - loss: 0.8807 - accuracy: 0.5936 - val_loss: 0.8168 - val_accuracy: 0.6467\n",
      "Epoch 27/30\n",
      "245571/245571 [==============================] - 18s 73us/sample - loss: 0.8799 - accuracy: 0.5940 - val_loss: 0.8277 - val_accuracy: 0.6299\n",
      "Epoch 28/30\n",
      "245571/245571 [==============================] - 17s 68us/sample - loss: 0.8797 - accuracy: 0.5942 - val_loss: 0.8710 - val_accuracy: 0.6025\n",
      "Epoch 29/30\n",
      "245571/245571 [==============================] - 16s 65us/sample - loss: 0.8797 - accuracy: 0.5941 - val_loss: 0.9009 - val_accuracy: 0.5690\n",
      "Epoch 30/30\n",
      "245571/245571 [==============================] - 16s 67us/sample - loss: 0.8796 - accuracy: 0.5937 - val_loss: 0.8307 - val_accuracy: 0.6311\n"
     ]
    }
   ],
   "source": [
    "np.random.seed(2015)\n",
    "tf.random.set_seed(2015)\n",
    "\n",
    "model2 = Sequential()\n",
    "model2.add(Dense(32, activation='relu', input_dim=76, kernel_regularizer=regularizers.l2(0.01)))\n",
    "model2.add(Dense(16 ,  activation='relu', kernel_regularizer=regularizers.l2(0.01)))\n",
    "model2.add(Dense(16 ,  activation='relu', kernel_regularizer=regularizers.l2(0.01)))\n",
    "model2.add(Dense(8, activation='relu', kernel_regularizer=regularizers.l2(0.01)))\n",
    "model2.add(Dense(3 , activation = 'softmax' ))\n",
    "\n",
    "model2.compile(optimizer='adam',\n",
    "              loss='categorical_crossentropy'  ,\n",
    "              metrics=['accuracy'])\n",
    "results = model2.fit(X_train_scaled.values, y_train_nn, epochs=30, batch_size= 100, validation_data=(X_val_scaled.values, y_val_nn))"
   ]
  },
  {
   "cell_type": "code",
   "execution_count": 85,
   "metadata": {},
   "outputs": [
    {
     "data": {
      "text/plain": [
       "array([1, 1, 2, 2, 1, 2, 1, 2, 1, 2])"
      ]
     },
     "execution_count": 85,
     "metadata": {},
     "output_type": "execute_result"
    }
   ],
   "source": [
    "val_preds2 = model2.predict_classes(X_val_scaled.values)\n",
    "val_preds2[:10]"
   ]
  },
  {
   "cell_type": "code",
   "execution_count": 86,
   "metadata": {},
   "outputs": [
    {
     "data": {
      "text/plain": [
       "array([[0.17144905, 0.44372493, 0.38482606],\n",
       "       [0.15585847, 0.42436627, 0.41977528],\n",
       "       [0.05263007, 0.2254328 , 0.7219372 ],\n",
       "       ...,\n",
       "       [0.26853344, 0.46452168, 0.2669449 ],\n",
       "       [0.8938804 , 0.09785055, 0.00826907],\n",
       "       [0.16852178, 0.44025883, 0.3912194 ]], dtype=float32)"
      ]
     },
     "execution_count": 86,
     "metadata": {},
     "output_type": "execute_result"
    }
   ],
   "source": [
    "model2.predict(X_val_scaled.values)"
   ]
  },
  {
   "cell_type": "code",
   "execution_count": 87,
   "metadata": {},
   "outputs": [],
   "source": [
    "val_preds2_ref = val_preds2 + 1"
   ]
  },
  {
   "cell_type": "code",
   "execution_count": 88,
   "metadata": {},
   "outputs": [
    {
     "name": "stdout",
     "output_type": "stream",
     "text": [
      "              precision    recall  f1-score   support\n",
      "\n",
      "         1.0       0.65      0.65      0.65     33118\n",
      "         2.0       0.28      0.46      0.35     27409\n",
      "         3.0       0.84      0.67      0.75     91892\n",
      "\n",
      "    accuracy                           0.63    152419\n",
      "   macro avg       0.59      0.60      0.58    152419\n",
      "weighted avg       0.70      0.63      0.65    152419\n",
      "\n"
     ]
    }
   ],
   "source": [
    "print(classification_report(y_val.values, val_preds2_ref))"
   ]
  },
  {
   "cell_type": "code",
   "execution_count": null,
   "metadata": {},
   "outputs": [],
   "source": []
  }
 ],
 "metadata": {
  "kernelspec": {
   "display_name": "python3 (nepal-env)",
   "language": "python",
   "name": "nepal-env"
  },
  "language_info": {
   "codemirror_mode": {
    "name": "ipython",
    "version": 3
   },
   "file_extension": ".py",
   "mimetype": "text/x-python",
   "name": "python",
   "nbconvert_exporter": "python",
   "pygments_lexer": "ipython3",
   "version": "3.7.7"
  }
 },
 "nbformat": 4,
 "nbformat_minor": 4
}
