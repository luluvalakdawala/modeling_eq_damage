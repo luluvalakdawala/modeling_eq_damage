{
 "cells": [
  {
   "cell_type": "markdown",
   "metadata": {},
   "source": [
    "### First model iterations\n",
    "In this notebook i start iterating through classification models"
   ]
  },
  {
   "cell_type": "code",
   "execution_count": 1,
   "metadata": {},
   "outputs": [],
   "source": [
    "%load_ext autoreload\n",
    "%autoreload 2"
   ]
  },
  {
   "cell_type": "code",
   "execution_count": 2,
   "metadata": {},
   "outputs": [],
   "source": [
    "import os, sys\n",
    "import numpy as np\n",
    "import pandas as pd\n",
    "import matplotlib.pyplot as plt\n",
    "import seaborn as sns\n",
    "%matplotlib inline\n",
    "import warnings\n",
    "warnings.filterwarnings('ignore')\n",
    "\n",
    "module_path = os.path.abspath(os.path.join(os.pardir, os.pardir))\n",
    "if module_path not in sys.path:\n",
    "    sys.path.append(module_path)\n",
    "\n",
    "from src import cleaning_functions as cfs\n",
    "from src import preprocessing_functions as pfs\n",
    "from sklearn.model_selection import train_test_split, GridSearchCV\n",
    "from sklearn.preprocessing import OneHotEncoder\n",
    "from imblearn.under_sampling import RandomUnderSampler\n",
    "from sklearn.tree import DecisionTreeClassifier, DecisionTreeRegressor\n",
    "from sklearn.metrics import confusion_matrix, plot_confusion_matrix\n",
    "from sklearn.ensemble import BaggingClassifier, RandomForestClassifier \n",
    "from sklearn.ensemble import ExtraTreesClassifier, GradientBoostingClassifier\n",
    "from tensorflow.keras.models import Sequential\n",
    "from tensorflow.keras.layers import Dense, Dropout\n",
    "from tensorflow.keras import regularizers\n",
    "from sklearn.model_selection import cross_val_score, cross_validate\n",
    "from sklearn.metrics import mean_squared_error, recall_score, f1_score, make_scorer"
   ]
  },
  {
   "cell_type": "markdown",
   "metadata": {},
   "source": [
    "### Bring in data"
   ]
  },
  {
   "cell_type": "code",
   "execution_count": 3,
   "metadata": {},
   "outputs": [],
   "source": [
    "df = cfs.cleaned_dataframe()"
   ]
  },
  {
   "cell_type": "code",
   "execution_count": 4,
   "metadata": {},
   "outputs": [],
   "source": [
    "y = df['target']\n",
    "X = df.drop('target', axis=1)\n",
    "X_train, X_test, y_train, y_test = train_test_split(X, y, random_state = 2015, test_size = .2)\n",
    "X_tr, X_val, y_tr, y_val = train_test_split(X_train, y_train, random_state = 2015, test_size = .25)\n",
    "rus = RandomUnderSampler(random_state=2015)\n",
    "X_tr_res, y_tr_res = rus.fit_resample(X_tr, y_tr)\n",
    "X_tr, X_val, X_test = pfs.ohe_train_and_test_features(X_tr_res, X_val, X_test)"
   ]
  },
  {
   "cell_type": "code",
   "execution_count": 5,
   "metadata": {},
   "outputs": [
    {
     "data": {
      "text/html": [
       "<div>\n",
       "<style scoped>\n",
       "    .dataframe tbody tr th:only-of-type {\n",
       "        vertical-align: middle;\n",
       "    }\n",
       "\n",
       "    .dataframe tbody tr th {\n",
       "        vertical-align: top;\n",
       "    }\n",
       "\n",
       "    .dataframe thead th {\n",
       "        text-align: right;\n",
       "    }\n",
       "</style>\n",
       "<table border=\"1\" class=\"dataframe\">\n",
       "  <thead>\n",
       "    <tr style=\"text-align: right;\">\n",
       "      <th></th>\n",
       "      <th>district_id</th>\n",
       "      <th>vdcmun_id</th>\n",
       "      <th>ward_id</th>\n",
       "      <th>count_floors_pre_eq</th>\n",
       "      <th>age_building</th>\n",
       "      <th>plinth_area_sq_ft</th>\n",
       "      <th>height_ft_pre_eq</th>\n",
       "      <th>has_superstructure_adobe_mud</th>\n",
       "      <th>has_superstructure_mud_mortar_stone</th>\n",
       "      <th>has_superstructure_stone_flag</th>\n",
       "      <th>...</th>\n",
       "      <th>has_secondary_use_hotel</th>\n",
       "      <th>has_secondary_use_rental</th>\n",
       "      <th>has_secondary_use_institution</th>\n",
       "      <th>has_secondary_use_school</th>\n",
       "      <th>has_secondary_use_industry</th>\n",
       "      <th>has_secondary_use_health_post</th>\n",
       "      <th>has_secondary_use_gov_office</th>\n",
       "      <th>has_secondary_use_use_police</th>\n",
       "      <th>has_secondary_use_other</th>\n",
       "      <th>target</th>\n",
       "    </tr>\n",
       "  </thead>\n",
       "  <tbody>\n",
       "    <tr>\n",
       "      <th>count</th>\n",
       "      <td>762093.000000</td>\n",
       "      <td>762093.000000</td>\n",
       "      <td>762093.000000</td>\n",
       "      <td>762093.000000</td>\n",
       "      <td>762093.000000</td>\n",
       "      <td>762093.000000</td>\n",
       "      <td>762093.000000</td>\n",
       "      <td>762093.000000</td>\n",
       "      <td>762093.000000</td>\n",
       "      <td>762093.000000</td>\n",
       "      <td>...</td>\n",
       "      <td>762093.000000</td>\n",
       "      <td>762093.000000</td>\n",
       "      <td>762093.000000</td>\n",
       "      <td>762093.000000</td>\n",
       "      <td>762093.000000</td>\n",
       "      <td>762093.000000</td>\n",
       "      <td>762093.000000</td>\n",
       "      <td>762093.000000</td>\n",
       "      <td>762093.000000</td>\n",
       "      <td>762093.000000</td>\n",
       "    </tr>\n",
       "    <tr>\n",
       "      <th>mean</th>\n",
       "      <td>25.767919</td>\n",
       "      <td>2582.696729</td>\n",
       "      <td>258275.114520</td>\n",
       "      <td>2.087787</td>\n",
       "      <td>24.325059</td>\n",
       "      <td>406.673250</td>\n",
       "      <td>16.049422</td>\n",
       "      <td>0.042402</td>\n",
       "      <td>0.800270</td>\n",
       "      <td>0.035122</td>\n",
       "      <td>...</td>\n",
       "      <td>0.035090</td>\n",
       "      <td>0.008264</td>\n",
       "      <td>0.001161</td>\n",
       "      <td>0.000424</td>\n",
       "      <td>0.001164</td>\n",
       "      <td>0.000227</td>\n",
       "      <td>0.000186</td>\n",
       "      <td>0.000097</td>\n",
       "      <td>0.004490</td>\n",
       "      <td>2.385175</td>\n",
       "    </tr>\n",
       "    <tr>\n",
       "      <th>std</th>\n",
       "      <td>5.807569</td>\n",
       "      <td>581.174171</td>\n",
       "      <td>58117.488779</td>\n",
       "      <td>0.655105</td>\n",
       "      <td>65.034593</td>\n",
       "      <td>226.780292</td>\n",
       "      <td>5.493903</td>\n",
       "      <td>0.201504</td>\n",
       "      <td>0.399798</td>\n",
       "      <td>0.184088</td>\n",
       "      <td>...</td>\n",
       "      <td>0.184008</td>\n",
       "      <td>0.090531</td>\n",
       "      <td>0.034058</td>\n",
       "      <td>0.020583</td>\n",
       "      <td>0.034096</td>\n",
       "      <td>0.015065</td>\n",
       "      <td>0.013649</td>\n",
       "      <td>0.009854</td>\n",
       "      <td>0.066859</td>\n",
       "      <td>0.820149</td>\n",
       "    </tr>\n",
       "    <tr>\n",
       "      <th>min</th>\n",
       "      <td>12.000000</td>\n",
       "      <td>1201.000000</td>\n",
       "      <td>120101.000000</td>\n",
       "      <td>1.000000</td>\n",
       "      <td>0.000000</td>\n",
       "      <td>70.000000</td>\n",
       "      <td>6.000000</td>\n",
       "      <td>0.000000</td>\n",
       "      <td>0.000000</td>\n",
       "      <td>0.000000</td>\n",
       "      <td>...</td>\n",
       "      <td>0.000000</td>\n",
       "      <td>0.000000</td>\n",
       "      <td>0.000000</td>\n",
       "      <td>0.000000</td>\n",
       "      <td>0.000000</td>\n",
       "      <td>0.000000</td>\n",
       "      <td>0.000000</td>\n",
       "      <td>0.000000</td>\n",
       "      <td>0.000000</td>\n",
       "      <td>1.000000</td>\n",
       "    </tr>\n",
       "    <tr>\n",
       "      <th>25%</th>\n",
       "      <td>22.000000</td>\n",
       "      <td>2204.000000</td>\n",
       "      <td>220402.000000</td>\n",
       "      <td>2.000000</td>\n",
       "      <td>9.000000</td>\n",
       "      <td>280.000000</td>\n",
       "      <td>12.000000</td>\n",
       "      <td>0.000000</td>\n",
       "      <td>1.000000</td>\n",
       "      <td>0.000000</td>\n",
       "      <td>...</td>\n",
       "      <td>0.000000</td>\n",
       "      <td>0.000000</td>\n",
       "      <td>0.000000</td>\n",
       "      <td>0.000000</td>\n",
       "      <td>0.000000</td>\n",
       "      <td>0.000000</td>\n",
       "      <td>0.000000</td>\n",
       "      <td>0.000000</td>\n",
       "      <td>0.000000</td>\n",
       "      <td>2.000000</td>\n",
       "    </tr>\n",
       "    <tr>\n",
       "      <th>50%</th>\n",
       "      <td>24.000000</td>\n",
       "      <td>2410.000000</td>\n",
       "      <td>241004.000000</td>\n",
       "      <td>2.000000</td>\n",
       "      <td>16.000000</td>\n",
       "      <td>358.000000</td>\n",
       "      <td>16.000000</td>\n",
       "      <td>0.000000</td>\n",
       "      <td>1.000000</td>\n",
       "      <td>0.000000</td>\n",
       "      <td>...</td>\n",
       "      <td>0.000000</td>\n",
       "      <td>0.000000</td>\n",
       "      <td>0.000000</td>\n",
       "      <td>0.000000</td>\n",
       "      <td>0.000000</td>\n",
       "      <td>0.000000</td>\n",
       "      <td>0.000000</td>\n",
       "      <td>0.000000</td>\n",
       "      <td>0.000000</td>\n",
       "      <td>3.000000</td>\n",
       "    </tr>\n",
       "    <tr>\n",
       "      <th>75%</th>\n",
       "      <td>30.000000</td>\n",
       "      <td>3010.000000</td>\n",
       "      <td>301006.000000</td>\n",
       "      <td>2.000000</td>\n",
       "      <td>27.000000</td>\n",
       "      <td>470.000000</td>\n",
       "      <td>18.000000</td>\n",
       "      <td>0.000000</td>\n",
       "      <td>1.000000</td>\n",
       "      <td>0.000000</td>\n",
       "      <td>...</td>\n",
       "      <td>0.000000</td>\n",
       "      <td>0.000000</td>\n",
       "      <td>0.000000</td>\n",
       "      <td>0.000000</td>\n",
       "      <td>0.000000</td>\n",
       "      <td>0.000000</td>\n",
       "      <td>0.000000</td>\n",
       "      <td>0.000000</td>\n",
       "      <td>0.000000</td>\n",
       "      <td>3.000000</td>\n",
       "    </tr>\n",
       "    <tr>\n",
       "      <th>max</th>\n",
       "      <td>36.000000</td>\n",
       "      <td>3611.000000</td>\n",
       "      <td>361108.000000</td>\n",
       "      <td>9.000000</td>\n",
       "      <td>999.000000</td>\n",
       "      <td>5000.000000</td>\n",
       "      <td>99.000000</td>\n",
       "      <td>1.000000</td>\n",
       "      <td>1.000000</td>\n",
       "      <td>1.000000</td>\n",
       "      <td>...</td>\n",
       "      <td>1.000000</td>\n",
       "      <td>1.000000</td>\n",
       "      <td>1.000000</td>\n",
       "      <td>1.000000</td>\n",
       "      <td>1.000000</td>\n",
       "      <td>1.000000</td>\n",
       "      <td>1.000000</td>\n",
       "      <td>1.000000</td>\n",
       "      <td>1.000000</td>\n",
       "      <td>3.000000</td>\n",
       "    </tr>\n",
       "  </tbody>\n",
       "</table>\n",
       "<p>8 rows × 31 columns</p>\n",
       "</div>"
      ],
      "text/plain": [
       "         district_id      vdcmun_id        ward_id  count_floors_pre_eq  \\\n",
       "count  762093.000000  762093.000000  762093.000000        762093.000000   \n",
       "mean       25.767919    2582.696729  258275.114520             2.087787   \n",
       "std         5.807569     581.174171   58117.488779             0.655105   \n",
       "min        12.000000    1201.000000  120101.000000             1.000000   \n",
       "25%        22.000000    2204.000000  220402.000000             2.000000   \n",
       "50%        24.000000    2410.000000  241004.000000             2.000000   \n",
       "75%        30.000000    3010.000000  301006.000000             2.000000   \n",
       "max        36.000000    3611.000000  361108.000000             9.000000   \n",
       "\n",
       "        age_building  plinth_area_sq_ft  height_ft_pre_eq  \\\n",
       "count  762093.000000      762093.000000     762093.000000   \n",
       "mean       24.325059         406.673250         16.049422   \n",
       "std        65.034593         226.780292          5.493903   \n",
       "min         0.000000          70.000000          6.000000   \n",
       "25%         9.000000         280.000000         12.000000   \n",
       "50%        16.000000         358.000000         16.000000   \n",
       "75%        27.000000         470.000000         18.000000   \n",
       "max       999.000000        5000.000000         99.000000   \n",
       "\n",
       "       has_superstructure_adobe_mud  has_superstructure_mud_mortar_stone  \\\n",
       "count                 762093.000000                        762093.000000   \n",
       "mean                       0.042402                             0.800270   \n",
       "std                        0.201504                             0.399798   \n",
       "min                        0.000000                             0.000000   \n",
       "25%                        0.000000                             1.000000   \n",
       "50%                        0.000000                             1.000000   \n",
       "75%                        0.000000                             1.000000   \n",
       "max                        1.000000                             1.000000   \n",
       "\n",
       "       has_superstructure_stone_flag  ...  has_secondary_use_hotel  \\\n",
       "count                  762093.000000  ...            762093.000000   \n",
       "mean                        0.035122  ...                 0.035090   \n",
       "std                         0.184088  ...                 0.184008   \n",
       "min                         0.000000  ...                 0.000000   \n",
       "25%                         0.000000  ...                 0.000000   \n",
       "50%                         0.000000  ...                 0.000000   \n",
       "75%                         0.000000  ...                 0.000000   \n",
       "max                         1.000000  ...                 1.000000   \n",
       "\n",
       "       has_secondary_use_rental  has_secondary_use_institution  \\\n",
       "count             762093.000000                  762093.000000   \n",
       "mean                   0.008264                       0.001161   \n",
       "std                    0.090531                       0.034058   \n",
       "min                    0.000000                       0.000000   \n",
       "25%                    0.000000                       0.000000   \n",
       "50%                    0.000000                       0.000000   \n",
       "75%                    0.000000                       0.000000   \n",
       "max                    1.000000                       1.000000   \n",
       "\n",
       "       has_secondary_use_school  has_secondary_use_industry  \\\n",
       "count             762093.000000               762093.000000   \n",
       "mean                   0.000424                    0.001164   \n",
       "std                    0.020583                    0.034096   \n",
       "min                    0.000000                    0.000000   \n",
       "25%                    0.000000                    0.000000   \n",
       "50%                    0.000000                    0.000000   \n",
       "75%                    0.000000                    0.000000   \n",
       "max                    1.000000                    1.000000   \n",
       "\n",
       "       has_secondary_use_health_post  has_secondary_use_gov_office  \\\n",
       "count                  762093.000000                 762093.000000   \n",
       "mean                        0.000227                      0.000186   \n",
       "std                         0.015065                      0.013649   \n",
       "min                         0.000000                      0.000000   \n",
       "25%                         0.000000                      0.000000   \n",
       "50%                         0.000000                      0.000000   \n",
       "75%                         0.000000                      0.000000   \n",
       "max                         1.000000                      1.000000   \n",
       "\n",
       "       has_secondary_use_use_police  has_secondary_use_other         target  \n",
       "count                 762093.000000            762093.000000  762093.000000  \n",
       "mean                       0.000097                 0.004490       2.385175  \n",
       "std                        0.009854                 0.066859       0.820149  \n",
       "min                        0.000000                 0.000000       1.000000  \n",
       "25%                        0.000000                 0.000000       2.000000  \n",
       "50%                        0.000000                 0.000000       3.000000  \n",
       "75%                        0.000000                 0.000000       3.000000  \n",
       "max                        1.000000                 1.000000       3.000000  \n",
       "\n",
       "[8 rows x 31 columns]"
      ]
     },
     "execution_count": 5,
     "metadata": {},
     "output_type": "execute_result"
    }
   ],
   "source": [
    "df.describe()"
   ]
  },
  {
   "cell_type": "code",
   "execution_count": 31,
   "metadata": {},
   "outputs": [],
   "source": [
    "def recall_score_class3(y_true, y_pred):\n",
    "    return recall_score(y_true, y_pred, average=None)[2]\n",
    "\n",
    "def scorer_recall3():\n",
    "    scorer = make_scorer(recall_score_class3)\n",
    "    return scorer\n",
    "\n",
    "def f1_score_class3(y_true, y_pred):\n",
    "    return f1_score(y_true, y_pred, average=None)[2]\n",
    "\n",
    "def scorer_f13():\n",
    "    scorer = make_scorer(f1_score_class3)\n",
    "    return scorer\n",
    "\n",
    "recall3 = scorer_recall3()\n",
    "f13 = scorer_f13()"
   ]
  },
  {
   "cell_type": "markdown",
   "metadata": {},
   "source": [
    "### Modeling with ensemble classifiers\n",
    "#### first up bagging"
   ]
  },
  {
   "cell_type": "code",
   "execution_count": 7,
   "metadata": {},
   "outputs": [
    {
     "name": "stdout",
     "output_type": "stream",
     "text": [
      "Recall Score for class 3 :  [0.66604361 0.67426519 0.67144323]\n"
     ]
    }
   ],
   "source": [
    "bgc = BaggingClassifier(random_state=2015)\n",
    "print('Recall Score for class 3 : ', cross_val_score(bgc, X_tr, y_tr_res, scoring=recall3, cv=3))"
   ]
  },
  {
   "cell_type": "code",
   "execution_count": 8,
   "metadata": {},
   "outputs": [
    {
     "name": "stdout",
     "output_type": "stream",
     "text": [
      "Recall Score for class 3 :  [0.69774601 0.70398739 0.70292458]\n"
     ]
    }
   ],
   "source": [
    "bgc2 = BaggingClassifier(n_estimators=100, random_state=2015 )\n",
    "print('Recall Score for class 3 : ', cross_val_score(bgc2, X_tr, y_tr_res, scoring=recall3, cv=3))"
   ]
  },
  {
   "cell_type": "markdown",
   "metadata": {},
   "source": [
    "that took quite some time(7 mins), slightly high bias (missed 30% of target), but low variance between these cv folds!"
   ]
  },
  {
   "cell_type": "code",
   "execution_count": 27,
   "metadata": {},
   "outputs": [
    {
     "data": {
      "text/plain": [
       "BaggingClassifier(n_estimators=100, random_state=2015)"
      ]
     },
     "execution_count": 27,
     "metadata": {},
     "output_type": "execute_result"
    }
   ],
   "source": [
    "bgc2.fit(X_tr, y_tr_res)"
   ]
  },
  {
   "cell_type": "code",
   "execution_count": 29,
   "metadata": {},
   "outputs": [
    {
     "data": {
      "text/plain": [
       "array([0.72513437, 0.55365026, 0.70702564])"
      ]
     },
     "execution_count": 29,
     "metadata": {},
     "output_type": "execute_result"
    }
   ],
   "source": [
    "recall_score(y_val, bgc2.predict(X_val), average=None)"
   ]
  },
  {
   "cell_type": "markdown",
   "metadata": {},
   "source": [
    "#### Let's try RandomForestClassifier next"
   ]
  },
  {
   "cell_type": "code",
   "execution_count": 30,
   "metadata": {},
   "outputs": [
    {
     "name": "stdout",
     "output_type": "stream",
     "text": [
      "Recall Score for Class 3 :  [0.70317024 0.70772557 0.70538005]\n"
     ]
    }
   ],
   "source": [
    "rfc1 = RandomForestClassifier(random_state=2015)\n",
    "print('Recall Score for Class 3 : ', cross_val_score(rfc1, X_tr, y_tr_res, scoring=recall3, cv=3))                                                   "
   ]
  },
  {
   "cell_type": "code",
   "execution_count": 33,
   "metadata": {},
   "outputs": [],
   "source": [
    "param_grid = {\n",
    "    'n_estimators': [50, 100, 150],\n",
    "    'max_features': ['sqrt', 'log2', 1],\n",
    "    'criterion': [\"gini\", \"entropy\"],\n",
    "    \n",
    "}\n",
    "\n",
    "# Initializing gridsearch with 3-fold cross-validation.\n",
    "#gs = GridSearchCV(estimator=rfc1, param_grid=param_grid, cv=3, scoring=recall3, verbose=1)"
   ]
  },
  {
   "cell_type": "code",
   "execution_count": 35,
   "metadata": {},
   "outputs": [],
   "source": [
    "#gs.fit(X_tr, y_tr_res)"
   ]
  },
  {
   "cell_type": "markdown",
   "metadata": {},
   "source": [
    "Tried running a grid search, but had to interrupt since the grid search kept running for over 30 minutes without any results. Must manually try changing hyperparameters and improve the recall for damage_grade 3"
   ]
  },
  {
   "cell_type": "code",
   "execution_count": 38,
   "metadata": {},
   "outputs": [
    {
     "data": {
      "text/plain": [
       "RandomForestClassifier(random_state=2015)"
      ]
     },
     "execution_count": 38,
     "metadata": {},
     "output_type": "execute_result"
    }
   ],
   "source": [
    "rfc1 = RandomForestClassifier(random_state=2015)\n",
    "rfc1.fit(X_tr, y_tr_res)"
   ]
  },
  {
   "cell_type": "code",
   "execution_count": 42,
   "metadata": {},
   "outputs": [
    {
     "data": {
      "image/png": "[encoded data removed]",
      "text/plain": [
       "<Figure size 576x576 with 2 Axes>"
      ]
     },
     "metadata": {
      "needs_background": "light"
     },
     "output_type": "display_data"
    }
   ],
   "source": [
    "f,ax = plt.subplots(figsize=((8,8)))\n",
    "plot_confusion_matrix(rfc1, X_val, y_val, normalize='true',\n",
    "                     display_labels=['Grade 1',\n",
    "                                      'Grade 2',\n",
    "                                      'Grade 3'], ax=ax, cmap='cividis')\n",
    "ax.set_title('Vanilla Random Forest', fontsize=15, pad=20)\n",
    "ax.tick_params(labelsize=14, labelcolor='olive' ,width=3, pad=5, length=4)\n",
    "ax.set_xlabel('Predicted Damage Grade', fontsize=14, labelpad=14, fontstyle='italic', color='grey')\n",
    "ax.set_ylabel('True Damage Grade', fontsize=14, labelpad=14, fontstyle='italic', color='grey')\n",
    "f.tight_layout()\n",
    "\n",
    "f.savefig('../../report/figures/fsm.png', format='png', transparent=True)\n",
    "f.show();"
   ]
  },
  {
   "cell_type": "code",
   "execution_count": 11,
   "metadata": {},
   "outputs": [
    {
     "data": {
      "text/plain": [
       "(245571, 69)"
      ]
     },
     "execution_count": 11,
     "metadata": {},
     "output_type": "execute_result"
    }
   ],
   "source": [
    "Xy_train = pd.concat([X_tr, y_tr_res], axis=1)\n",
    "Xy_train.shape"
   ]
  },
  {
   "cell_type": "code",
   "execution_count": 12,
   "metadata": {},
   "outputs": [],
   "source": [
    "Xy_train_resampled = Xy_train.sample(frac=.4, random_state=2015)"
   ]
  },
  {
   "cell_type": "code",
   "execution_count": 17,
   "metadata": {},
   "outputs": [
    {
     "data": {
      "text/plain": [
       "3.0    32881\n",
       "2.0    32785\n",
       "1.0    32562\n",
       "Name: target, dtype: int64"
      ]
     },
     "execution_count": 17,
     "metadata": {},
     "output_type": "execute_result"
    }
   ],
   "source": [
    "Xy_train_resampled.target.value_counts()"
   ]
  },
  {
   "cell_type": "code",
   "execution_count": 18,
   "metadata": {},
   "outputs": [],
   "source": [
    "X_train_red = Xy_train_resampled.drop('target', axis =1)\n",
    "y_train_red = Xy_train_resampled['target']"
   ]
  },
  {
   "cell_type": "code",
   "execution_count": 20,
   "metadata": {},
   "outputs": [],
   "source": [
    "param_grid = {\n",
    "    'n_estimators': [50, 100, 150],\n",
    "    'max_features': ['sqrt', 'log2', 1]\n",
    "}"
   ]
  },
  {
   "cell_type": "code",
   "execution_count": 21,
   "metadata": {},
   "outputs": [],
   "source": [
    "rf = RandomForestClassifier(random_state=2015)\n",
    "gs = GridSearchCV(rf, param_grid=param_grid, scoring=recall3, cv=3 )"
   ]
  },
  {
   "cell_type": "code",
   "execution_count": 23,
   "metadata": {},
   "outputs": [
    {
     "data": {
      "text/plain": [
       "GridSearchCV(cv=3, estimator=RandomForestClassifier(random_state=2015),\n",
       "             param_grid={'max_features': ['sqrt', 'log2', 1],\n",
       "                         'n_estimators': [50, 100, 150]},\n",
       "             scoring=make_scorer(recall_score_class3))"
      ]
     },
     "execution_count": 23,
     "metadata": {},
     "output_type": "execute_result"
    }
   ],
   "source": [
    "gs.fit(X_train_red, y_train_red)"
   ]
  },
  {
   "cell_type": "code",
   "execution_count": 24,
   "metadata": {
    "scrolled": true
   },
   "outputs": [
    {
     "data": {
      "text/plain": [
       "{'scoring': make_scorer(recall_score_class3),\n",
       " 'estimator': RandomForestClassifier(random_state=2015),\n",
       " 'n_jobs': None,\n",
       " 'iid': 'deprecated',\n",
       " 'refit': True,\n",
       " 'cv': 3,\n",
       " 'verbose': 0,\n",
       " 'pre_dispatch': '2*n_jobs',\n",
       " 'error_score': nan,\n",
       " 'return_train_score': False,\n",
       " 'param_grid': {'n_estimators': [50, 100, 150],\n",
       "  'max_features': ['sqrt', 'log2', 1]},\n",
       " 'multimetric_': False,\n",
       " 'best_index_': 2,\n",
       " 'best_score_': 0.7038716148228258,\n",
       " 'best_params_': {'max_features': 'sqrt', 'n_estimators': 150},\n",
       " 'best_estimator_': RandomForestClassifier(max_features='sqrt', n_estimators=150, random_state=2015),\n",
       " 'refit_time_': 22.957879781723022,\n",
       " 'scorer_': make_scorer(recall_score_class3),\n",
       " 'cv_results_': {'mean_fit_time': array([ 4.35823456,  8.7947251 , 13.86573736,  4.30581093,  8.57244515,\n",
       "         12.90090799,  3.31211599,  6.64144373,  9.91731238]),\n",
       "  'std_fit_time': array([0.01499735, 0.06212084, 0.06620095, 0.02779853, 0.01698036,\n",
       "         0.05219482, 0.01032622, 0.03819095, 0.08068718]),\n",
       "  'mean_score_time': array([0.45064632, 0.89203866, 1.40404733, 0.50195932, 1.02807196,\n",
       "         1.49282304, 0.55603464, 1.0602603 , 1.60314504]),\n",
       "  'std_score_time': array([0.00455211, 0.00855277, 0.01079827, 0.01049005, 0.02657292,\n",
       "         0.04589699, 0.0128025 , 0.00049073, 0.03554564]),\n",
       "  'param_max_features': masked_array(data=['sqrt', 'sqrt', 'sqrt', 'log2', 'log2', 'log2', 1, 1,\n",
       "                     1],\n",
       "               mask=[False, False, False, False, False, False, False, False,\n",
       "                     False],\n",
       "         fill_value='?',\n",
       "              dtype=object),\n",
       "  'param_n_estimators': masked_array(data=[50, 100, 150, 50, 100, 150, 50, 100, 150],\n",
       "               mask=[False, False, False, False, False, False, False, False,\n",
       "                     False],\n",
       "         fill_value='?',\n",
       "              dtype=object),\n",
       "  'params': [{'max_features': 'sqrt', 'n_estimators': 50},\n",
       "   {'max_features': 'sqrt', 'n_estimators': 100},\n",
       "   {'max_features': 'sqrt', 'n_estimators': 150},\n",
       "   {'max_features': 'log2', 'n_estimators': 50},\n",
       "   {'max_features': 'log2', 'n_estimators': 100},\n",
       "   {'max_features': 'log2', 'n_estimators': 150},\n",
       "   {'max_features': 1, 'n_estimators': 50},\n",
       "   {'max_features': 1, 'n_estimators': 100},\n",
       "   {'max_features': 1, 'n_estimators': 150}],\n",
       "  'split0_test_score': array([0.69635036, 0.7       , 0.70173358, 0.69014599, 0.69379562,\n",
       "         0.69607664, 0.68047445, 0.68366788, 0.68558394]),\n",
       "  'split1_test_score': array([0.69446218, 0.70075723, 0.70130463, 0.69063042, 0.69683423,\n",
       "         0.69747286, 0.68369674, 0.69072165, 0.68853207]),\n",
       "  'split2_test_score': array([0.70136861, 0.70666058, 0.70857664, 0.69990876, 0.70474453,\n",
       "         0.7044708 , 0.68759124, 0.69333942, 0.69662409]),\n",
       "  'mean_test_score': array([0.69739372, 0.7024726 , 0.70387161, 0.69356172, 0.69845813,\n",
       "         0.6993401 , 0.68392081, 0.68924298, 0.6902467 ]),\n",
       "  'std_test_score': array([0.00291446, 0.00297744, 0.00333156, 0.00449239, 0.00461501,\n",
       "         0.00367246, 0.00290973, 0.00408448, 0.00466735]),\n",
       "  'rank_test_score': array([5, 2, 1, 6, 4, 3, 9, 8, 7], dtype=int32)},\n",
       " 'n_splits_': 3}"
      ]
     },
     "execution_count": 24,
     "metadata": {},
     "output_type": "execute_result"
    }
   ],
   "source": [
    "gs.__dict__"
   ]
  },
  {
   "cell_type": "code",
   "execution_count": 25,
   "metadata": {},
   "outputs": [
    {
     "data": {
      "text/plain": [
       "{'max_features': 'sqrt', 'n_estimators': 150}"
      ]
     },
     "execution_count": 25,
     "metadata": {},
     "output_type": "execute_result"
    }
   ],
   "source": [
    "gs.best_params_"
   ]
  },
  {
   "cell_type": "code",
   "execution_count": 26,
   "metadata": {},
   "outputs": [
    {
     "data": {
      "text/plain": [
       "RandomForestClassifier(max_features='sqrt', n_estimators=150, random_state=2015)"
      ]
     },
     "execution_count": 26,
     "metadata": {},
     "output_type": "execute_result"
    }
   ],
   "source": [
    "rfc2 = RandomForestClassifier(random_state=2015, max_features='sqrt', n_estimators= 150)\n",
    "rfc2.fit(X_tr, y_tr_res)"
   ]
  },
  {
   "cell_type": "code",
   "execution_count": 27,
   "metadata": {},
   "outputs": [
    {
     "name": "stdout",
     "output_type": "stream",
     "text": [
      "Recall Score :  [0.72280935 0.54733847 0.71031211]\n"
     ]
    }
   ],
   "source": [
    "print('Recall Score : ',recall_score(y_val, rfc2.predict(X_val), average=None))"
   ]
  },
  {
   "cell_type": "code",
   "execution_count": 28,
   "metadata": {},
   "outputs": [
    {
     "name": "stdout",
     "output_type": "stream",
     "text": [
      "Recall Score for Class 3 :  [0.70507605 0.70875174 0.70680935]\n"
     ]
    }
   ],
   "source": [
    "rfc3 = RandomForestClassifier(random_state=2015, max_features='sqrt', n_estimators= 300)\n",
    "print('Recall Score for Class 3 : ', cross_val_score(rfc3, X_tr, y_tr_res, scoring=recall3, cv=3)) "
   ]
  },
  {
   "cell_type": "code",
   "execution_count": 29,
   "metadata": {},
   "outputs": [
    {
     "data": {
      "text/plain": [
       "RandomForestClassifier(max_features='sqrt', n_estimators=300, random_state=2015)"
      ]
     },
     "execution_count": 29,
     "metadata": {},
     "output_type": "execute_result"
    }
   ],
   "source": [
    "rfc3.fit(X_tr, y_tr_res)"
   ]
  },
  {
   "cell_type": "code",
   "execution_count": 30,
   "metadata": {},
   "outputs": [
    {
     "name": "stdout",
     "output_type": "stream",
     "text": [
      "Recall Score :  [0.72244701 0.54690065 0.71159622]\n"
     ]
    }
   ],
   "source": [
    "print('Recall Score : ',recall_score(y_val, rfc3.predict(X_val), average=None))"
   ]
  },
  {
   "cell_type": "code",
   "execution_count": null,
   "metadata": {},
   "outputs": [],
   "source": []
  }
 ],
 "metadata": {
  "kernelspec": {
   "display_name": "python3 (nepal-env)",
   "language": "python",
   "name": "nepal-env"
  },
  "language_info": {
   "codemirror_mode": {
    "name": "ipython",
    "version": 3
   },
   "file_extension": ".py",
   "mimetype": "text/x-python",
   "name": "python",
   "nbconvert_exporter": "python",
   "pygments_lexer": "ipython3",
   "version": "3.7.7"
  }
 },
 "nbformat": 4,
 "nbformat_minor": 4
}
