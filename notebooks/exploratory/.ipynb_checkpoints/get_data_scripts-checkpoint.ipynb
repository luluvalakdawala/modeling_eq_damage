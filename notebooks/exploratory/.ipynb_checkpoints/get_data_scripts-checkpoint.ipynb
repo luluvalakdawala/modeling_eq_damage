{
 "cells": [
  {
   "cell_type": "code",
   "execution_count": null,
   "metadata": {},
   "outputs": [],
   "source": [
    "#! wget -P ../../data/raw \"https://eq2015.npc.gov.np/statics/v2/building_ownership_and_use_building_structure.zip\" --output-document=eq2015.zip\n",
    "#! unzip ../../eq2015.zip"
   ]
  }
 ],
 "metadata": {
  "kernelspec": {
   "display_name": "python3 (nepal-env)",
   "language": "python",
   "name": "nepal-env"
  },
  "language_info": {
   "codemirror_mode": {
    "name": "ipython",
    "version": 3
   },
   "file_extension": ".py",
   "mimetype": "text/x-python",
   "name": "python",
   "nbconvert_exporter": "python",
   "pygments_lexer": "ipython3",
   "version": "3.7.7"
  }
 },
 "nbformat": 4,
 "nbformat_minor": 4
}
